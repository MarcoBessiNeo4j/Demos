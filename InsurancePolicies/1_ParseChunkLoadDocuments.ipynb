{
 "cells": [
  {
   "cell_type": "markdown",
   "id": "3cb59233-c8ac-4b5c-99ce-821c8559faea",
   "metadata": {},
   "source": [
    "# Parse, Chunk and Load Documents "
   ]
  },
  {
   "cell_type": "markdown",
   "id": "c0240452-1a49-4960-b9eb-0d36baf1aea5",
   "metadata": {},
   "source": [
    "The following notebook executes three steps: \n",
    "- **Parsing and Chunking**: The first part of the notebook parses and chunks the documents.  This is done by the [PyPDFLoader](https://python.langchain.com/v0.1/docs/modules/data_connection/document_loaders/pdf/#using-pypdf) of LangChain. More documentation can be found here: [LangChain API](https://api.python.langchain.com/en/latest/document_loaders/langchain_community.document_loaders.pdf.PyPDFLoader.html). \n",
    "- **Embeddings**: For every chunk an embeddings is created. For these an OpenAI Embeddings model is used: [text-embedding-3-small](https://platform.openai.com/docs/models/embeddings). \n",
    "- **Load to Database**: The Documents and Chunks are loaded to Neo4j. This is done using the [Python Driver](https://neo4j.com/docs/api/python-driver/current/) that enables querying from a Python script."
   ]
  },
  {
   "cell_type": "code",
   "execution_count": 9,
   "id": "07e9c561",
   "metadata": {},
   "outputs": [
    {
     "name": "stdout",
     "output_type": "stream",
     "text": [
      "\u001b[33mDEPRECATION: Configuring installation scheme with distutils config files is deprecated and will no longer work in the near future. If you are using a Homebrew or Linuxbrew Python, please see discussion at https://github.com/Homebrew/homebrew-core/issues/76621\u001b[0m\u001b[33m\n",
      "\u001b[0mCollecting pypdf\n",
      "  Downloading pypdf-4.2.0-py3-none-any.whl (290 kB)\n",
      "\u001b[2K     \u001b[38;2;114;156;31m━━━━━━━━━━━━━━━━━━━━━━━━━━━━━━━━━━━━━━━\u001b[0m \u001b[32m290.4/290.4 kB\u001b[0m \u001b[31m4.2 MB/s\u001b[0m eta \u001b[36m0:00:00\u001b[0m MB/s\u001b[0m eta \u001b[36m0:00:01\u001b[0m\n",
      "\u001b[?25hRequirement already satisfied: langchain_community in /opt/homebrew/lib/python3.9/site-packages (0.0.28)\n",
      "Requirement already satisfied: langchain in /opt/homebrew/lib/python3.9/site-packages (0.1.12)\n",
      "Requirement already satisfied: langchain_openai in /opt/homebrew/lib/python3.9/site-packages (0.0.8)\n",
      "Requirement already satisfied: IPython in /opt/homebrew/lib/python3.9/site-packages (8.5.0)\n",
      "Requirement already satisfied: neo4j in /opt/homebrew/lib/python3.9/site-packages (5.18.0)\n",
      "Requirement already satisfied: typing_extensions>=4.0 in /opt/homebrew/lib/python3.9/site-packages (from pypdf) (4.10.0)\n",
      "Requirement already satisfied: requests<3,>=2 in /opt/homebrew/lib/python3.9/site-packages (from langchain_community) (2.28.1)\n",
      "Requirement already satisfied: tenacity<9.0.0,>=8.1.0 in /opt/homebrew/lib/python3.9/site-packages (from langchain_community) (8.2.3)\n",
      "Requirement already satisfied: dataclasses-json<0.7,>=0.5.7 in /opt/homebrew/lib/python3.9/site-packages (from langchain_community) (0.6.4)\n",
      "Requirement already satisfied: PyYAML>=5.3 in /opt/homebrew/lib/python3.9/site-packages (from langchain_community) (6.0)\n",
      "Requirement already satisfied: numpy<2,>=1 in /opt/homebrew/lib/python3.9/site-packages (from langchain_community) (1.23.4)\n",
      "Requirement already satisfied: langsmith<0.2.0,>=0.1.0 in /opt/homebrew/lib/python3.9/site-packages (from langchain_community) (0.1.27)\n",
      "Requirement already satisfied: SQLAlchemy<3,>=1.4 in /opt/homebrew/lib/python3.9/site-packages (from langchain_community) (2.0.28)\n",
      "Requirement already satisfied: aiohttp<4.0.0,>=3.8.3 in /opt/homebrew/lib/python3.9/site-packages (from langchain_community) (3.9.3)\n",
      "Requirement already satisfied: langchain-core<0.2.0,>=0.1.31 in /opt/homebrew/lib/python3.9/site-packages (from langchain_community) (0.1.32)\n",
      "Requirement already satisfied: async-timeout<5.0.0,>=4.0.0 in /opt/homebrew/lib/python3.9/site-packages (from langchain) (4.0.3)\n",
      "Requirement already satisfied: pydantic<3,>=1 in /opt/homebrew/lib/python3.9/site-packages (from langchain) (2.6.4)\n",
      "Requirement already satisfied: jsonpatch<2.0,>=1.33 in /opt/homebrew/lib/python3.9/site-packages (from langchain) (1.33)\n",
      "Requirement already satisfied: langchain-text-splitters<0.1,>=0.0.1 in /opt/homebrew/lib/python3.9/site-packages (from langchain) (0.0.1)\n",
      "Requirement already satisfied: tiktoken<1,>=0.5.2 in /opt/homebrew/lib/python3.9/site-packages (from langchain_openai) (0.6.0)\n",
      "Requirement already satisfied: openai<2.0.0,>=1.10.0 in /opt/homebrew/lib/python3.9/site-packages (from langchain_openai) (1.14.1)\n",
      "Requirement already satisfied: traitlets>=5 in /opt/homebrew/lib/python3.9/site-packages (from IPython) (5.5.0)\n",
      "Requirement already satisfied: appnope in /opt/homebrew/lib/python3.9/site-packages (from IPython) (0.1.3)\n",
      "Requirement already satisfied: backcall in /opt/homebrew/lib/python3.9/site-packages (from IPython) (0.2.0)\n",
      "Requirement already satisfied: decorator in /opt/homebrew/lib/python3.9/site-packages (from IPython) (5.1.1)\n",
      "Requirement already satisfied: pygments>=2.4.0 in /opt/homebrew/lib/python3.9/site-packages (from IPython) (2.13.0)\n",
      "Requirement already satisfied: pickleshare in /opt/homebrew/lib/python3.9/site-packages (from IPython) (0.7.5)\n",
      "Requirement already satisfied: matplotlib-inline in /opt/homebrew/lib/python3.9/site-packages (from IPython) (0.1.6)\n",
      "Requirement already satisfied: prompt-toolkit<3.1.0,>3.0.1 in /opt/homebrew/lib/python3.9/site-packages (from IPython) (3.0.31)\n",
      "Requirement already satisfied: pexpect>4.3 in /opt/homebrew/lib/python3.9/site-packages (from IPython) (4.8.0)\n",
      "Requirement already satisfied: stack-data in /opt/homebrew/lib/python3.9/site-packages (from IPython) (0.5.1)\n",
      "Requirement already satisfied: jedi>=0.16 in /opt/homebrew/lib/python3.9/site-packages (from IPython) (0.18.1)\n",
      "Requirement already satisfied: pytz in /opt/homebrew/lib/python3.9/site-packages (from neo4j) (2022.6)\n",
      "Requirement already satisfied: aiosignal>=1.1.2 in /opt/homebrew/lib/python3.9/site-packages (from aiohttp<4.0.0,>=3.8.3->langchain_community) (1.3.1)\n",
      "Requirement already satisfied: multidict<7.0,>=4.5 in /opt/homebrew/lib/python3.9/site-packages (from aiohttp<4.0.0,>=3.8.3->langchain_community) (6.0.5)\n",
      "Requirement already satisfied: attrs>=17.3.0 in /opt/homebrew/lib/python3.9/site-packages (from aiohttp<4.0.0,>=3.8.3->langchain_community) (22.1.0)\n",
      "Requirement already satisfied: frozenlist>=1.1.1 in /opt/homebrew/lib/python3.9/site-packages (from aiohttp<4.0.0,>=3.8.3->langchain_community) (1.4.1)\n",
      "Requirement already satisfied: yarl<2.0,>=1.0 in /opt/homebrew/lib/python3.9/site-packages (from aiohttp<4.0.0,>=3.8.3->langchain_community) (1.9.4)\n",
      "Requirement already satisfied: marshmallow<4.0.0,>=3.18.0 in /opt/homebrew/lib/python3.9/site-packages (from dataclasses-json<0.7,>=0.5.7->langchain_community) (3.21.1)\n",
      "Requirement already satisfied: typing-inspect<1,>=0.4.0 in /opt/homebrew/lib/python3.9/site-packages (from dataclasses-json<0.7,>=0.5.7->langchain_community) (0.9.0)\n",
      "Requirement already satisfied: parso<0.9.0,>=0.8.0 in /opt/homebrew/lib/python3.9/site-packages (from jedi>=0.16->IPython) (0.8.3)\n",
      "Requirement already satisfied: jsonpointer>=1.9 in /opt/homebrew/lib/python3.9/site-packages (from jsonpatch<2.0,>=1.33->langchain) (2.4)\n",
      "Requirement already satisfied: anyio<5,>=3 in /opt/homebrew/lib/python3.9/site-packages (from langchain-core<0.2.0,>=0.1.31->langchain_community) (3.6.2)\n",
      "Requirement already satisfied: packaging<24.0,>=23.2 in /opt/homebrew/lib/python3.9/site-packages (from langchain-core<0.2.0,>=0.1.31->langchain_community) (23.2)\n",
      "Requirement already satisfied: orjson<4.0.0,>=3.9.14 in /opt/homebrew/lib/python3.9/site-packages (from langsmith<0.2.0,>=0.1.0->langchain_community) (3.9.15)\n",
      "Requirement already satisfied: tqdm>4 in /opt/homebrew/lib/python3.9/site-packages (from openai<2.0.0,>=1.10.0->langchain_openai) (4.64.1)\n",
      "Requirement already satisfied: httpx<1,>=0.23.0 in /opt/homebrew/lib/python3.9/site-packages (from openai<2.0.0,>=1.10.0->langchain_openai) (0.27.0)\n",
      "Requirement already satisfied: sniffio in /opt/homebrew/lib/python3.9/site-packages (from openai<2.0.0,>=1.10.0->langchain_openai) (1.3.0)\n",
      "Requirement already satisfied: distro<2,>=1.7.0 in /opt/homebrew/lib/python3.9/site-packages (from openai<2.0.0,>=1.10.0->langchain_openai) (1.9.0)\n",
      "Requirement already satisfied: ptyprocess>=0.5 in /opt/homebrew/lib/python3.9/site-packages (from pexpect>4.3->IPython) (0.7.0)\n",
      "Requirement already satisfied: wcwidth in /opt/homebrew/lib/python3.9/site-packages (from prompt-toolkit<3.1.0,>3.0.1->IPython) (0.2.5)\n",
      "Requirement already satisfied: pydantic-core==2.16.3 in /opt/homebrew/lib/python3.9/site-packages (from pydantic<3,>=1->langchain) (2.16.3)\n",
      "Requirement already satisfied: annotated-types>=0.4.0 in /opt/homebrew/lib/python3.9/site-packages (from pydantic<3,>=1->langchain) (0.6.0)\n",
      "Requirement already satisfied: charset-normalizer<3,>=2 in /opt/homebrew/lib/python3.9/site-packages (from requests<3,>=2->langchain_community) (2.1.1)\n",
      "Requirement already satisfied: urllib3<1.27,>=1.21.1 in /opt/homebrew/lib/python3.9/site-packages (from requests<3,>=2->langchain_community) (1.26.12)\n",
      "Requirement already satisfied: idna<4,>=2.5 in /opt/homebrew/lib/python3.9/site-packages (from requests<3,>=2->langchain_community) (3.4)\n",
      "Requirement already satisfied: certifi>=2017.4.17 in /opt/homebrew/lib/python3.9/site-packages (from requests<3,>=2->langchain_community) (2022.9.24)\n",
      "Requirement already satisfied: regex>=2022.1.18 in /opt/homebrew/lib/python3.9/site-packages (from tiktoken<1,>=0.5.2->langchain_openai) (2022.9.13)\n",
      "Requirement already satisfied: pure-eval in /opt/homebrew/lib/python3.9/site-packages (from stack-data->IPython) (0.2.2)\n",
      "Requirement already satisfied: executing in /opt/homebrew/lib/python3.9/site-packages (from stack-data->IPython) (1.1.1)\n",
      "Requirement already satisfied: asttokens in /opt/homebrew/lib/python3.9/site-packages (from stack-data->IPython) (2.0.8)\n"
     ]
    },
    {
     "name": "stdout",
     "output_type": "stream",
     "text": [
      "Requirement already satisfied: httpcore==1.* in /opt/homebrew/lib/python3.9/site-packages (from httpx<1,>=0.23.0->openai<2.0.0,>=1.10.0->langchain_openai) (1.0.4)\n",
      "Requirement already satisfied: h11<0.15,>=0.13 in /opt/homebrew/lib/python3.9/site-packages (from httpcore==1.*->httpx<1,>=0.23.0->openai<2.0.0,>=1.10.0->langchain_openai) (0.14.0)\n",
      "Requirement already satisfied: mypy-extensions>=0.3.0 in /opt/homebrew/lib/python3.9/site-packages (from typing-inspect<1,>=0.4.0->dataclasses-json<0.7,>=0.5.7->langchain_community) (1.0.0)\n",
      "Requirement already satisfied: six in /opt/homebrew/lib/python3.9/site-packages (from asttokens->stack-data->IPython) (1.16.0)\n",
      "Installing collected packages: pypdf\n",
      "\u001b[33m  DEPRECATION: Configuring installation scheme with distutils config files is deprecated and will no longer work in the near future. If you are using a Homebrew or Linuxbrew Python, please see discussion at https://github.com/Homebrew/homebrew-core/issues/76621\u001b[0m\u001b[33m\n",
      "\u001b[0m\u001b[33mDEPRECATION: Configuring installation scheme with distutils config files is deprecated and will no longer work in the near future. If you are using a Homebrew or Linuxbrew Python, please see discussion at https://github.com/Homebrew/homebrew-core/issues/76621\u001b[0m\u001b[33m\n",
      "\u001b[0mSuccessfully installed pypdf-4.2.0\n",
      "\n",
      "\u001b[1m[\u001b[0m\u001b[34;49mnotice\u001b[0m\u001b[1;39;49m]\u001b[0m\u001b[39;49m A new release of pip available: \u001b[0m\u001b[31;49m22.3.1\u001b[0m\u001b[39;49m -> \u001b[0m\u001b[32;49m24.0\u001b[0m\n",
      "\u001b[1m[\u001b[0m\u001b[34;49mnotice\u001b[0m\u001b[1;39;49m]\u001b[0m\u001b[39;49m To update, run: \u001b[0m\u001b[32;49m/opt/homebrew/opt/python@3.9/bin/python3.9 -m pip install --upgrade pip\u001b[0m\n",
      "Note: you may need to restart the kernel to use updated packages.\n"
     ]
    }
   ],
   "source": [
    "%pip install pypdf langchain_community langchain langchain_openai IPython neo4j"
   ]
  },
  {
   "cell_type": "code",
   "execution_count": 1,
   "id": "6c13ce51-9fce-4b71-a4c5-c4d077d0f0e6",
   "metadata": {},
   "outputs": [],
   "source": [
    "import pandas as pd\n",
    "import numpy as np\n",
    "from langchain_community.document_loaders import PyPDFLoader\n",
    "from langchain.text_splitter import RecursiveCharacterTextSplitter\n",
    "from langchain_openai import OpenAIEmbeddings\n",
    "import os\n",
    "from dotenv import load_dotenv\n",
    "from neo4j import GraphDatabase\n",
    "import ast\n",
    "from IPython.display import clear_output"
   ]
  },
  {
   "cell_type": "markdown",
   "id": "10119273-1820-4b65-a478-5af8eccef5ba",
   "metadata": {},
   "source": [
    "## Get Credentials"
   ]
  },
  {
   "cell_type": "code",
   "execution_count": 1,
   "id": "6cdad99f-c40f-4bee-a988-ac25e3a3f7ee",
   "metadata": {},
   "outputs": [
    {
     "ename": "NameError",
     "evalue": "name 'os' is not defined",
     "output_type": "error",
     "traceback": [
      "\u001b[0;31m---------------------------------------------------------------------------\u001b[0m",
      "\u001b[0;31mNameError\u001b[0m                                 Traceback (most recent call last)",
      "Cell \u001b[0;32mIn[1], line 1\u001b[0m\n\u001b[0;32m----> 1\u001b[0m \u001b[38;5;28;01mif\u001b[39;00m \u001b[43mos\u001b[49m\u001b[38;5;241m.\u001b[39mpath\u001b[38;5;241m.\u001b[39mexists(\u001b[38;5;124m'\u001b[39m\u001b[38;5;124mcredentials.env\u001b[39m\u001b[38;5;124m'\u001b[39m):\n\u001b[1;32m      2\u001b[0m     load_dotenv(\u001b[38;5;124m'\u001b[39m\u001b[38;5;124mcredentials.env\u001b[39m\u001b[38;5;124m'\u001b[39m, override\u001b[38;5;241m=\u001b[39m\u001b[38;5;28;01mTrue\u001b[39;00m)\n\u001b[1;32m      4\u001b[0m     \u001b[38;5;66;03m# Neo4j\u001b[39;00m\n",
      "\u001b[0;31mNameError\u001b[0m: name 'os' is not defined"
     ]
    }
   ],
   "source": [
    "if os.path.exists('credentials.env'):\n",
    "    load_dotenv('credentials.env', override=True)\n",
    "\n",
    "    # Neo4j\n",
    "    uri = os.getenv('NEO4J_URI')\n",
    "    username = os.getenv('NEO4J_USERNAME')\n",
    "    password = os.getenv('NEO4J_PASSWORD')\n",
    "    database = os.getenv('NEO4J_DATABASE')\n",
    "\n",
    "    # AI\n",
    "    OPENAI_API_KEY = os.getenv('OPENAI_API_KEY')\n",
    "    os.environ['OPENAI_API_KEY']=OPENAI_API_KEY\n",
    "else:\n",
    "    print(\"File 'credentials.env' not found.\")"
   ]
  },
  {
   "cell_type": "code",
   "execution_count": 49,
   "id": "de38cdf9-3b3e-4dac-bbb8-efff1117cffe",
   "metadata": {},
   "outputs": [],
   "source": [
    "documents_path = \"documents/\""
   ]
  },
  {
   "cell_type": "markdown",
   "id": "9705045c-c4cb-4160-89f3-1223cabc0f30",
   "metadata": {},
   "source": [
    "## Parse and Chunk Documents"
   ]
  },
  {
   "cell_type": "code",
   "execution_count": 4,
   "id": "3b4fedf1-81a4-4201-b64f-3df3de5aa036",
   "metadata": {},
   "outputs": [],
   "source": [
    "chunk_size = 1000\n",
    "chunk_overlap = 100"
   ]
  },
  {
   "cell_type": "code",
   "execution_count": 5,
   "id": "ddcdfc11-535c-4b5a-8b00-c445d2d18573",
   "metadata": {},
   "outputs": [],
   "source": [
    "text_splitter = RecursiveCharacterTextSplitter(\n",
    "    chunk_size = chunk_size,\n",
    "    chunk_overlap  = chunk_overlap,\n",
    "    length_function = len,\n",
    "    is_separator_regex = False,\n",
    ")"
   ]
  },
  {
   "cell_type": "code",
   "execution_count": 10,
   "id": "c1b982eb-0356-44c6-b286-860bf614fdb6",
   "metadata": {},
   "outputs": [
    {
     "name": "stdout",
     "output_type": "stream",
     "text": [
      "Parsing: NN_zorg_vrij_basic_2024.pdf\n"
     ]
    }
   ],
   "source": [
    "directory = os.fsencode(documents_path)\n",
    "chunk_seq_id = 0\n",
    "chunks_with_metadata = []\n",
    "\n",
    "for doc in os.listdir(directory):\n",
    "    doc_name = os.fsdecode(doc)\n",
    "    print(f\"Parsing: {doc_name}\")\n",
    "    doc_path = documents_path + doc_name\n",
    "    loader = PyPDFLoader(doc_path)\n",
    "    pages = loader.load_and_split()\n",
    "    num_chunks = 0\n",
    "    for page in pages:\n",
    "        chunks = text_splitter.split_text(page.page_content)\n",
    "        for chunk in chunks:\n",
    "            d = {\n",
    "                'file': page.metadata['source'],\n",
    "                'page': page.metadata['page'],\n",
    "                'chunks': chunk,\n",
    "                'num_chuncks': len(chunks),\n",
    "                'chunk_seq_id': chunk_seq_id\n",
    "            }\n",
    "            chunk_seq_id += 1\n",
    "            num_chunks += 1\n",
    "            chunks_with_metadata.append(d.copy())\n",
    "    break\n",
    "    print(f\"chunked {len(pages)} pages in {num_chunks} chunks\")"
   ]
  },
  {
   "cell_type": "markdown",
   "id": "4c5b86ed-e7dd-4063-9826-ffaf0bf77fe6",
   "metadata": {},
   "source": [
    "Create a DataFrame of Chunks"
   ]
  },
  {
   "cell_type": "code",
   "execution_count": 13,
   "id": "90f9f7ca-e6ba-4fa3-83eb-50a294e3a32c",
   "metadata": {},
   "outputs": [],
   "source": [
    "df = pd.DataFrame.from_dict(chunks_with_metadata)"
   ]
  },
  {
   "cell_type": "code",
   "execution_count": 14,
   "id": "22c1d2a1-e43e-40c8-b305-7fc061896872",
   "metadata": {},
   "outputs": [
    {
     "data": {
      "text/html": [
       "<div>\n",
       "<style scoped>\n",
       "    .dataframe tbody tr th:only-of-type {\n",
       "        vertical-align: middle;\n",
       "    }\n",
       "\n",
       "    .dataframe tbody tr th {\n",
       "        vertical-align: top;\n",
       "    }\n",
       "\n",
       "    .dataframe thead th {\n",
       "        text-align: right;\n",
       "    }\n",
       "</style>\n",
       "<table border=\"1\" class=\"dataframe\">\n",
       "  <thead>\n",
       "    <tr style=\"text-align: right;\">\n",
       "      <th></th>\n",
       "      <th>file</th>\n",
       "      <th>page</th>\n",
       "      <th>chunks</th>\n",
       "      <th>num_chuncks</th>\n",
       "      <th>chunk_seq_id</th>\n",
       "    </tr>\n",
       "  </thead>\n",
       "  <tbody>\n",
       "    <tr>\n",
       "      <th>0</th>\n",
       "      <td>documents/NN_zorg_vrij_basic_2024.pdf</td>\n",
       "      <td>0</td>\n",
       "      <td>Reimbursements and terms and conditions for 20...</td>\n",
       "      <td>1</td>\n",
       "      <td>0</td>\n",
       "    </tr>\n",
       "    <tr>\n",
       "      <th>1</th>\n",
       "      <td>documents/NN_zorg_vrij_basic_2024.pdf</td>\n",
       "      <td>1</td>\n",
       "      <td>Abroad ..........................................</td>\n",
       "      <td>5</td>\n",
       "      <td>1</td>\n",
       "    </tr>\n",
       "    <tr>\n",
       "      <th>2</th>\n",
       "      <td>documents/NN_zorg_vrij_basic_2024.pdf</td>\n",
       "      <td>1</td>\n",
       "      <td>General practitioner ............................</td>\n",
       "      <td>5</td>\n",
       "      <td>2</td>\n",
       "    </tr>\n",
       "    <tr>\n",
       "      <th>3</th>\n",
       "      <td>documents/NN_zorg_vrij_basic_2024.pdf</td>\n",
       "      <td>1</td>\n",
       "      <td>Medical mental healthcare........................</td>\n",
       "      <td>5</td>\n",
       "      <td>3</td>\n",
       "    </tr>\n",
       "    <tr>\n",
       "      <th>4</th>\n",
       "      <td>documents/NN_zorg_vrij_basic_2024.pdf</td>\n",
       "      <td>1</td>\n",
       "      <td>Sensory impairment care..........................</td>\n",
       "      <td>5</td>\n",
       "      <td>4</td>\n",
       "    </tr>\n",
       "    <tr>\n",
       "      <th>...</th>\n",
       "      <td>...</td>\n",
       "      <td>...</td>\n",
       "      <td>...</td>\n",
       "      <td>...</td>\n",
       "      <td>...</td>\n",
       "    </tr>\n",
       "    <tr>\n",
       "      <th>771</th>\n",
       "      <td>documents/NN_zorg_vrij_basic_2024.pdf</td>\n",
       "      <td>202</td>\n",
       "      <td>assess whether we should change it. Such a rec...</td>\n",
       "      <td>4</td>\n",
       "      <td>771</td>\n",
       "    </tr>\n",
       "    <tr>\n",
       "      <th>772</th>\n",
       "      <td>documents/NN_zorg_vrij_basic_2024.pdf</td>\n",
       "      <td>203</td>\n",
       "      <td>Reimbursements and terms and conditions for 20...</td>\n",
       "      <td>2</td>\n",
       "      <td>772</td>\n",
       "    </tr>\n",
       "    <tr>\n",
       "      <th>773</th>\n",
       "      <td>documents/NN_zorg_vrij_basic_2024.pdf</td>\n",
       "      <td>203</td>\n",
       "      <td>(`Nederlandse Zorgautoriteit', NZa): Postbus 3...</td>\n",
       "      <td>2</td>\n",
       "      <td>773</td>\n",
       "    </tr>\n",
       "    <tr>\n",
       "      <th>774</th>\n",
       "      <td>documents/NN_zorg_vrij_basic_2024.pdf</td>\n",
       "      <td>204</td>\n",
       "      <td>Reimbursements and terms and conditions for 20...</td>\n",
       "      <td>2</td>\n",
       "      <td>774</td>\n",
       "    </tr>\n",
       "    <tr>\n",
       "      <th>775</th>\n",
       "      <td>documents/NN_zorg_vrij_basic_2024.pdf</td>\n",
       "      <td>204</td>\n",
       "      <td>`Nationale-Nederlanden Zorg Vrij' (`Combinatie...</td>\n",
       "      <td>2</td>\n",
       "      <td>775</td>\n",
       "    </tr>\n",
       "  </tbody>\n",
       "</table>\n",
       "<p>776 rows × 5 columns</p>\n",
       "</div>"
      ],
      "text/plain": [
       "                                      file  page  \\\n",
       "0    documents/NN_zorg_vrij_basic_2024.pdf     0   \n",
       "1    documents/NN_zorg_vrij_basic_2024.pdf     1   \n",
       "2    documents/NN_zorg_vrij_basic_2024.pdf     1   \n",
       "3    documents/NN_zorg_vrij_basic_2024.pdf     1   \n",
       "4    documents/NN_zorg_vrij_basic_2024.pdf     1   \n",
       "..                                     ...   ...   \n",
       "771  documents/NN_zorg_vrij_basic_2024.pdf   202   \n",
       "772  documents/NN_zorg_vrij_basic_2024.pdf   203   \n",
       "773  documents/NN_zorg_vrij_basic_2024.pdf   203   \n",
       "774  documents/NN_zorg_vrij_basic_2024.pdf   204   \n",
       "775  documents/NN_zorg_vrij_basic_2024.pdf   204   \n",
       "\n",
       "                                                chunks  num_chuncks  \\\n",
       "0    Reimbursements and terms and conditions for 20...            1   \n",
       "1    Abroad ..........................................            5   \n",
       "2    General practitioner ............................            5   \n",
       "3    Medical mental healthcare........................            5   \n",
       "4    Sensory impairment care..........................            5   \n",
       "..                                                 ...          ...   \n",
       "771  assess whether we should change it. Such a rec...            4   \n",
       "772  Reimbursements and terms and conditions for 20...            2   \n",
       "773  (`Nederlandse Zorgautoriteit', NZa): Postbus 3...            2   \n",
       "774  Reimbursements and terms and conditions for 20...            2   \n",
       "775  `Nationale-Nederlanden Zorg Vrij' (`Combinatie...            2   \n",
       "\n",
       "     chunk_seq_id  \n",
       "0               0  \n",
       "1               1  \n",
       "2               2  \n",
       "3               3  \n",
       "4               4  \n",
       "..            ...  \n",
       "771           771  \n",
       "772           772  \n",
       "773           773  \n",
       "774           774  \n",
       "775           775  \n",
       "\n",
       "[776 rows x 5 columns]"
      ]
     },
     "execution_count": 14,
     "metadata": {},
     "output_type": "execute_result"
    }
   ],
   "source": [
    "df"
   ]
  },
  {
   "cell_type": "markdown",
   "id": "7d3d272e-1a3f-40b8-a6f1-1df6feff98cf",
   "metadata": {},
   "source": [
    "## Create embeddings"
   ]
  },
  {
   "cell_type": "markdown",
   "id": "56eaf185-6c4d-45d4-9ad9-608d876bf4ad",
   "metadata": {},
   "source": [
    "Load an embedding model"
   ]
  },
  {
   "cell_type": "code",
   "execution_count": 15,
   "id": "c213c669-9faa-4c7f-ba78-71f304d75857",
   "metadata": {},
   "outputs": [],
   "source": [
    "model = 'text-embedding-3-small'"
   ]
  },
  {
   "cell_type": "code",
   "execution_count": 21,
   "id": "103c4c7e-7012-43b1-8fdd-cef8c9baaf55",
   "metadata": {},
   "outputs": [],
   "source": [
    "embeddings_model = OpenAIEmbeddings(\n",
    "    model = model,\n",
    "    openai_api_key = OPENAI_API_KEY\n",
    ")"
   ]
  },
  {
   "cell_type": "markdown",
   "id": "f8f72bec-6c2b-41ff-b37b-da9d703ccb7e",
   "metadata": {},
   "source": [
    "Add an embedding for every chunk in the DataFrame"
   ]
  },
  {
   "cell_type": "code",
   "execution_count": 22,
   "id": "e76345e9-469b-4f58-9f0d-9f40b0391a4d",
   "metadata": {},
   "outputs": [],
   "source": [
    "df['embedding'] = df['chunks'].apply(lambda x: embeddings_model.embed_query(x))"
   ]
  },
  {
   "cell_type": "markdown",
   "id": "a1c30da8-ab39-4a2d-9a40-639e70c081cd",
   "metadata": {},
   "source": [
    "## Create Neo4j Connection"
   ]
  },
  {
   "cell_type": "markdown",
   "id": "364c6342-1196-4465-a250-713ea5c6fa32",
   "metadata": {},
   "source": [
    "Setup the Python Driver for Neo4j with the loaded credentials"
   ]
  },
  {
   "cell_type": "code",
   "execution_count": 52,
   "id": "aaa87b3e-2d0d-46de-a2d6-9b16da985d5b",
   "metadata": {},
   "outputs": [],
   "source": [
    "class App:\n",
    "    def __init__(self, uri, user, password, database=None):\n",
    "        self.driver = GraphDatabase.driver(uri, auth=(user, password), database=database)\n",
    "        self.database = database\n",
    "\n",
    "    def close(self):\n",
    "        self.driver.close()\n",
    "\n",
    "    def query(self, query):\n",
    "        return self.driver.execute_query(query)\n",
    "\n",
    "    def query_params(self, query, parameters):\n",
    "        return self.driver.execute_query(query, parameters_=parameters)\n",
    "\n",
    "    def count_nodes_in_db(self):\n",
    "        query = \"MATCH (n) RETURN COUNT(n)\"\n",
    "        result = self.query(query)\n",
    "        (key, value) = result.records[0].items()[0]\n",
    "        return value\n",
    "\n",
    "    def remove_nodes_relationships(self):\n",
    "        query =\"\"\"\n",
    "            CALL apoc.periodic.iterate(\n",
    "                \"MATCH (c) RETURN c\",\n",
    "                \"WITH c DETACH DELETE c\",\n",
    "                {batchSize: 1000}\n",
    "            )\n",
    "        \"\"\"\n",
    "        result = self.query(query)\n",
    "\n",
    "    def remove_all_constraints(self):\n",
    "        query =\"\"\"\n",
    "            CALL apoc.schema.assert({}, {})\n",
    "        \"\"\"\n",
    "        result = self.query(query)"
   ]
  },
  {
   "cell_type": "code",
   "execution_count": 53,
   "id": "877bf96d-f0e1-457f-b7cd-89d24bfab21e",
   "metadata": {},
   "outputs": [],
   "source": [
    "\n",
    "app = App(uri, username, password, database)"
   ]
  },
  {
   "cell_type": "code",
   "execution_count": 54,
   "id": "141ab0f7-f84c-4a98-bda4-995db005efb8",
   "metadata": {},
   "outputs": [
    {
     "data": {
      "text/plain": [
       "200"
      ]
     },
     "execution_count": 54,
     "metadata": {},
     "output_type": "execute_result"
    }
   ],
   "source": [
    "app.count_nodes_in_db()"
   ]
  },
  {
   "cell_type": "markdown",
   "id": "9112f4bb-e5dc-4123-9431-fe7e521e01f4",
   "metadata": {},
   "source": [
    "## Load to Database"
   ]
  },
  {
   "cell_type": "markdown",
   "id": "41fea66b-519c-4696-855b-1b4c0e4c180f",
   "metadata": {},
   "source": [
    "Create some constraints"
   ]
  },
  {
   "cell_type": "code",
   "execution_count": 55,
   "id": "b90fdc57-84af-4539-9afa-2da42b438849",
   "metadata": {},
   "outputs": [
    {
     "data": {
      "text/plain": [
       "EagerResult(records=[], summary=<neo4j._work.summary.ResultSummary object at 0x30abbf940>, keys=[])"
      ]
     },
     "execution_count": 55,
     "metadata": {},
     "output_type": "execute_result"
    }
   ],
   "source": [
    "app.query(\"CREATE CONSTRAINT unique_policy IF NOT EXISTS FOR (p:Policy) REQUIRE p.id IS UNIQUE\")"
   ]
  },
  {
   "cell_type": "code",
   "execution_count": 56,
   "id": "9f6301ae-e666-4cda-af26-d23ebc9b60a7",
   "metadata": {},
   "outputs": [
    {
     "data": {
      "text/plain": [
       "EagerResult(records=[], summary=<neo4j._work.summary.ResultSummary object at 0x30b275dc0>, keys=[])"
      ]
     },
     "execution_count": 56,
     "metadata": {},
     "output_type": "execute_result"
    }
   ],
   "source": [
    "app.query(\"CREATE CONSTRAINT unique_chunk IF NOT EXISTS FOR (c:Chunk) REQUIRE c.id IS UNIQUE\")"
   ]
  },
  {
   "cell_type": "markdown",
   "id": "1249c8cb-bdbd-4c15-84d6-0bf9c4772576",
   "metadata": {},
   "source": [
    "### Load Policies Nodes to database"
   ]
  },
  {
   "cell_type": "markdown",
   "id": "4cc5cb9e-c572-4f6d-bd9a-91a34830c979",
   "metadata": {},
   "source": [
    "Create Dataframe from the policies/files"
   ]
  },
  {
   "cell_type": "code",
   "execution_count": 57,
   "id": "6a3566fc-f580-4ffa-ae72-18136ba443b4",
   "metadata": {},
   "outputs": [
    {
     "name": "stderr",
     "output_type": "stream",
     "text": [
      "/var/folders/5x/vvrb8x4s0bqcmqz62kyhhb880000gn/T/ipykernel_28518/2309944161.py:1: FutureWarning: In a future version of pandas all arguments of Series.drop_duplicates will be keyword-only.\n",
      "  policies_df = df['file'].drop_duplicates('first').copy()\n"
     ]
    },
    {
     "data": {
      "text/html": [
       "<div>\n",
       "<style scoped>\n",
       "    .dataframe tbody tr th:only-of-type {\n",
       "        vertical-align: middle;\n",
       "    }\n",
       "\n",
       "    .dataframe tbody tr th {\n",
       "        vertical-align: top;\n",
       "    }\n",
       "\n",
       "    .dataframe thead th {\n",
       "        text-align: right;\n",
       "    }\n",
       "</style>\n",
       "<table border=\"1\" class=\"dataframe\">\n",
       "  <thead>\n",
       "    <tr style=\"text-align: right;\">\n",
       "      <th></th>\n",
       "      <th>policy_id</th>\n",
       "      <th>file_location</th>\n",
       "      <th>file_name</th>\n",
       "    </tr>\n",
       "  </thead>\n",
       "  <tbody>\n",
       "    <tr>\n",
       "      <th>0</th>\n",
       "      <td>0</td>\n",
       "      <td>documents/NN_zorg_vrij_basic_2024.pdf</td>\n",
       "      <td>NN_zorg_vrij_basic_2024.pdf</td>\n",
       "    </tr>\n",
       "  </tbody>\n",
       "</table>\n",
       "</div>"
      ],
      "text/plain": [
       "   policy_id                          file_location  \\\n",
       "0          0  documents/NN_zorg_vrij_basic_2024.pdf   \n",
       "\n",
       "                     file_name  \n",
       "0  NN_zorg_vrij_basic_2024.pdf  "
      ]
     },
     "execution_count": 57,
     "metadata": {},
     "output_type": "execute_result"
    }
   ],
   "source": [
    "policies_df = df['file'].drop_duplicates('first').copy()\n",
    "policies_df = policies_df.reset_index().drop('index',axis=1).reset_index()\n",
    "policies_df = policies_df.rename(columns={\"index\": \"policy_id\", \"file\": \"file_location\"})\n",
    "policies_df['file_name'] = policies_df['file_location'].apply(lambda x: x.split('/')[-1])\n",
    "policies_df"
   ]
  },
  {
   "cell_type": "markdown",
   "id": "8b74c38e-44fd-4947-ad41-918fee9a0c6e",
   "metadata": {},
   "source": [
    "Get number of pages per file"
   ]
  },
  {
   "cell_type": "code",
   "execution_count": 58,
   "id": "03ebd200-a06e-4251-9de8-05a1f2a4db93",
   "metadata": {},
   "outputs": [],
   "source": [
    "df = pd.merge(df, policies_df, left_on='file', right_on='file_location', how='left').copy()"
   ]
  },
  {
   "cell_type": "code",
   "execution_count": 59,
   "id": "263acf5e-6472-49bf-9c21-db411bba39de",
   "metadata": {},
   "outputs": [
    {
     "data": {
      "text/html": [
       "<div>\n",
       "<style scoped>\n",
       "    .dataframe tbody tr th:only-of-type {\n",
       "        vertical-align: middle;\n",
       "    }\n",
       "\n",
       "    .dataframe tbody tr th {\n",
       "        vertical-align: top;\n",
       "    }\n",
       "\n",
       "    .dataframe thead th {\n",
       "        text-align: right;\n",
       "    }\n",
       "</style>\n",
       "<table border=\"1\" class=\"dataframe\">\n",
       "  <thead>\n",
       "    <tr style=\"text-align: right;\">\n",
       "      <th></th>\n",
       "      <th>file</th>\n",
       "      <th>page</th>\n",
       "      <th>chunks</th>\n",
       "      <th>num_chuncks</th>\n",
       "      <th>chunk_seq_id</th>\n",
       "      <th>embedding</th>\n",
       "      <th>policy_id</th>\n",
       "      <th>file_location</th>\n",
       "      <th>file_name</th>\n",
       "    </tr>\n",
       "  </thead>\n",
       "  <tbody>\n",
       "    <tr>\n",
       "      <th>0</th>\n",
       "      <td>documents/NN_zorg_vrij_basic_2024.pdf</td>\n",
       "      <td>0</td>\n",
       "      <td>Reimbursements and terms and conditions for 20...</td>\n",
       "      <td>1</td>\n",
       "      <td>0</td>\n",
       "      <td>[-0.017664135392465398, 0.0010989804845562235,...</td>\n",
       "      <td>0</td>\n",
       "      <td>documents/NN_zorg_vrij_basic_2024.pdf</td>\n",
       "      <td>NN_zorg_vrij_basic_2024.pdf</td>\n",
       "    </tr>\n",
       "    <tr>\n",
       "      <th>1</th>\n",
       "      <td>documents/NN_zorg_vrij_basic_2024.pdf</td>\n",
       "      <td>1</td>\n",
       "      <td>Abroad ..........................................</td>\n",
       "      <td>5</td>\n",
       "      <td>1</td>\n",
       "      <td>[0.009289972868684463, 0.011951055872454076, 0...</td>\n",
       "      <td>0</td>\n",
       "      <td>documents/NN_zorg_vrij_basic_2024.pdf</td>\n",
       "      <td>NN_zorg_vrij_basic_2024.pdf</td>\n",
       "    </tr>\n",
       "    <tr>\n",
       "      <th>2</th>\n",
       "      <td>documents/NN_zorg_vrij_basic_2024.pdf</td>\n",
       "      <td>1</td>\n",
       "      <td>General practitioner ............................</td>\n",
       "      <td>5</td>\n",
       "      <td>2</td>\n",
       "      <td>[0.03081734351206423, 0.03832021428989872, 0.1...</td>\n",
       "      <td>0</td>\n",
       "      <td>documents/NN_zorg_vrij_basic_2024.pdf</td>\n",
       "      <td>NN_zorg_vrij_basic_2024.pdf</td>\n",
       "    </tr>\n",
       "    <tr>\n",
       "      <th>3</th>\n",
       "      <td>documents/NN_zorg_vrij_basic_2024.pdf</td>\n",
       "      <td>1</td>\n",
       "      <td>Medical mental healthcare........................</td>\n",
       "      <td>5</td>\n",
       "      <td>3</td>\n",
       "      <td>[0.05817534559804301, 0.005862851320530374, 0....</td>\n",
       "      <td>0</td>\n",
       "      <td>documents/NN_zorg_vrij_basic_2024.pdf</td>\n",
       "      <td>NN_zorg_vrij_basic_2024.pdf</td>\n",
       "    </tr>\n",
       "    <tr>\n",
       "      <th>4</th>\n",
       "      <td>documents/NN_zorg_vrij_basic_2024.pdf</td>\n",
       "      <td>1</td>\n",
       "      <td>Sensory impairment care..........................</td>\n",
       "      <td>5</td>\n",
       "      <td>4</td>\n",
       "      <td>[0.04950871115614762, 0.003652064254791728, 0....</td>\n",
       "      <td>0</td>\n",
       "      <td>documents/NN_zorg_vrij_basic_2024.pdf</td>\n",
       "      <td>NN_zorg_vrij_basic_2024.pdf</td>\n",
       "    </tr>\n",
       "    <tr>\n",
       "      <th>...</th>\n",
       "      <td>...</td>\n",
       "      <td>...</td>\n",
       "      <td>...</td>\n",
       "      <td>...</td>\n",
       "      <td>...</td>\n",
       "      <td>...</td>\n",
       "      <td>...</td>\n",
       "      <td>...</td>\n",
       "      <td>...</td>\n",
       "    </tr>\n",
       "    <tr>\n",
       "      <th>771</th>\n",
       "      <td>documents/NN_zorg_vrij_basic_2024.pdf</td>\n",
       "      <td>202</td>\n",
       "      <td>assess whether we should change it. Such a rec...</td>\n",
       "      <td>4</td>\n",
       "      <td>771</td>\n",
       "      <td>[0.030318757627279064, 0.03105452667823687, 0....</td>\n",
       "      <td>0</td>\n",
       "      <td>documents/NN_zorg_vrij_basic_2024.pdf</td>\n",
       "      <td>NN_zorg_vrij_basic_2024.pdf</td>\n",
       "    </tr>\n",
       "    <tr>\n",
       "      <th>772</th>\n",
       "      <td>documents/NN_zorg_vrij_basic_2024.pdf</td>\n",
       "      <td>203</td>\n",
       "      <td>Reimbursements and terms and conditions for 20...</td>\n",
       "      <td>2</td>\n",
       "      <td>772</td>\n",
       "      <td>[0.002802086345248927, 0.03354124784343089, 0....</td>\n",
       "      <td>0</td>\n",
       "      <td>documents/NN_zorg_vrij_basic_2024.pdf</td>\n",
       "      <td>NN_zorg_vrij_basic_2024.pdf</td>\n",
       "    </tr>\n",
       "    <tr>\n",
       "      <th>773</th>\n",
       "      <td>documents/NN_zorg_vrij_basic_2024.pdf</td>\n",
       "      <td>203</td>\n",
       "      <td>(`Nederlandse Zorgautoriteit', NZa): Postbus 3...</td>\n",
       "      <td>2</td>\n",
       "      <td>773</td>\n",
       "      <td>[-0.012716539281772982, 0.03440676650553472, 0...</td>\n",
       "      <td>0</td>\n",
       "      <td>documents/NN_zorg_vrij_basic_2024.pdf</td>\n",
       "      <td>NN_zorg_vrij_basic_2024.pdf</td>\n",
       "    </tr>\n",
       "    <tr>\n",
       "      <th>774</th>\n",
       "      <td>documents/NN_zorg_vrij_basic_2024.pdf</td>\n",
       "      <td>204</td>\n",
       "      <td>Reimbursements and terms and conditions for 20...</td>\n",
       "      <td>2</td>\n",
       "      <td>774</td>\n",
       "      <td>[0.0028165730735622684, 0.03883166687510502, 0...</td>\n",
       "      <td>0</td>\n",
       "      <td>documents/NN_zorg_vrij_basic_2024.pdf</td>\n",
       "      <td>NN_zorg_vrij_basic_2024.pdf</td>\n",
       "    </tr>\n",
       "    <tr>\n",
       "      <th>775</th>\n",
       "      <td>documents/NN_zorg_vrij_basic_2024.pdf</td>\n",
       "      <td>204</td>\n",
       "      <td>`Nationale-Nederlanden Zorg Vrij' (`Combinatie...</td>\n",
       "      <td>2</td>\n",
       "      <td>775</td>\n",
       "      <td>[-0.00046713512143508994, 0.019054609753914542...</td>\n",
       "      <td>0</td>\n",
       "      <td>documents/NN_zorg_vrij_basic_2024.pdf</td>\n",
       "      <td>NN_zorg_vrij_basic_2024.pdf</td>\n",
       "    </tr>\n",
       "  </tbody>\n",
       "</table>\n",
       "<p>776 rows × 9 columns</p>\n",
       "</div>"
      ],
      "text/plain": [
       "                                      file  page  \\\n",
       "0    documents/NN_zorg_vrij_basic_2024.pdf     0   \n",
       "1    documents/NN_zorg_vrij_basic_2024.pdf     1   \n",
       "2    documents/NN_zorg_vrij_basic_2024.pdf     1   \n",
       "3    documents/NN_zorg_vrij_basic_2024.pdf     1   \n",
       "4    documents/NN_zorg_vrij_basic_2024.pdf     1   \n",
       "..                                     ...   ...   \n",
       "771  documents/NN_zorg_vrij_basic_2024.pdf   202   \n",
       "772  documents/NN_zorg_vrij_basic_2024.pdf   203   \n",
       "773  documents/NN_zorg_vrij_basic_2024.pdf   203   \n",
       "774  documents/NN_zorg_vrij_basic_2024.pdf   204   \n",
       "775  documents/NN_zorg_vrij_basic_2024.pdf   204   \n",
       "\n",
       "                                                chunks  num_chuncks  \\\n",
       "0    Reimbursements and terms and conditions for 20...            1   \n",
       "1    Abroad ..........................................            5   \n",
       "2    General practitioner ............................            5   \n",
       "3    Medical mental healthcare........................            5   \n",
       "4    Sensory impairment care..........................            5   \n",
       "..                                                 ...          ...   \n",
       "771  assess whether we should change it. Such a rec...            4   \n",
       "772  Reimbursements and terms and conditions for 20...            2   \n",
       "773  (`Nederlandse Zorgautoriteit', NZa): Postbus 3...            2   \n",
       "774  Reimbursements and terms and conditions for 20...            2   \n",
       "775  `Nationale-Nederlanden Zorg Vrij' (`Combinatie...            2   \n",
       "\n",
       "     chunk_seq_id                                          embedding  \\\n",
       "0               0  [-0.017664135392465398, 0.0010989804845562235,...   \n",
       "1               1  [0.009289972868684463, 0.011951055872454076, 0...   \n",
       "2               2  [0.03081734351206423, 0.03832021428989872, 0.1...   \n",
       "3               3  [0.05817534559804301, 0.005862851320530374, 0....   \n",
       "4               4  [0.04950871115614762, 0.003652064254791728, 0....   \n",
       "..            ...                                                ...   \n",
       "771           771  [0.030318757627279064, 0.03105452667823687, 0....   \n",
       "772           772  [0.002802086345248927, 0.03354124784343089, 0....   \n",
       "773           773  [-0.012716539281772982, 0.03440676650553472, 0...   \n",
       "774           774  [0.0028165730735622684, 0.03883166687510502, 0...   \n",
       "775           775  [-0.00046713512143508994, 0.019054609753914542...   \n",
       "\n",
       "     policy_id                          file_location  \\\n",
       "0            0  documents/NN_zorg_vrij_basic_2024.pdf   \n",
       "1            0  documents/NN_zorg_vrij_basic_2024.pdf   \n",
       "2            0  documents/NN_zorg_vrij_basic_2024.pdf   \n",
       "3            0  documents/NN_zorg_vrij_basic_2024.pdf   \n",
       "4            0  documents/NN_zorg_vrij_basic_2024.pdf   \n",
       "..         ...                                    ...   \n",
       "771          0  documents/NN_zorg_vrij_basic_2024.pdf   \n",
       "772          0  documents/NN_zorg_vrij_basic_2024.pdf   \n",
       "773          0  documents/NN_zorg_vrij_basic_2024.pdf   \n",
       "774          0  documents/NN_zorg_vrij_basic_2024.pdf   \n",
       "775          0  documents/NN_zorg_vrij_basic_2024.pdf   \n",
       "\n",
       "                       file_name  \n",
       "0    NN_zorg_vrij_basic_2024.pdf  \n",
       "1    NN_zorg_vrij_basic_2024.pdf  \n",
       "2    NN_zorg_vrij_basic_2024.pdf  \n",
       "3    NN_zorg_vrij_basic_2024.pdf  \n",
       "4    NN_zorg_vrij_basic_2024.pdf  \n",
       "..                           ...  \n",
       "771  NN_zorg_vrij_basic_2024.pdf  \n",
       "772  NN_zorg_vrij_basic_2024.pdf  \n",
       "773  NN_zorg_vrij_basic_2024.pdf  \n",
       "774  NN_zorg_vrij_basic_2024.pdf  \n",
       "775  NN_zorg_vrij_basic_2024.pdf  \n",
       "\n",
       "[776 rows x 9 columns]"
      ]
     },
     "execution_count": 59,
     "metadata": {},
     "output_type": "execute_result"
    }
   ],
   "source": [
    "df"
   ]
  },
  {
   "cell_type": "code",
   "execution_count": 61,
   "id": "89c5bd7e-7feb-429f-a36a-abc1e50ef13e",
   "metadata": {},
   "outputs": [],
   "source": [
    "pages_df = df.groupby(['policy_id', 'file_name']).max(['page'])['page'].apply(lambda x: x+1)"
   ]
  },
  {
   "cell_type": "code",
   "execution_count": 62,
   "id": "340c8f6c-1d66-4ed6-a706-16340eff6f60",
   "metadata": {},
   "outputs": [
    {
     "data": {
      "text/html": [
       "<div>\n",
       "<style scoped>\n",
       "    .dataframe tbody tr th:only-of-type {\n",
       "        vertical-align: middle;\n",
       "    }\n",
       "\n",
       "    .dataframe tbody tr th {\n",
       "        vertical-align: top;\n",
       "    }\n",
       "\n",
       "    .dataframe thead th {\n",
       "        text-align: right;\n",
       "    }\n",
       "</style>\n",
       "<table border=\"1\" class=\"dataframe\">\n",
       "  <thead>\n",
       "    <tr style=\"text-align: right;\">\n",
       "      <th></th>\n",
       "      <th>policy_id</th>\n",
       "      <th>file_location</th>\n",
       "      <th>file_name</th>\n",
       "      <th>page</th>\n",
       "    </tr>\n",
       "  </thead>\n",
       "  <tbody>\n",
       "    <tr>\n",
       "      <th>0</th>\n",
       "      <td>0</td>\n",
       "      <td>documents/NN_zorg_vrij_basic_2024.pdf</td>\n",
       "      <td>NN_zorg_vrij_basic_2024.pdf</td>\n",
       "      <td>205</td>\n",
       "    </tr>\n",
       "  </tbody>\n",
       "</table>\n",
       "</div>"
      ],
      "text/plain": [
       "   policy_id                          file_location  \\\n",
       "0          0  documents/NN_zorg_vrij_basic_2024.pdf   \n",
       "\n",
       "                     file_name  page  \n",
       "0  NN_zorg_vrij_basic_2024.pdf   205  "
      ]
     },
     "execution_count": 62,
     "metadata": {},
     "output_type": "execute_result"
    }
   ],
   "source": [
    "policies_df = pd.merge(policies_df, pages_df, on='policy_id', how='left')\n",
    "policies_df"
   ]
  },
  {
   "cell_type": "markdown",
   "id": "bd81c08e-d951-410a-8b20-2b36b97f1e7b",
   "metadata": {},
   "source": [
    "### Load the Policies"
   ]
  },
  {
   "cell_type": "code",
   "execution_count": 63,
   "id": "048d132b-c0d1-4282-b9ab-aea8a00a4a8c",
   "metadata": {},
   "outputs": [],
   "source": [
    "merge_file_query = \"\"\"\n",
    "    MERGE(mergedPolicy:Policy {id: $policy_id})\n",
    "        ON CREATE SET\n",
    "            mergedPolicy.file_location = $file_location,\n",
    "            mergedPolicy.file_name = $file_name,\n",
    "            mergedPolicy.pages = $file_pages\n",
    "    RETURN mergedPolicy\n",
    "\"\"\""
   ]
  },
  {
   "cell_type": "code",
   "execution_count": 64,
   "id": "32dbfc3d-0900-47fa-b0b7-b41d36ba7e9a",
   "metadata": {},
   "outputs": [
    {
     "name": "stdout",
     "output_type": "stream",
     "text": [
      "Loaded NN_zorg_vrij_basic_2024.pdf\n",
      "Progress:  100.0 %\n"
     ]
    }
   ],
   "source": [
    "for index, row in policies_df.iterrows():\n",
    "    clear_output(wait=True)\n",
    "    d = {\n",
    "        'file_location': row['file_location'],\n",
    "        'file_name': row['file_name'],\n",
    "        'policy_id': row['policy_id'],\n",
    "        'file_pages': row['page']\n",
    "    }\n",
    "    app.query_params(merge_file_query, d)\n",
    "    print(f\"Loaded {row['file_name']}\")\n",
    "    print(\"Progress: \", np.round((index+1)/policies_df.shape[0]*100,2), \"%\")"
   ]
  },
  {
   "cell_type": "markdown",
   "id": "920b65eb-a1e6-47cf-a1f2-a1ed3ed3cd59",
   "metadata": {},
   "source": [
    "### Load Chunk Nodes to database"
   ]
  },
  {
   "cell_type": "markdown",
   "id": "da740799-3ce3-4b73-8e15-c95b41487ab9",
   "metadata": {},
   "source": [
    "Create Dataframe for chunks"
   ]
  },
  {
   "cell_type": "code",
   "execution_count": 65,
   "id": "c285d41f-9c12-43a6-84c7-2b4950b072f9",
   "metadata": {},
   "outputs": [
    {
     "data": {
      "text/html": [
       "<div>\n",
       "<style scoped>\n",
       "    .dataframe tbody tr th:only-of-type {\n",
       "        vertical-align: middle;\n",
       "    }\n",
       "\n",
       "    .dataframe tbody tr th {\n",
       "        vertical-align: top;\n",
       "    }\n",
       "\n",
       "    .dataframe thead th {\n",
       "        text-align: right;\n",
       "    }\n",
       "</style>\n",
       "<table border=\"1\" class=\"dataframe\">\n",
       "  <thead>\n",
       "    <tr style=\"text-align: right;\">\n",
       "      <th></th>\n",
       "      <th>chunk_seq_id</th>\n",
       "      <th>num_chuncks</th>\n",
       "      <th>page</th>\n",
       "      <th>chunks</th>\n",
       "      <th>embedding</th>\n",
       "    </tr>\n",
       "  </thead>\n",
       "  <tbody>\n",
       "    <tr>\n",
       "      <th>0</th>\n",
       "      <td>0</td>\n",
       "      <td>1</td>\n",
       "      <td>0</td>\n",
       "      <td>Reimbursements and terms and conditions for 20...</td>\n",
       "      <td>[-0.017664135392465398, 0.0010989804845562235,...</td>\n",
       "    </tr>\n",
       "    <tr>\n",
       "      <th>1</th>\n",
       "      <td>1</td>\n",
       "      <td>5</td>\n",
       "      <td>1</td>\n",
       "      <td>Abroad ..........................................</td>\n",
       "      <td>[0.009289972868684463, 0.011951055872454076, 0...</td>\n",
       "    </tr>\n",
       "    <tr>\n",
       "      <th>2</th>\n",
       "      <td>2</td>\n",
       "      <td>5</td>\n",
       "      <td>1</td>\n",
       "      <td>General practitioner ............................</td>\n",
       "      <td>[0.03081734351206423, 0.03832021428989872, 0.1...</td>\n",
       "    </tr>\n",
       "    <tr>\n",
       "      <th>3</th>\n",
       "      <td>3</td>\n",
       "      <td>5</td>\n",
       "      <td>1</td>\n",
       "      <td>Medical mental healthcare........................</td>\n",
       "      <td>[0.05817534559804301, 0.005862851320530374, 0....</td>\n",
       "    </tr>\n",
       "    <tr>\n",
       "      <th>4</th>\n",
       "      <td>4</td>\n",
       "      <td>5</td>\n",
       "      <td>1</td>\n",
       "      <td>Sensory impairment care..........................</td>\n",
       "      <td>[0.04950871115614762, 0.003652064254791728, 0....</td>\n",
       "    </tr>\n",
       "    <tr>\n",
       "      <th>...</th>\n",
       "      <td>...</td>\n",
       "      <td>...</td>\n",
       "      <td>...</td>\n",
       "      <td>...</td>\n",
       "      <td>...</td>\n",
       "    </tr>\n",
       "    <tr>\n",
       "      <th>771</th>\n",
       "      <td>771</td>\n",
       "      <td>4</td>\n",
       "      <td>202</td>\n",
       "      <td>assess whether we should change it. Such a rec...</td>\n",
       "      <td>[0.030318757627279064, 0.03105452667823687, 0....</td>\n",
       "    </tr>\n",
       "    <tr>\n",
       "      <th>772</th>\n",
       "      <td>772</td>\n",
       "      <td>2</td>\n",
       "      <td>203</td>\n",
       "      <td>Reimbursements and terms and conditions for 20...</td>\n",
       "      <td>[0.002802086345248927, 0.03354124784343089, 0....</td>\n",
       "    </tr>\n",
       "    <tr>\n",
       "      <th>773</th>\n",
       "      <td>773</td>\n",
       "      <td>2</td>\n",
       "      <td>203</td>\n",
       "      <td>(`Nederlandse Zorgautoriteit', NZa): Postbus 3...</td>\n",
       "      <td>[-0.012716539281772982, 0.03440676650553472, 0...</td>\n",
       "    </tr>\n",
       "    <tr>\n",
       "      <th>774</th>\n",
       "      <td>774</td>\n",
       "      <td>2</td>\n",
       "      <td>204</td>\n",
       "      <td>Reimbursements and terms and conditions for 20...</td>\n",
       "      <td>[0.0028165730735622684, 0.03883166687510502, 0...</td>\n",
       "    </tr>\n",
       "    <tr>\n",
       "      <th>775</th>\n",
       "      <td>775</td>\n",
       "      <td>2</td>\n",
       "      <td>204</td>\n",
       "      <td>`Nationale-Nederlanden Zorg Vrij' (`Combinatie...</td>\n",
       "      <td>[-0.00046713512143508994, 0.019054609753914542...</td>\n",
       "    </tr>\n",
       "  </tbody>\n",
       "</table>\n",
       "<p>776 rows × 5 columns</p>\n",
       "</div>"
      ],
      "text/plain": [
       "     chunk_seq_id  num_chuncks  page  \\\n",
       "0               0            1     0   \n",
       "1               1            5     1   \n",
       "2               2            5     1   \n",
       "3               3            5     1   \n",
       "4               4            5     1   \n",
       "..            ...          ...   ...   \n",
       "771           771            4   202   \n",
       "772           772            2   203   \n",
       "773           773            2   203   \n",
       "774           774            2   204   \n",
       "775           775            2   204   \n",
       "\n",
       "                                                chunks  \\\n",
       "0    Reimbursements and terms and conditions for 20...   \n",
       "1    Abroad ..........................................   \n",
       "2    General practitioner ............................   \n",
       "3    Medical mental healthcare........................   \n",
       "4    Sensory impairment care..........................   \n",
       "..                                                 ...   \n",
       "771  assess whether we should change it. Such a rec...   \n",
       "772  Reimbursements and terms and conditions for 20...   \n",
       "773  (`Nederlandse Zorgautoriteit', NZa): Postbus 3...   \n",
       "774  Reimbursements and terms and conditions for 20...   \n",
       "775  `Nationale-Nederlanden Zorg Vrij' (`Combinatie...   \n",
       "\n",
       "                                             embedding  \n",
       "0    [-0.017664135392465398, 0.0010989804845562235,...  \n",
       "1    [0.009289972868684463, 0.011951055872454076, 0...  \n",
       "2    [0.03081734351206423, 0.03832021428989872, 0.1...  \n",
       "3    [0.05817534559804301, 0.005862851320530374, 0....  \n",
       "4    [0.04950871115614762, 0.003652064254791728, 0....  \n",
       "..                                                 ...  \n",
       "771  [0.030318757627279064, 0.03105452667823687, 0....  \n",
       "772  [0.002802086345248927, 0.03354124784343089, 0....  \n",
       "773  [-0.012716539281772982, 0.03440676650553472, 0...  \n",
       "774  [0.0028165730735622684, 0.03883166687510502, 0...  \n",
       "775  [-0.00046713512143508994, 0.019054609753914542...  \n",
       "\n",
       "[776 rows x 5 columns]"
      ]
     },
     "execution_count": 65,
     "metadata": {},
     "output_type": "execute_result"
    }
   ],
   "source": [
    "chunks_df = df[['chunk_seq_id', 'num_chuncks', 'page', 'chunks', 'embedding']]\n",
    "chunks_df"
   ]
  },
  {
   "cell_type": "code",
   "execution_count": 66,
   "id": "3ddc32bf-825f-49c9-8742-0229e39684fd",
   "metadata": {},
   "outputs": [],
   "source": [
    "merge_chunck_query = \"\"\"\n",
    "    MERGE(mergedChunk:Chunk {id: $chunk_seq_id})\n",
    "        ON CREATE SET\n",
    "            mergedChunk.page = $page,\n",
    "            mergedChunk.chunk = $chunk,\n",
    "            mergedChunk.embedding = $embedding\n",
    "    RETURN mergedChunk\n",
    "\"\"\""
   ]
  },
  {
   "cell_type": "code",
   "execution_count": 67,
   "id": "d15c2d39-f138-4fbb-96fd-e417cfad2ff4",
   "metadata": {},
   "outputs": [
    {
     "name": "stdout",
     "output_type": "stream",
     "text": [
      "Progress:  100.0 %\n"
     ]
    }
   ],
   "source": [
    "for index, row in chunks_df.iterrows():\n",
    "    clear_output(wait=True)\n",
    "    d = {\n",
    "        'chunk_seq_id': row['chunk_seq_id'],\n",
    "        'page': row['page'],\n",
    "        'chunk': row['chunks'],\n",
    "        'embedding': row['embedding']\n",
    "    }\n",
    "    app.query_params(merge_chunck_query, d)\n",
    "    print(\"Progress: \", np.round(((index+1)/chunks_df.shape[0])*100,2), \"%\")"
   ]
  },
  {
   "cell_type": "markdown",
   "id": "3c3cb6cd-81e8-489b-91cc-924f9c3cbb29",
   "metadata": {},
   "source": [
    "### Load File to Chunk Relationship"
   ]
  },
  {
   "cell_type": "code",
   "execution_count": 68,
   "id": "d5616bbe-5ae9-4cca-892d-0c839324feda",
   "metadata": {},
   "outputs": [
    {
     "data": {
      "text/html": [
       "<div>\n",
       "<style scoped>\n",
       "    .dataframe tbody tr th:only-of-type {\n",
       "        vertical-align: middle;\n",
       "    }\n",
       "\n",
       "    .dataframe tbody tr th {\n",
       "        vertical-align: top;\n",
       "    }\n",
       "\n",
       "    .dataframe thead th {\n",
       "        text-align: right;\n",
       "    }\n",
       "</style>\n",
       "<table border=\"1\" class=\"dataframe\">\n",
       "  <thead>\n",
       "    <tr style=\"text-align: right;\">\n",
       "      <th></th>\n",
       "      <th>chunk_seq_id</th>\n",
       "      <th>policy_id</th>\n",
       "    </tr>\n",
       "  </thead>\n",
       "  <tbody>\n",
       "    <tr>\n",
       "      <th>0</th>\n",
       "      <td>0</td>\n",
       "      <td>0</td>\n",
       "    </tr>\n",
       "    <tr>\n",
       "      <th>1</th>\n",
       "      <td>1</td>\n",
       "      <td>0</td>\n",
       "    </tr>\n",
       "    <tr>\n",
       "      <th>2</th>\n",
       "      <td>2</td>\n",
       "      <td>0</td>\n",
       "    </tr>\n",
       "    <tr>\n",
       "      <th>3</th>\n",
       "      <td>3</td>\n",
       "      <td>0</td>\n",
       "    </tr>\n",
       "    <tr>\n",
       "      <th>4</th>\n",
       "      <td>4</td>\n",
       "      <td>0</td>\n",
       "    </tr>\n",
       "    <tr>\n",
       "      <th>...</th>\n",
       "      <td>...</td>\n",
       "      <td>...</td>\n",
       "    </tr>\n",
       "    <tr>\n",
       "      <th>771</th>\n",
       "      <td>771</td>\n",
       "      <td>0</td>\n",
       "    </tr>\n",
       "    <tr>\n",
       "      <th>772</th>\n",
       "      <td>772</td>\n",
       "      <td>0</td>\n",
       "    </tr>\n",
       "    <tr>\n",
       "      <th>773</th>\n",
       "      <td>773</td>\n",
       "      <td>0</td>\n",
       "    </tr>\n",
       "    <tr>\n",
       "      <th>774</th>\n",
       "      <td>774</td>\n",
       "      <td>0</td>\n",
       "    </tr>\n",
       "    <tr>\n",
       "      <th>775</th>\n",
       "      <td>775</td>\n",
       "      <td>0</td>\n",
       "    </tr>\n",
       "  </tbody>\n",
       "</table>\n",
       "<p>776 rows × 2 columns</p>\n",
       "</div>"
      ],
      "text/plain": [
       "     chunk_seq_id  policy_id\n",
       "0               0          0\n",
       "1               1          0\n",
       "2               2          0\n",
       "3               3          0\n",
       "4               4          0\n",
       "..            ...        ...\n",
       "771           771          0\n",
       "772           772          0\n",
       "773           773          0\n",
       "774           774          0\n",
       "775           775          0\n",
       "\n",
       "[776 rows x 2 columns]"
      ]
     },
     "execution_count": 68,
     "metadata": {},
     "output_type": "execute_result"
    }
   ],
   "source": [
    "part_of_df = df[['chunk_seq_id', 'policy_id']].copy()\n",
    "part_of_df"
   ]
  },
  {
   "cell_type": "code",
   "execution_count": 69,
   "id": "858cb936-5338-4e81-a1ab-7cc69121578d",
   "metadata": {},
   "outputs": [],
   "source": [
    "merge_part_of_query = \"\"\"\n",
    "    MATCH\n",
    "        (policy:Policy {id: $policy_id}),\n",
    "        (chunk:Chunk {id: $chunk_id})\n",
    "    MERGE (policy)<-[r:PART_OF]-(chunk)\n",
    "    RETURN policy.name, type(r), chunk.title\n",
    "\"\"\""
   ]
  },
  {
   "cell_type": "code",
   "execution_count": 70,
   "id": "b1c0e30d-fe86-4f9a-933a-ec0e9c835579",
   "metadata": {},
   "outputs": [
    {
     "name": "stdout",
     "output_type": "stream",
     "text": [
      "Progress:  100.0 %\n"
     ]
    }
   ],
   "source": [
    "for index, row in part_of_df.iterrows():\n",
    "    clear_output(wait=True)\n",
    "    d = {\n",
    "        'policy_id': row['policy_id'],\n",
    "        'chunk_id': row['chunk_seq_id']\n",
    "    }\n",
    "    app.query_params(merge_part_of_query, d)\n",
    "    # print(f\"Loaded relationship from policy {row['policy_id']} to chunk {row['chunk_seq_id']}\")\n",
    "    print(\"Progress: \", np.round(((index+1)/part_of_df.shape[0])*100,2), \"%\")\n"
   ]
  },
  {
   "cell_type": "markdown",
   "id": "d631ada2-93f6-49ac-a5e7-b6a8b21a1678",
   "metadata": {},
   "source": [
    "## Load Chunk to Chunk Relationship"
   ]
  },
  {
   "cell_type": "markdown",
   "id": "41df0221-5e67-4ffb-b6ff-9c8f9fb10b15",
   "metadata": {},
   "source": [
    "Link the chunks in order by the \"NEXT\" relationship."
   ]
  },
  {
   "cell_type": "code",
   "execution_count": 71,
   "id": "2a68e7d9-ffe4-451a-9835-53777fe2caad",
   "metadata": {},
   "outputs": [],
   "source": [
    "next_query = \"\"\"\n",
    "    MATCH (policy:Policy)\n",
    "    WITH policy\n",
    "    CALL {\n",
    "        WITH policy\n",
    "        MATCH (policy)<-[:PART_OF]-(chunks:Chunk)\n",
    "        WITH chunks ORDER BY chunks.id ASC\n",
    "        WITH collect(chunks) as chunk_list\n",
    "        CALL apoc.nodes.link(\n",
    "            chunk_list,\n",
    "            \"NEXT\",\n",
    "            {avoidDuplicates: true}\n",
    "        )\n",
    "        RETURN size(chunk_list) as size_chunk_list\n",
    "    }\n",
    "    WITH policy, size_chunk_list\n",
    "    RETURN policy, size_chunk_list\n",
    "\"\"\""
   ]
  },
  {
   "cell_type": "code",
   "execution_count": 72,
   "id": "f4a316e7-de1d-4429-abf7-4b085071d5d6",
   "metadata": {},
   "outputs": [
    {
     "data": {
      "text/plain": [
       "EagerResult(records=[<Record policy=<Node element_id='207' labels=frozenset({'Policy'}) properties={'file_location': 'documents/NN_zorg_vrij_basic_2024.pdf', 'pages': 205, 'file_name': 'NN_zorg_vrij_basic_2024.pdf', 'id': 0}> size_chunk_list=776>], summary=<neo4j._work.summary.ResultSummary object at 0x30b508b20>, keys=['policy', 'size_chunk_list'])"
      ]
     },
     "execution_count": 72,
     "metadata": {},
     "output_type": "execute_result"
    }
   ],
   "source": [
    "app.query(next_query)"
   ]
  },
  {
   "cell_type": "code",
   "execution_count": null,
   "id": "ed34e4b9",
   "metadata": {},
   "outputs": [],
   "source": []
  }
 ],
 "metadata": {
  "kernelspec": {
   "display_name": "Python 3 (ipykernel)",
   "language": "python",
   "name": "python3"
  },
  "language_info": {
   "codemirror_mode": {
    "name": "ipython",
    "version": 3
   },
   "file_extension": ".py",
   "mimetype": "text/x-python",
   "name": "python",
   "nbconvert_exporter": "python",
   "pygments_lexer": "ipython3",
   "version": "3.9.18"
  }
 },
 "nbformat": 4,
 "nbformat_minor": 5
}
