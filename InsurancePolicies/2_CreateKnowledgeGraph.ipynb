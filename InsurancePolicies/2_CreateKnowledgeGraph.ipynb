{
 "cells": [
  {
   "cell_type": "markdown",
   "id": "5a955d0d-0b43-4588-819e-56537b83f929",
   "metadata": {},
   "source": [
    "# Create Knowledge Graph"
   ]
  },
  {
   "cell_type": "markdown",
   "id": "227a23f5-277a-461e-90cc-16754b70a0b3",
   "metadata": {},
   "source": [
    "The following notebook creates a small Knowledge Graph around Insurance data. This fake/dummy data reprents the following: \n",
    "- **Organizations**: The policies are provided by different insurance organizations.\n",
    "- **Insurances**: The Insurance \"Products\" that are provided by the insurance organizations.\n",
    "- **Clients**: Each insurance may have different clients that bought this product.\\\n",
    "\n",
    "In the following notebook this fake data is created as an example and loaded to Neo4j. The loading is done using the [Python Driver](https://neo4j.com/docs/api/python-driver/current/) that enables querying from a Python script"
   ]
  },
  {
   "cell_type": "code",
   "execution_count": 1,
   "id": "d9260cb6-ae38-4b15-8702-57690c2ac139",
   "metadata": {},
   "outputs": [],
   "source": [
    "import pandas as pd\n",
    "import numpy as np\n",
    "import os\n",
    "from dotenv import load_dotenv\n",
    "from neo4j import GraphDatabase\n",
    "from IPython.display import clear_output"
   ]
  },
  {
   "cell_type": "markdown",
   "id": "cb2518e5-4a99-413d-9dfe-adc7ea669d21",
   "metadata": {},
   "source": [
    "## Get Credentials"
   ]
  },
  {
   "cell_type": "code",
   "execution_count": 2,
   "id": "36cd9dcf-bba3-45a0-96aa-45c3880a76a8",
   "metadata": {},
   "outputs": [],
   "source": [
    "if os.path.exists('credentials.env'):\n",
    "    load_dotenv('credentials.env', override=True)\n",
    "\n",
    "    # Neo4j\n",
    "    uri = os.getenv('NEO4J_URI')\n",
    "    username = os.getenv('NEO4J_USERNAME')\n",
    "    password = os.getenv('NEO4J_PASSWORD')\n",
    "    database = os.getenv('NEO4J_DATABASE')\n",
    "\n",
    "    # AI\n",
    "    OPENAI_API_KEY = os.getenv('OPENAI_API_KEY')\n",
    "    os.environ['OPENAI_API_KEY']=OPENAI_API_KEY\n",
    "else:\n",
    "    print(\"File 'credentials.env' not found.\")"
   ]
  },
  {
   "cell_type": "markdown",
   "id": "bf1c314d-1343-4d59-ad4d-be71b3144a62",
   "metadata": {},
   "source": [
    "## Setup Connection to Database"
   ]
  },
  {
   "cell_type": "markdown",
   "id": "821ec113-c521-4fa8-9b36-b37fb0acb733",
   "metadata": {},
   "source": [
    "Setup connection to the database with the Python Driver"
   ]
  },
  {
   "cell_type": "code",
   "execution_count": 3,
   "id": "e2e044c6-2ea5-406f-9d72-35889bccd3bb",
   "metadata": {},
   "outputs": [],
   "source": [
    "class App:\n",
    "    def __init__(self, uri, user, password, database=None):\n",
    "        self.driver = GraphDatabase.driver(uri, auth=(user, password), database=database)\n",
    "        self.database = database\n",
    "\n",
    "    def close(self):\n",
    "        self.driver.close()\n",
    "\n",
    "    def query(self, query):\n",
    "        return self.driver.execute_query(query)\n",
    "\n",
    "    def query_params(self, query, parameters):\n",
    "        return self.driver.execute_query(query, parameters_=parameters)\n",
    "\n",
    "    def count_nodes_in_db(self):\n",
    "        query = \"MATCH (n) RETURN COUNT(n)\"\n",
    "        result = self.query(query)\n",
    "        (key, value) = result.records[0].items()[0]\n",
    "        return value\n",
    "\n",
    "    def remove_nodes_relationships(self):\n",
    "        query =\"\"\"\n",
    "            CALL apoc.periodic.iterate(\n",
    "                \"MATCH (c) RETURN c\",\n",
    "                \"WITH c DETACH DELETE c\",\n",
    "                {batchSize: 1000}\n",
    "            )\n",
    "        \"\"\"\n",
    "        result = self.query(query)\n",
    "\n",
    "    def remove_all_constraints(self):\n",
    "        query =\"\"\"\n",
    "            CALL apoc.schema.assert({}, {})\n",
    "        \"\"\"\n",
    "        result = self.query(query)"
   ]
  },
  {
   "cell_type": "code",
   "execution_count": 4,
   "id": "93142ba9-e504-4032-bcab-4f238c23aa7c",
   "metadata": {},
   "outputs": [],
   "source": [
    "app = App(uri, username, password, database)"
   ]
  },
  {
   "cell_type": "code",
   "execution_count": 5,
   "id": "b6cf0e81-12fa-4134-be21-4b71639c66fb",
   "metadata": {},
   "outputs": [
    {
     "data": {
      "text/plain": [
       "977"
      ]
     },
     "execution_count": 5,
     "metadata": {},
     "output_type": "execute_result"
    }
   ],
   "source": [
    "app.count_nodes_in_db()"
   ]
  },
  {
   "cell_type": "markdown",
   "id": "9fa5ee88-b9ba-4013-8d38-46274029d510",
   "metadata": {},
   "source": [
    "## Load Policies from Neo4j"
   ]
  },
  {
   "cell_type": "code",
   "execution_count": 6,
   "id": "549d26ad-951a-429e-b3ca-26c3040f5a09",
   "metadata": {},
   "outputs": [],
   "source": [
    "query = \"\"\"\n",
    "    MATCH (p:Policy)\n",
    "    RETURN p.id AS policy_id, p.file_name AS file_name\n",
    "\"\"\""
   ]
  },
  {
   "cell_type": "code",
   "execution_count": 7,
   "id": "08d42634-4365-42dd-9694-da0ad686c22c",
   "metadata": {},
   "outputs": [],
   "source": [
    "result = app.query(query)"
   ]
  },
  {
   "cell_type": "code",
   "execution_count": 8,
   "id": "086259bc-e953-4135-b61c-f186cca55ede",
   "metadata": {},
   "outputs": [
    {
     "data": {
      "text/html": [
       "<div>\n",
       "<style scoped>\n",
       "    .dataframe tbody tr th:only-of-type {\n",
       "        vertical-align: middle;\n",
       "    }\n",
       "\n",
       "    .dataframe tbody tr th {\n",
       "        vertical-align: top;\n",
       "    }\n",
       "\n",
       "    .dataframe thead th {\n",
       "        text-align: right;\n",
       "    }\n",
       "</style>\n",
       "<table border=\"1\" class=\"dataframe\">\n",
       "  <thead>\n",
       "    <tr style=\"text-align: right;\">\n",
       "      <th></th>\n",
       "      <th>policy_id</th>\n",
       "      <th>file_name</th>\n",
       "    </tr>\n",
       "  </thead>\n",
       "  <tbody>\n",
       "    <tr>\n",
       "      <th>0</th>\n",
       "      <td>0</td>\n",
       "      <td>NN_zorg_vrij_basic_2024.pdf</td>\n",
       "    </tr>\n",
       "  </tbody>\n",
       "</table>\n",
       "</div>"
      ],
      "text/plain": [
       "   policy_id                    file_name\n",
       "0          0  NN_zorg_vrij_basic_2024.pdf"
      ]
     },
     "execution_count": 8,
     "metadata": {},
     "output_type": "execute_result"
    }
   ],
   "source": [
    "data = [record.values() for record in result.records]\n",
    "df = pd.DataFrame(data = data, columns = ['policy_id', 'file_name'])\n",
    "df"
   ]
  },
  {
   "cell_type": "markdown",
   "id": "a034b3f9-0137-4584-8934-7554e3396003",
   "metadata": {},
   "source": [
    "### Create Organization Nodes"
   ]
  },
  {
   "cell_type": "markdown",
   "id": "4b363276-7087-4867-9506-9d29ef4f8659",
   "metadata": {},
   "source": [
    "The documents come from official websites of organizations. Now we make some nodes per organization."
   ]
  },
  {
   "cell_type": "code",
   "execution_count": 9,
   "id": "9a481294-3935-4866-8f67-0b8b08470632",
   "metadata": {},
   "outputs": [],
   "source": [
    "data = [\n",
    "    ['FBTO', 0],\n",
    "    ['Nationale Nederlanden', 1],\n",
    "    ['Zilveren Kruis', 2]\n",
    "]"
   ]
  },
  {
   "cell_type": "code",
   "execution_count": 10,
   "id": "6fafaff0-922b-41df-bdb2-46860985ad77",
   "metadata": {},
   "outputs": [],
   "source": [
    "organization_df= pd.DataFrame(\n",
    "    data = data,\n",
    "    columns = ['name', 'id']\n",
    ")"
   ]
  },
  {
   "cell_type": "code",
   "execution_count": 11,
   "id": "278e884d-5d67-495d-b49c-d966425fd307",
   "metadata": {},
   "outputs": [
    {
     "data": {
      "text/html": [
       "<div>\n",
       "<style scoped>\n",
       "    .dataframe tbody tr th:only-of-type {\n",
       "        vertical-align: middle;\n",
       "    }\n",
       "\n",
       "    .dataframe tbody tr th {\n",
       "        vertical-align: top;\n",
       "    }\n",
       "\n",
       "    .dataframe thead th {\n",
       "        text-align: right;\n",
       "    }\n",
       "</style>\n",
       "<table border=\"1\" class=\"dataframe\">\n",
       "  <thead>\n",
       "    <tr style=\"text-align: right;\">\n",
       "      <th></th>\n",
       "      <th>name</th>\n",
       "      <th>id</th>\n",
       "    </tr>\n",
       "  </thead>\n",
       "  <tbody>\n",
       "    <tr>\n",
       "      <th>0</th>\n",
       "      <td>FBTO</td>\n",
       "      <td>0</td>\n",
       "    </tr>\n",
       "    <tr>\n",
       "      <th>1</th>\n",
       "      <td>Nationale Nederlanden</td>\n",
       "      <td>1</td>\n",
       "    </tr>\n",
       "    <tr>\n",
       "      <th>2</th>\n",
       "      <td>Zilveren Kruis</td>\n",
       "      <td>2</td>\n",
       "    </tr>\n",
       "  </tbody>\n",
       "</table>\n",
       "</div>"
      ],
      "text/plain": [
       "                    name  id\n",
       "0                   FBTO   0\n",
       "1  Nationale Nederlanden   1\n",
       "2         Zilveren Kruis   2"
      ]
     },
     "execution_count": 11,
     "metadata": {},
     "output_type": "execute_result"
    }
   ],
   "source": [
    "organization_df"
   ]
  },
  {
   "cell_type": "markdown",
   "id": "9a9d3aff-9cab-4e3c-8d79-66aedb0548f8",
   "metadata": {},
   "source": [
    "### Create Insurance Nodes"
   ]
  },
  {
   "cell_type": "markdown",
   "id": "59e5427f-a5dd-436a-af7e-090bc83949ea",
   "metadata": {},
   "source": [
    "The insurances are described in the policies. Now create some insurance nodes from these filenames."
   ]
  },
  {
   "cell_type": "code",
   "execution_count": 12,
   "id": "19aa36de-0210-47cb-85a5-478d6e5711e9",
   "metadata": {},
   "outputs": [],
   "source": [
    "insurances_df = df[['file_name', 'policy_id']].drop_duplicates()"
   ]
  },
  {
   "cell_type": "code",
   "execution_count": 13,
   "id": "14bdec02-a84d-4c1c-b27b-243ff22211c6",
   "metadata": {},
   "outputs": [],
   "source": [
    "insurances_df['insurance_name'] = insurances_df['file_name'].apply(lambda x: x.replace('.pdf', '').replace('_', ' '))\n",
    "insurances_df['id'] = insurances_df['policy_id']\n",
    "insurances_df.drop(['policy_id', 'file_name'], axis=1, inplace=True)"
   ]
  },
  {
   "cell_type": "code",
   "execution_count": 14,
   "id": "c3b95da3-e5d5-4a30-9364-9fc52cfa68f3",
   "metadata": {},
   "outputs": [
    {
     "data": {
      "text/html": [
       "<div>\n",
       "<style scoped>\n",
       "    .dataframe tbody tr th:only-of-type {\n",
       "        vertical-align: middle;\n",
       "    }\n",
       "\n",
       "    .dataframe tbody tr th {\n",
       "        vertical-align: top;\n",
       "    }\n",
       "\n",
       "    .dataframe thead th {\n",
       "        text-align: right;\n",
       "    }\n",
       "</style>\n",
       "<table border=\"1\" class=\"dataframe\">\n",
       "  <thead>\n",
       "    <tr style=\"text-align: right;\">\n",
       "      <th></th>\n",
       "      <th>insurance_name</th>\n",
       "      <th>id</th>\n",
       "    </tr>\n",
       "  </thead>\n",
       "  <tbody>\n",
       "    <tr>\n",
       "      <th>0</th>\n",
       "      <td>NN zorg vrij basic 2024</td>\n",
       "      <td>0</td>\n",
       "    </tr>\n",
       "  </tbody>\n",
       "</table>\n",
       "</div>"
      ],
      "text/plain": [
       "            insurance_name  id\n",
       "0  NN zorg vrij basic 2024   0"
      ]
     },
     "execution_count": 14,
     "metadata": {},
     "output_type": "execute_result"
    }
   ],
   "source": [
    "insurances_df"
   ]
  },
  {
   "cell_type": "markdown",
   "id": "49e0cd2a-427f-42aa-9a24-fb4adbc8edbd",
   "metadata": {},
   "source": [
    "### Create Client Nodes"
   ]
  },
  {
   "cell_type": "markdown",
   "id": "b212a223-db4f-413f-a5ed-1182b533c96e",
   "metadata": {},
   "source": [
    "Create some fake client data"
   ]
  },
  {
   "cell_type": "code",
   "execution_count": 15,
   "id": "4e5eec08-c707-43f4-b85a-0318e620c282",
   "metadata": {},
   "outputs": [],
   "source": [
    "data = [\n",
    "    ['Erik', 0],\n",
    "    ['Thorsten', 1],\n",
    "    ['Hylke', 2],\n",
    "    ['Marco', 3],\n",
    "    ['Kees', 4],\n",
    "    ['Niels', 5]\n",
    "]"
   ]
  },
  {
   "cell_type": "code",
   "execution_count": 16,
   "id": "6b90b0f6-1faa-491a-9b5d-04ef06aba1b6",
   "metadata": {},
   "outputs": [],
   "source": [
    "clients_df = pd.DataFrame(\n",
    "    data = data,\n",
    "    columns = ['name', 'id']\n",
    ")"
   ]
  },
  {
   "cell_type": "code",
   "execution_count": 17,
   "id": "b290b14b-a166-4e53-b3a1-85c004258d58",
   "metadata": {},
   "outputs": [
    {
     "data": {
      "text/html": [
       "<div>\n",
       "<style scoped>\n",
       "    .dataframe tbody tr th:only-of-type {\n",
       "        vertical-align: middle;\n",
       "    }\n",
       "\n",
       "    .dataframe tbody tr th {\n",
       "        vertical-align: top;\n",
       "    }\n",
       "\n",
       "    .dataframe thead th {\n",
       "        text-align: right;\n",
       "    }\n",
       "</style>\n",
       "<table border=\"1\" class=\"dataframe\">\n",
       "  <thead>\n",
       "    <tr style=\"text-align: right;\">\n",
       "      <th></th>\n",
       "      <th>name</th>\n",
       "      <th>id</th>\n",
       "    </tr>\n",
       "  </thead>\n",
       "  <tbody>\n",
       "    <tr>\n",
       "      <th>0</th>\n",
       "      <td>Erik</td>\n",
       "      <td>0</td>\n",
       "    </tr>\n",
       "    <tr>\n",
       "      <th>1</th>\n",
       "      <td>Thorsten</td>\n",
       "      <td>1</td>\n",
       "    </tr>\n",
       "    <tr>\n",
       "      <th>2</th>\n",
       "      <td>Hylke</td>\n",
       "      <td>2</td>\n",
       "    </tr>\n",
       "    <tr>\n",
       "      <th>3</th>\n",
       "      <td>Marco</td>\n",
       "      <td>3</td>\n",
       "    </tr>\n",
       "    <tr>\n",
       "      <th>4</th>\n",
       "      <td>Kees</td>\n",
       "      <td>4</td>\n",
       "    </tr>\n",
       "    <tr>\n",
       "      <th>5</th>\n",
       "      <td>Niels</td>\n",
       "      <td>5</td>\n",
       "    </tr>\n",
       "  </tbody>\n",
       "</table>\n",
       "</div>"
      ],
      "text/plain": [
       "       name  id\n",
       "0      Erik   0\n",
       "1  Thorsten   1\n",
       "2     Hylke   2\n",
       "3     Marco   3\n",
       "4      Kees   4\n",
       "5     Niels   5"
      ]
     },
     "execution_count": 17,
     "metadata": {},
     "output_type": "execute_result"
    }
   ],
   "source": [
    "clients_df"
   ]
  },
  {
   "cell_type": "markdown",
   "id": "fa079088-4b32-4fe8-94e9-bcae1493b14f",
   "metadata": {},
   "source": [
    "### Create PROVIDES  Relationship"
   ]
  },
  {
   "cell_type": "markdown",
   "id": "57ffce6e-a2e6-4c73-b4d2-c2d8585cc641",
   "metadata": {},
   "source": [
    "Link the data from organization to insurance by a provides DataFrame"
   ]
  },
  {
   "cell_type": "code",
   "execution_count": 18,
   "id": "3767e295-d925-40cc-a227-8c22fe69d7ab",
   "metadata": {},
   "outputs": [],
   "source": [
    "data = [\n",
    "    [0, 'voorwaarden FBTO zorgverzekering 2024'],\n",
    "    [1, 'NN zorg basis 2024'],\n",
    "    [2, 'zilveren kruis basis 2024'],\n",
    "    [1, 'NN zorg vrij basic 2024'],\n",
    "    [1, 'NN zorg top 2024']\n",
    "]"
   ]
  },
  {
   "cell_type": "code",
   "execution_count": 19,
   "id": "0aa9b5dd-846c-45d0-873d-b4825e96bbb6",
   "metadata": {},
   "outputs": [],
   "source": [
    "provides_df = pd.DataFrame(\n",
    "    data = data,\n",
    "    columns = ['organization_id', 'insurance_name']\n",
    ")"
   ]
  },
  {
   "cell_type": "code",
   "execution_count": 20,
   "id": "180a60b7-c534-49d7-a973-cae1ece153bf",
   "metadata": {},
   "outputs": [
    {
     "data": {
      "text/html": [
       "<div>\n",
       "<style scoped>\n",
       "    .dataframe tbody tr th:only-of-type {\n",
       "        vertical-align: middle;\n",
       "    }\n",
       "\n",
       "    .dataframe tbody tr th {\n",
       "        vertical-align: top;\n",
       "    }\n",
       "\n",
       "    .dataframe thead th {\n",
       "        text-align: right;\n",
       "    }\n",
       "</style>\n",
       "<table border=\"1\" class=\"dataframe\">\n",
       "  <thead>\n",
       "    <tr style=\"text-align: right;\">\n",
       "      <th></th>\n",
       "      <th>organization_id</th>\n",
       "      <th>insurance_name</th>\n",
       "    </tr>\n",
       "  </thead>\n",
       "  <tbody>\n",
       "    <tr>\n",
       "      <th>0</th>\n",
       "      <td>0</td>\n",
       "      <td>voorwaarden FBTO zorgverzekering 2024</td>\n",
       "    </tr>\n",
       "    <tr>\n",
       "      <th>1</th>\n",
       "      <td>1</td>\n",
       "      <td>NN zorg basis 2024</td>\n",
       "    </tr>\n",
       "    <tr>\n",
       "      <th>2</th>\n",
       "      <td>2</td>\n",
       "      <td>zilveren kruis basis 2024</td>\n",
       "    </tr>\n",
       "    <tr>\n",
       "      <th>3</th>\n",
       "      <td>1</td>\n",
       "      <td>NN zorg vrij basic 2024</td>\n",
       "    </tr>\n",
       "    <tr>\n",
       "      <th>4</th>\n",
       "      <td>1</td>\n",
       "      <td>NN zorg top 2024</td>\n",
       "    </tr>\n",
       "  </tbody>\n",
       "</table>\n",
       "</div>"
      ],
      "text/plain": [
       "   organization_id                         insurance_name\n",
       "0                0  voorwaarden FBTO zorgverzekering 2024\n",
       "1                1                     NN zorg basis 2024\n",
       "2                2              zilveren kruis basis 2024\n",
       "3                1                NN zorg vrij basic 2024\n",
       "4                1                       NN zorg top 2024"
      ]
     },
     "execution_count": 20,
     "metadata": {},
     "output_type": "execute_result"
    }
   ],
   "source": [
    "provides_df"
   ]
  },
  {
   "cell_type": "markdown",
   "id": "1a67aa07-6103-4e56-8fa9-723d3c0bd57a",
   "metadata": {},
   "source": [
    "### Create INSURES Relationship"
   ]
  },
  {
   "cell_type": "markdown",
   "id": "c3570000-69c4-4d7e-9a9a-d8fdc9ccdb55",
   "metadata": {},
   "source": [
    "Link the data from insurance to client by an INSURES DataFrame"
   ]
  },
  {
   "cell_type": "code",
   "execution_count": 21,
   "id": "b799e298-2a04-4950-aae6-ff16fcee9d9f",
   "metadata": {},
   "outputs": [],
   "source": [
    "data = [\n",
    "    ['Erik', 'voorwaarden FBTO zorgverzekering 2024'],\n",
    "    ['Thorsten', 'NN zorg top 2024'],\n",
    "    ['Hylke', 'zilveren kruis basis 2024'],\n",
    "    ['Marco', 'NN zorg vrij basic 2024'],\n",
    "    ['Kees', 'NN zorg basis 2024'],\n",
    "    ['Niels', 'NN zorg basis 2024']\n",
    "]"
   ]
  },
  {
   "cell_type": "code",
   "execution_count": 22,
   "id": "86de54d2-c4c6-4290-b53a-3ab15eac600e",
   "metadata": {},
   "outputs": [],
   "source": [
    "insures_df = pd.DataFrame(\n",
    "    data = data,\n",
    "    columns = ['client_name', 'insurance_name']\n",
    ")"
   ]
  },
  {
   "cell_type": "code",
   "execution_count": 23,
   "id": "0eae528c-6530-435f-9898-15301d11ee1c",
   "metadata": {},
   "outputs": [
    {
     "data": {
      "text/html": [
       "<div>\n",
       "<style scoped>\n",
       "    .dataframe tbody tr th:only-of-type {\n",
       "        vertical-align: middle;\n",
       "    }\n",
       "\n",
       "    .dataframe tbody tr th {\n",
       "        vertical-align: top;\n",
       "    }\n",
       "\n",
       "    .dataframe thead th {\n",
       "        text-align: right;\n",
       "    }\n",
       "</style>\n",
       "<table border=\"1\" class=\"dataframe\">\n",
       "  <thead>\n",
       "    <tr style=\"text-align: right;\">\n",
       "      <th></th>\n",
       "      <th>client_name</th>\n",
       "      <th>insurance_name</th>\n",
       "    </tr>\n",
       "  </thead>\n",
       "  <tbody>\n",
       "    <tr>\n",
       "      <th>0</th>\n",
       "      <td>Erik</td>\n",
       "      <td>voorwaarden FBTO zorgverzekering 2024</td>\n",
       "    </tr>\n",
       "    <tr>\n",
       "      <th>1</th>\n",
       "      <td>Thorsten</td>\n",
       "      <td>NN zorg top 2024</td>\n",
       "    </tr>\n",
       "    <tr>\n",
       "      <th>2</th>\n",
       "      <td>Hylke</td>\n",
       "      <td>zilveren kruis basis 2024</td>\n",
       "    </tr>\n",
       "    <tr>\n",
       "      <th>3</th>\n",
       "      <td>Marco</td>\n",
       "      <td>NN zorg vrij basic 2024</td>\n",
       "    </tr>\n",
       "    <tr>\n",
       "      <th>4</th>\n",
       "      <td>Kees</td>\n",
       "      <td>NN zorg basis 2024</td>\n",
       "    </tr>\n",
       "    <tr>\n",
       "      <th>5</th>\n",
       "      <td>Niels</td>\n",
       "      <td>NN zorg basis 2024</td>\n",
       "    </tr>\n",
       "  </tbody>\n",
       "</table>\n",
       "</div>"
      ],
      "text/plain": [
       "  client_name                         insurance_name\n",
       "0        Erik  voorwaarden FBTO zorgverzekering 2024\n",
       "1    Thorsten                       NN zorg top 2024\n",
       "2       Hylke              zilveren kruis basis 2024\n",
       "3       Marco                NN zorg vrij basic 2024\n",
       "4        Kees                     NN zorg basis 2024\n",
       "5       Niels                     NN zorg basis 2024"
      ]
     },
     "execution_count": 23,
     "metadata": {},
     "output_type": "execute_result"
    }
   ],
   "source": [
    "insures_df"
   ]
  },
  {
   "cell_type": "markdown",
   "id": "4d6aca3e-dadf-419a-a9f0-b9234e5761b9",
   "metadata": {},
   "source": [
    "### Create HAS_POLICY Relationship"
   ]
  },
  {
   "cell_type": "markdown",
   "id": "cc743601-79f1-409c-81e3-84b75158fdf2",
   "metadata": {},
   "source": [
    "Link the data from insurance to policy by a HAS_POLICY DataFrame"
   ]
  },
  {
   "cell_type": "code",
   "execution_count": 24,
   "id": "da1d853e-170b-49de-81fb-1931b568c5c4",
   "metadata": {},
   "outputs": [],
   "source": [
    "data = [\n",
    "    [0, 0],\n",
    "    [1, 1],\n",
    "    [2, 2],\n",
    "    [3, 3],\n",
    "    [4, 4],\n",
    "]"
   ]
  },
  {
   "cell_type": "code",
   "execution_count": 25,
   "id": "75c507ba-6857-4a9c-bd95-d2299d2463b8",
   "metadata": {},
   "outputs": [],
   "source": [
    "has_policy_df = pd.DataFrame(\n",
    "    data = data,\n",
    "    columns = ['insurance_id', 'policy_id']\n",
    ")"
   ]
  },
  {
   "cell_type": "code",
   "execution_count": 26,
   "id": "21fdd1af-f6a4-44e4-a99c-03928e3e807d",
   "metadata": {},
   "outputs": [
    {
     "data": {
      "text/html": [
       "<div>\n",
       "<style scoped>\n",
       "    .dataframe tbody tr th:only-of-type {\n",
       "        vertical-align: middle;\n",
       "    }\n",
       "\n",
       "    .dataframe tbody tr th {\n",
       "        vertical-align: top;\n",
       "    }\n",
       "\n",
       "    .dataframe thead th {\n",
       "        text-align: right;\n",
       "    }\n",
       "</style>\n",
       "<table border=\"1\" class=\"dataframe\">\n",
       "  <thead>\n",
       "    <tr style=\"text-align: right;\">\n",
       "      <th></th>\n",
       "      <th>insurance_id</th>\n",
       "      <th>policy_id</th>\n",
       "    </tr>\n",
       "  </thead>\n",
       "  <tbody>\n",
       "    <tr>\n",
       "      <th>0</th>\n",
       "      <td>0</td>\n",
       "      <td>0</td>\n",
       "    </tr>\n",
       "    <tr>\n",
       "      <th>1</th>\n",
       "      <td>1</td>\n",
       "      <td>1</td>\n",
       "    </tr>\n",
       "    <tr>\n",
       "      <th>2</th>\n",
       "      <td>2</td>\n",
       "      <td>2</td>\n",
       "    </tr>\n",
       "    <tr>\n",
       "      <th>3</th>\n",
       "      <td>3</td>\n",
       "      <td>3</td>\n",
       "    </tr>\n",
       "    <tr>\n",
       "      <th>4</th>\n",
       "      <td>4</td>\n",
       "      <td>4</td>\n",
       "    </tr>\n",
       "  </tbody>\n",
       "</table>\n",
       "</div>"
      ],
      "text/plain": [
       "   insurance_id  policy_id\n",
       "0             0          0\n",
       "1             1          1\n",
       "2             2          2\n",
       "3             3          3\n",
       "4             4          4"
      ]
     },
     "execution_count": 26,
     "metadata": {},
     "output_type": "execute_result"
    }
   ],
   "source": [
    "has_policy_df"
   ]
  },
  {
   "cell_type": "markdown",
   "id": "dbba2918-6247-4947-9611-697cde19ac3a",
   "metadata": {},
   "source": [
    "### Create some constraints"
   ]
  },
  {
   "cell_type": "code",
   "execution_count": 27,
   "id": "b29bbc16-08b9-4d7e-99c2-f9c29f3d7c24",
   "metadata": {},
   "outputs": [
    {
     "data": {
      "text/plain": [
       "EagerResult(records=[], summary=<neo4j._work.summary.ResultSummary object at 0x11f9e2b80>, keys=[])"
      ]
     },
     "execution_count": 27,
     "metadata": {},
     "output_type": "execute_result"
    }
   ],
   "source": [
    "app.query(\"CREATE CONSTRAINT unique_organization IF NOT EXISTS FOR (o:Organization) REQUIRE o.id IS UNIQUE\")"
   ]
  },
  {
   "cell_type": "code",
   "execution_count": 28,
   "id": "8a68ce7b-4a98-4f12-8234-6ca78d34deb4",
   "metadata": {},
   "outputs": [
    {
     "data": {
      "text/plain": [
       "EagerResult(records=[], summary=<neo4j._work.summary.ResultSummary object at 0x108cb5a90>, keys=[])"
      ]
     },
     "execution_count": 28,
     "metadata": {},
     "output_type": "execute_result"
    }
   ],
   "source": [
    "app.query(\"CREATE CONSTRAINT unique_insurance IF NOT EXISTS FOR (i:Insurance) REQUIRE i.id IS UNIQUE\")"
   ]
  },
  {
   "cell_type": "code",
   "execution_count": 29,
   "id": "9bb36102-0fcd-4799-8ab8-31ae3ea7c9fc",
   "metadata": {},
   "outputs": [
    {
     "data": {
      "text/plain": [
       "EagerResult(records=[], summary=<neo4j._work.summary.ResultSummary object at 0x11f9bbb50>, keys=[])"
      ]
     },
     "execution_count": 29,
     "metadata": {},
     "output_type": "execute_result"
    }
   ],
   "source": [
    "app.query(\"CREATE CONSTRAINT unique_client IF NOT EXISTS FOR (c:Client) REQUIRE c.id IS UNIQUE\")"
   ]
  },
  {
   "cell_type": "markdown",
   "id": "c369a803-825e-4553-8564-23ac96e29f00",
   "metadata": {},
   "source": [
    "# Load Nodes"
   ]
  },
  {
   "cell_type": "markdown",
   "id": "f638a579-7f9e-41d9-9ea5-93b695f0a4cf",
   "metadata": {},
   "source": [
    "### Load Organizations"
   ]
  },
  {
   "cell_type": "code",
   "execution_count": 30,
   "id": "c1e5d7c6-2c17-42e2-8013-07a19498dbb7",
   "metadata": {},
   "outputs": [
    {
     "data": {
      "text/html": [
       "<div>\n",
       "<style scoped>\n",
       "    .dataframe tbody tr th:only-of-type {\n",
       "        vertical-align: middle;\n",
       "    }\n",
       "\n",
       "    .dataframe tbody tr th {\n",
       "        vertical-align: top;\n",
       "    }\n",
       "\n",
       "    .dataframe thead th {\n",
       "        text-align: right;\n",
       "    }\n",
       "</style>\n",
       "<table border=\"1\" class=\"dataframe\">\n",
       "  <thead>\n",
       "    <tr style=\"text-align: right;\">\n",
       "      <th></th>\n",
       "      <th>name</th>\n",
       "      <th>id</th>\n",
       "    </tr>\n",
       "  </thead>\n",
       "  <tbody>\n",
       "    <tr>\n",
       "      <th>0</th>\n",
       "      <td>FBTO</td>\n",
       "      <td>0</td>\n",
       "    </tr>\n",
       "    <tr>\n",
       "      <th>1</th>\n",
       "      <td>Nationale Nederlanden</td>\n",
       "      <td>1</td>\n",
       "    </tr>\n",
       "    <tr>\n",
       "      <th>2</th>\n",
       "      <td>Zilveren Kruis</td>\n",
       "      <td>2</td>\n",
       "    </tr>\n",
       "  </tbody>\n",
       "</table>\n",
       "</div>"
      ],
      "text/plain": [
       "                    name  id\n",
       "0                   FBTO   0\n",
       "1  Nationale Nederlanden   1\n",
       "2         Zilveren Kruis   2"
      ]
     },
     "execution_count": 30,
     "metadata": {},
     "output_type": "execute_result"
    }
   ],
   "source": [
    "organization_df"
   ]
  },
  {
   "cell_type": "code",
   "execution_count": 31,
   "id": "831ebf8e-6a5e-4ddf-a7d8-eee8d269cede",
   "metadata": {},
   "outputs": [],
   "source": [
    "merge_organizations_query = \"\"\"\n",
    "    MERGE(mergedOrg:Organization {id: $id})\n",
    "        ON CREATE SET\n",
    "            mergedOrg.name = $name\n",
    "    RETURN mergedOrg\n",
    "\"\"\""
   ]
  },
  {
   "cell_type": "code",
   "execution_count": 32,
   "id": "72608c5b-288e-4da8-ac66-2ded83772b02",
   "metadata": {},
   "outputs": [
    {
     "name": "stdout",
     "output_type": "stream",
     "text": [
      "Progress:  100.0 %\n"
     ]
    }
   ],
   "source": [
    "for index, row in organization_df.iterrows():\n",
    "    clear_output(wait=True)\n",
    "    d = {\n",
    "        'id': row['id'],\n",
    "        'name': row['name']\n",
    "    }\n",
    "    app.query_params(merge_organizations_query, d)\n",
    "    print(\"Progress: \", np.round((index+1)/organization_df.shape[0]*100,2), \"%\")"
   ]
  },
  {
   "cell_type": "markdown",
   "id": "c56ef1e0-78a9-4238-b4a9-41fecaf2d95d",
   "metadata": {},
   "source": [
    "### Load Insurances"
   ]
  },
  {
   "cell_type": "code",
   "execution_count": 33,
   "id": "0b0ef398-3117-408f-a1c1-94c8a0c7c7d8",
   "metadata": {},
   "outputs": [
    {
     "data": {
      "text/html": [
       "<div>\n",
       "<style scoped>\n",
       "    .dataframe tbody tr th:only-of-type {\n",
       "        vertical-align: middle;\n",
       "    }\n",
       "\n",
       "    .dataframe tbody tr th {\n",
       "        vertical-align: top;\n",
       "    }\n",
       "\n",
       "    .dataframe thead th {\n",
       "        text-align: right;\n",
       "    }\n",
       "</style>\n",
       "<table border=\"1\" class=\"dataframe\">\n",
       "  <thead>\n",
       "    <tr style=\"text-align: right;\">\n",
       "      <th></th>\n",
       "      <th>insurance_name</th>\n",
       "      <th>id</th>\n",
       "    </tr>\n",
       "  </thead>\n",
       "  <tbody>\n",
       "    <tr>\n",
       "      <th>0</th>\n",
       "      <td>NN zorg vrij basic 2024</td>\n",
       "      <td>0</td>\n",
       "    </tr>\n",
       "  </tbody>\n",
       "</table>\n",
       "</div>"
      ],
      "text/plain": [
       "            insurance_name  id\n",
       "0  NN zorg vrij basic 2024   0"
      ]
     },
     "execution_count": 33,
     "metadata": {},
     "output_type": "execute_result"
    }
   ],
   "source": [
    "insurances_df"
   ]
  },
  {
   "cell_type": "code",
   "execution_count": 34,
   "id": "85ed613d-56c1-4a77-acdd-c26c85eb70ad",
   "metadata": {},
   "outputs": [],
   "source": [
    "merge_insurance_query = \"\"\"\n",
    "    MERGE(mergedIns:Insurance {id: $id})\n",
    "        ON CREATE SET\n",
    "            mergedIns.name = $name\n",
    "    RETURN mergedIns\n",
    "\"\"\""
   ]
  },
  {
   "cell_type": "code",
   "execution_count": 35,
   "id": "8677edb3-7adc-4441-8ab3-e30568279e05",
   "metadata": {},
   "outputs": [
    {
     "name": "stdout",
     "output_type": "stream",
     "text": [
      "Progress:  100.0 %\n"
     ]
    }
   ],
   "source": [
    "for index, row in insurances_df.iterrows():\n",
    "    clear_output(wait=True)\n",
    "    d = {\n",
    "        'id': row['id'],\n",
    "        'name': row['insurance_name'],\n",
    "    }\n",
    "    app.query_params(merge_insurance_query, d)\n",
    "    print(\"Progress: \", np.round((index+1)/insurances_df.shape[0]*100,2), \"%\")"
   ]
  },
  {
   "cell_type": "markdown",
   "id": "e16b2f40-bf08-463b-a7d5-a0920187f209",
   "metadata": {},
   "source": [
    "### Load Clients"
   ]
  },
  {
   "cell_type": "code",
   "execution_count": 36,
   "id": "bdc8f249-9a54-4e3c-8fec-7e3e05dc38e4",
   "metadata": {},
   "outputs": [
    {
     "data": {
      "text/html": [
       "<div>\n",
       "<style scoped>\n",
       "    .dataframe tbody tr th:only-of-type {\n",
       "        vertical-align: middle;\n",
       "    }\n",
       "\n",
       "    .dataframe tbody tr th {\n",
       "        vertical-align: top;\n",
       "    }\n",
       "\n",
       "    .dataframe thead th {\n",
       "        text-align: right;\n",
       "    }\n",
       "</style>\n",
       "<table border=\"1\" class=\"dataframe\">\n",
       "  <thead>\n",
       "    <tr style=\"text-align: right;\">\n",
       "      <th></th>\n",
       "      <th>name</th>\n",
       "      <th>id</th>\n",
       "    </tr>\n",
       "  </thead>\n",
       "  <tbody>\n",
       "    <tr>\n",
       "      <th>0</th>\n",
       "      <td>Erik</td>\n",
       "      <td>0</td>\n",
       "    </tr>\n",
       "    <tr>\n",
       "      <th>1</th>\n",
       "      <td>Thorsten</td>\n",
       "      <td>1</td>\n",
       "    </tr>\n",
       "    <tr>\n",
       "      <th>2</th>\n",
       "      <td>Hylke</td>\n",
       "      <td>2</td>\n",
       "    </tr>\n",
       "    <tr>\n",
       "      <th>3</th>\n",
       "      <td>Marco</td>\n",
       "      <td>3</td>\n",
       "    </tr>\n",
       "    <tr>\n",
       "      <th>4</th>\n",
       "      <td>Kees</td>\n",
       "      <td>4</td>\n",
       "    </tr>\n",
       "    <tr>\n",
       "      <th>5</th>\n",
       "      <td>Niels</td>\n",
       "      <td>5</td>\n",
       "    </tr>\n",
       "  </tbody>\n",
       "</table>\n",
       "</div>"
      ],
      "text/plain": [
       "       name  id\n",
       "0      Erik   0\n",
       "1  Thorsten   1\n",
       "2     Hylke   2\n",
       "3     Marco   3\n",
       "4      Kees   4\n",
       "5     Niels   5"
      ]
     },
     "execution_count": 36,
     "metadata": {},
     "output_type": "execute_result"
    }
   ],
   "source": [
    "clients_df"
   ]
  },
  {
   "cell_type": "code",
   "execution_count": 37,
   "id": "1c872214-ad5d-4c6b-8505-41a4e63328ae",
   "metadata": {},
   "outputs": [],
   "source": [
    "merge_client_query = \"\"\"\n",
    "    MERGE(mergedClient:Client {id: $id})\n",
    "        ON CREATE SET\n",
    "            mergedClient.name = $name\n",
    "    RETURN mergedClient\n",
    "\"\"\""
   ]
  },
  {
   "cell_type": "code",
   "execution_count": 38,
   "id": "a3e15586-1926-4d0c-abd8-6f08f33a38a0",
   "metadata": {},
   "outputs": [
    {
     "name": "stdout",
     "output_type": "stream",
     "text": [
      "Progress:  100.0 %\n"
     ]
    }
   ],
   "source": [
    "for index, row in clients_df.iterrows():\n",
    "    clear_output(wait=True)\n",
    "    d = {\n",
    "        'id': row['id'],\n",
    "        'name': row['name'],\n",
    "    }\n",
    "    app.query_params(merge_client_query, d)\n",
    "    print(\"Progress: \", np.round((index+1)/clients_df.shape[0]*100,2), \"%\")"
   ]
  },
  {
   "cell_type": "markdown",
   "id": "998e969b-fe08-41f5-abb2-8298418937fd",
   "metadata": {},
   "source": [
    "## Load Relationships"
   ]
  },
  {
   "cell_type": "markdown",
   "id": "95de1814-04bc-4bf0-9528-0bb8ea9af425",
   "metadata": {},
   "source": [
    "### Load provides"
   ]
  },
  {
   "cell_type": "code",
   "execution_count": 39,
   "id": "196ca1ce-bf41-4caf-b37b-19853c7f390f",
   "metadata": {},
   "outputs": [
    {
     "data": {
      "text/html": [
       "<div>\n",
       "<style scoped>\n",
       "    .dataframe tbody tr th:only-of-type {\n",
       "        vertical-align: middle;\n",
       "    }\n",
       "\n",
       "    .dataframe tbody tr th {\n",
       "        vertical-align: top;\n",
       "    }\n",
       "\n",
       "    .dataframe thead th {\n",
       "        text-align: right;\n",
       "    }\n",
       "</style>\n",
       "<table border=\"1\" class=\"dataframe\">\n",
       "  <thead>\n",
       "    <tr style=\"text-align: right;\">\n",
       "      <th></th>\n",
       "      <th>organization_id</th>\n",
       "      <th>insurance_name</th>\n",
       "    </tr>\n",
       "  </thead>\n",
       "  <tbody>\n",
       "    <tr>\n",
       "      <th>0</th>\n",
       "      <td>0</td>\n",
       "      <td>voorwaarden FBTO zorgverzekering 2024</td>\n",
       "    </tr>\n",
       "    <tr>\n",
       "      <th>1</th>\n",
       "      <td>1</td>\n",
       "      <td>NN zorg basis 2024</td>\n",
       "    </tr>\n",
       "    <tr>\n",
       "      <th>2</th>\n",
       "      <td>2</td>\n",
       "      <td>zilveren kruis basis 2024</td>\n",
       "    </tr>\n",
       "    <tr>\n",
       "      <th>3</th>\n",
       "      <td>1</td>\n",
       "      <td>NN zorg vrij basic 2024</td>\n",
       "    </tr>\n",
       "    <tr>\n",
       "      <th>4</th>\n",
       "      <td>1</td>\n",
       "      <td>NN zorg top 2024</td>\n",
       "    </tr>\n",
       "  </tbody>\n",
       "</table>\n",
       "</div>"
      ],
      "text/plain": [
       "   organization_id                         insurance_name\n",
       "0                0  voorwaarden FBTO zorgverzekering 2024\n",
       "1                1                     NN zorg basis 2024\n",
       "2                2              zilveren kruis basis 2024\n",
       "3                1                NN zorg vrij basic 2024\n",
       "4                1                       NN zorg top 2024"
      ]
     },
     "execution_count": 39,
     "metadata": {},
     "output_type": "execute_result"
    }
   ],
   "source": [
    "provides_df"
   ]
  },
  {
   "cell_type": "code",
   "execution_count": 40,
   "id": "bbb2adbf-b80c-45fe-a479-8b92b1c92747",
   "metadata": {},
   "outputs": [],
   "source": [
    "merge_provides_query = \"\"\"\n",
    "    MATCH\n",
    "        (org:Organization {id: $org_id}),\n",
    "        (ins:Insurance {name: $ins_name})\n",
    "    MERGE (org)-[r:PROVIDES]->(ins)\n",
    "    RETURN org.name, type(r), ins.name\n",
    "\"\"\""
   ]
  },
  {
   "cell_type": "code",
   "execution_count": 41,
   "id": "9632f021-2a1c-4b89-8dde-50144627f345",
   "metadata": {},
   "outputs": [
    {
     "name": "stdout",
     "output_type": "stream",
     "text": [
      "Progress:  100.0 %\n"
     ]
    }
   ],
   "source": [
    "for index, row in provides_df.iterrows():\n",
    "    clear_output(wait=True)\n",
    "    d = {\n",
    "        'org_id': row['organization_id'],\n",
    "        'ins_name': row['insurance_name']\n",
    "    }\n",
    "    app.query_params(merge_provides_query, d)\n",
    "    print(\"Progress: \", np.round(((index+1)/provides_df.shape[0])*100,2), \"%\")"
   ]
  },
  {
   "cell_type": "markdown",
   "id": "45146011-e7b8-467e-911e-bf01e1cb18d5",
   "metadata": {},
   "source": [
    "### Load INSURES"
   ]
  },
  {
   "cell_type": "code",
   "execution_count": 42,
   "id": "10665782-9c94-4d4b-86f5-cb3b500ab1ed",
   "metadata": {},
   "outputs": [
    {
     "data": {
      "text/html": [
       "<div>\n",
       "<style scoped>\n",
       "    .dataframe tbody tr th:only-of-type {\n",
       "        vertical-align: middle;\n",
       "    }\n",
       "\n",
       "    .dataframe tbody tr th {\n",
       "        vertical-align: top;\n",
       "    }\n",
       "\n",
       "    .dataframe thead th {\n",
       "        text-align: right;\n",
       "    }\n",
       "</style>\n",
       "<table border=\"1\" class=\"dataframe\">\n",
       "  <thead>\n",
       "    <tr style=\"text-align: right;\">\n",
       "      <th></th>\n",
       "      <th>client_name</th>\n",
       "      <th>insurance_name</th>\n",
       "    </tr>\n",
       "  </thead>\n",
       "  <tbody>\n",
       "    <tr>\n",
       "      <th>0</th>\n",
       "      <td>Erik</td>\n",
       "      <td>voorwaarden FBTO zorgverzekering 2024</td>\n",
       "    </tr>\n",
       "    <tr>\n",
       "      <th>1</th>\n",
       "      <td>Thorsten</td>\n",
       "      <td>NN zorg top 2024</td>\n",
       "    </tr>\n",
       "    <tr>\n",
       "      <th>2</th>\n",
       "      <td>Hylke</td>\n",
       "      <td>zilveren kruis basis 2024</td>\n",
       "    </tr>\n",
       "    <tr>\n",
       "      <th>3</th>\n",
       "      <td>Marco</td>\n",
       "      <td>NN zorg vrij basic 2024</td>\n",
       "    </tr>\n",
       "    <tr>\n",
       "      <th>4</th>\n",
       "      <td>Kees</td>\n",
       "      <td>NN zorg basis 2024</td>\n",
       "    </tr>\n",
       "    <tr>\n",
       "      <th>5</th>\n",
       "      <td>Niels</td>\n",
       "      <td>NN zorg basis 2024</td>\n",
       "    </tr>\n",
       "  </tbody>\n",
       "</table>\n",
       "</div>"
      ],
      "text/plain": [
       "  client_name                         insurance_name\n",
       "0        Erik  voorwaarden FBTO zorgverzekering 2024\n",
       "1    Thorsten                       NN zorg top 2024\n",
       "2       Hylke              zilveren kruis basis 2024\n",
       "3       Marco                NN zorg vrij basic 2024\n",
       "4        Kees                     NN zorg basis 2024\n",
       "5       Niels                     NN zorg basis 2024"
      ]
     },
     "execution_count": 42,
     "metadata": {},
     "output_type": "execute_result"
    }
   ],
   "source": [
    "insures_df"
   ]
  },
  {
   "cell_type": "code",
   "execution_count": 43,
   "id": "3c3fea3a-a6fe-4e1d-b7ba-9c580c3b33e5",
   "metadata": {},
   "outputs": [],
   "source": [
    "merge_insures_query = \"\"\"\n",
    "    MATCH\n",
    "        (ins:Insurance {name: $ins_name}),\n",
    "        (client:Client {name: $client_name})\n",
    "    MERGE (ins)-[r:INSURES]->(client)\n",
    "    RETURN ins.name, type(r), client.name\n",
    "\"\"\""
   ]
  },
  {
   "cell_type": "code",
   "execution_count": 44,
   "id": "da076075-6a8b-4e7c-8b77-f24dd6ac04b4",
   "metadata": {},
   "outputs": [
    {
     "name": "stdout",
     "output_type": "stream",
     "text": [
      "Progress:  100.0 %\n"
     ]
    }
   ],
   "source": [
    "for index, row in insures_df.iterrows():\n",
    "    clear_output(wait=True)\n",
    "    d = {\n",
    "        'ins_name': row['insurance_name'],\n",
    "        'client_name': row['client_name']\n",
    "    }\n",
    "    app.query_params(merge_insures_query, d)\n",
    "    print(\"Progress: \", np.round(((index+1)/insures_df.shape[0])*100,2), \"%\")"
   ]
  },
  {
   "cell_type": "markdown",
   "id": "11153aa9-fe50-45c6-9bc1-b1696d3497ff",
   "metadata": {},
   "source": [
    "### Load HAS_POLICY"
   ]
  },
  {
   "cell_type": "code",
   "execution_count": 45,
   "id": "3597f6fb-3b35-4b55-95f6-64de46b25dbb",
   "metadata": {},
   "outputs": [
    {
     "data": {
      "text/html": [
       "<div>\n",
       "<style scoped>\n",
       "    .dataframe tbody tr th:only-of-type {\n",
       "        vertical-align: middle;\n",
       "    }\n",
       "\n",
       "    .dataframe tbody tr th {\n",
       "        vertical-align: top;\n",
       "    }\n",
       "\n",
       "    .dataframe thead th {\n",
       "        text-align: right;\n",
       "    }\n",
       "</style>\n",
       "<table border=\"1\" class=\"dataframe\">\n",
       "  <thead>\n",
       "    <tr style=\"text-align: right;\">\n",
       "      <th></th>\n",
       "      <th>insurance_id</th>\n",
       "      <th>policy_id</th>\n",
       "    </tr>\n",
       "  </thead>\n",
       "  <tbody>\n",
       "    <tr>\n",
       "      <th>0</th>\n",
       "      <td>0</td>\n",
       "      <td>0</td>\n",
       "    </tr>\n",
       "    <tr>\n",
       "      <th>1</th>\n",
       "      <td>1</td>\n",
       "      <td>1</td>\n",
       "    </tr>\n",
       "    <tr>\n",
       "      <th>2</th>\n",
       "      <td>2</td>\n",
       "      <td>2</td>\n",
       "    </tr>\n",
       "    <tr>\n",
       "      <th>3</th>\n",
       "      <td>3</td>\n",
       "      <td>3</td>\n",
       "    </tr>\n",
       "    <tr>\n",
       "      <th>4</th>\n",
       "      <td>4</td>\n",
       "      <td>4</td>\n",
       "    </tr>\n",
       "  </tbody>\n",
       "</table>\n",
       "</div>"
      ],
      "text/plain": [
       "   insurance_id  policy_id\n",
       "0             0          0\n",
       "1             1          1\n",
       "2             2          2\n",
       "3             3          3\n",
       "4             4          4"
      ]
     },
     "execution_count": 45,
     "metadata": {},
     "output_type": "execute_result"
    }
   ],
   "source": [
    "has_policy_df"
   ]
  },
  {
   "cell_type": "code",
   "execution_count": 46,
   "id": "8cd3015e-cc9f-488b-ba57-383bc1316ed7",
   "metadata": {},
   "outputs": [],
   "source": [
    "merge_insures_query = \"\"\"\n",
    "    MATCH\n",
    "        (ins:Insurance {id: $ins_id}),\n",
    "        (policy:Policy {id: $policy_id})\n",
    "    MERGE (ins)-[r:HAS_POLICY]->(policy)\n",
    "    RETURN ins.name, type(r), policy.file_name\n",
    "\"\"\""
   ]
  },
  {
   "cell_type": "code",
   "execution_count": 47,
   "id": "3ad974e3-c223-4d9b-9998-b80114a7c80d",
   "metadata": {},
   "outputs": [
    {
     "name": "stdout",
     "output_type": "stream",
     "text": [
      "Progress:  100.0 %\n"
     ]
    }
   ],
   "source": [
    "for index, row in has_policy_df.iterrows():\n",
    "    clear_output(wait=True)\n",
    "    d = {\n",
    "        'ins_id': row['insurance_id'],\n",
    "        'policy_id': row['policy_id']\n",
    "    }\n",
    "    app.query_params(merge_insures_query, d)\n",
    "    print(\"Progress: \", np.round(((index+1)/has_policy_df.shape[0])*100,2), \"%\")"
   ]
  }
 ],
 "metadata": {
  "kernelspec": {
   "display_name": "Python 3 (ipykernel)",
   "language": "python",
   "name": "python3"
  },
  "language_info": {
   "codemirror_mode": {
    "name": "ipython",
    "version": 3
   },
   "file_extension": ".py",
   "mimetype": "text/x-python",
   "name": "python",
   "nbconvert_exporter": "python",
   "pygments_lexer": "ipython3",
   "version": "3.9.18"
  }
 },
 "nbformat": 4,
 "nbformat_minor": 5
}
