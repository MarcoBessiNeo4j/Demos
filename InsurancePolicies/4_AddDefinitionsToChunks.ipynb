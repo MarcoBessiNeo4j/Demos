{
 "cells": [
  {
   "cell_type": "markdown",
   "metadata": {},
   "source": [
    "# Add Definitions to Chunks"
   ]
  },
  {
   "cell_type": "markdown",
   "metadata": {},
   "source": [
    "The following notebooks shows an example on how to create more connections from a document. In this case an appendix with a list of definitions is selected. These definitions are extracted and linked to the chunks that mentioned them. \n",
    "\n",
    "For the extraction of these defnitions an LLM is used. This time we use a model from [OpenAI](https://platform.openai.com/docs/models/gpt-3-5-turbo): gpt-3.5-turbo-0125. "
   ]
  },
  {
   "cell_type": "code",
   "execution_count": 1,
   "metadata": {},
   "outputs": [],
   "source": [
    "import pandas as pd\n",
    "import os\n",
    "from neo4j import GraphDatabase\n",
    "from langchain_openai import ChatOpenAI\n",
    "from IPython.display import clear_output\n",
    "from dotenv import load_dotenv\n",
    "import json\n",
    "import numpy as np"
   ]
  },
  {
   "cell_type": "markdown",
   "metadata": {},
   "source": [
    "## Get Credentials"
   ]
  },
  {
   "cell_type": "code",
   "execution_count": 2,
   "metadata": {},
   "outputs": [],
   "source": [
    "if os.path.exists('credentials.env'):\n",
    "    load_dotenv('credentials.env', override=True)\n",
    "\n",
    "    # Neo4j\n",
    "    uri = os.getenv('NEO4J_URI')\n",
    "    username = os.getenv('NEO4J_USERNAME')\n",
    "    password = os.getenv('NEO4J_PASSWORD')\n",
    "    database = os.getenv('NEO4J_DATABASE')\n",
    "\n",
    "    # AI\n",
    "    OPENAI_API_KEY = os.getenv('OPENAI_API_KEY')\n",
    "    os.environ['OPENAI_API_KEY']=OPENAI_API_KEY\n",
    "else:\n",
    "    print(\"File 'credentials.env' not found.\")"
   ]
  },
  {
   "cell_type": "markdown",
   "metadata": {},
   "source": [
    "## Setup Connection to Database"
   ]
  },
  {
   "cell_type": "markdown",
   "metadata": {},
   "source": [
    "Setup connection to the database with the Python Driver"
   ]
  },
  {
   "cell_type": "code",
   "execution_count": 3,
   "metadata": {},
   "outputs": [],
   "source": [
    "class App:\n",
    "    def __init__(self, uri, user, password, database=None):\n",
    "        self.driver = GraphDatabase.driver(uri, auth=(user, password), database=database)\n",
    "        self.database = database\n",
    "\n",
    "    def close(self):\n",
    "        self.driver.close()\n",
    "\n",
    "    def query(self, query):\n",
    "        return self.driver.execute_query(query)\n",
    "\n",
    "    def query_params(self, query, parameters):\n",
    "        return self.driver.execute_query(query, parameters_=parameters)\n",
    "\n",
    "    def count_nodes_in_db(self):\n",
    "        query = \"MATCH (n) RETURN COUNT(n)\"\n",
    "        result = self.query(query)\n",
    "        (key, value) = result.records[0].items()[0]\n",
    "        return value\n",
    "\n",
    "    def remove_nodes_relationships(self):\n",
    "        query =\"\"\"\n",
    "            CALL apoc.periodic.iterate(\n",
    "                \"MATCH (c) RETURN c\",\n",
    "                \"WITH c DETACH DELETE c\",\n",
    "                {batchSize: 1000}\n",
    "            )\n",
    "        \"\"\"\n",
    "        result = self.query(query)\n",
    "\n",
    "    def remove_all_constraints(self):\n",
    "        query =\"\"\"\n",
    "            CALL apoc.schema.assert({}, {})\n",
    "        \"\"\"\n",
    "        result = self.query(query)"
   ]
  },
  {
   "cell_type": "code",
   "execution_count": 4,
   "metadata": {},
   "outputs": [],
   "source": [
    "app = App(uri, username, password, database)"
   ]
  },
  {
   "cell_type": "code",
   "execution_count": 5,
   "metadata": {},
   "outputs": [
    {
     "data": {
      "text/plain": [
       "2899"
      ]
     },
     "execution_count": 5,
     "metadata": {},
     "output_type": "execute_result"
    }
   ],
   "source": [
    "app.count_nodes_in_db()"
   ]
  },
  {
   "cell_type": "markdown",
   "metadata": {},
   "source": [
    "## Find definitions from the text"
   ]
  },
  {
   "cell_type": "markdown",
   "metadata": {},
   "source": [
    "Load an LLM"
   ]
  },
  {
   "cell_type": "code",
   "execution_count": 6,
   "metadata": {},
   "outputs": [],
   "source": [
    "model = 'gpt-3.5-turbo-0125'"
   ]
  },
  {
   "cell_type": "code",
   "execution_count": 7,
   "metadata": {},
   "outputs": [],
   "source": [
    "llm = ChatOpenAI(model=model, temperature=0)"
   ]
  },
  {
   "cell_type": "markdown",
   "metadata": {},
   "source": [
    "The text with definitions is copied from the document (NN_zorg_vrij_basic_2024.pdf). "
   ]
  },
  {
   "cell_type": "code",
   "execution_count": 8,
   "metadata": {},
   "outputs": [],
   "source": [
    "definition_text = \"\"\"\n",
    "Appendix Definitions\n",
    "Additional insurance package\n",
    "An agreement that you can take out in addition to your general insurance policy for the reimbursement of healthcare and healthcare costs. The content and scope of your additional insurance package is set by us. We have it laid down in your terms and conditions of insurance.\n",
    "Agreed rate\n",
    "The (average) rate we agree in contracts with healthcare providers for certain types of healthcare. These rates are available on our website.\n",
    "AGB code\n",
    "This code is a unique administrative code assigned to healthcare providers in the Netherlands, identifying each one individually in Vektis. Vektis is a national register containing all information necessary to submit claims for the healthcare, to purchase and contract the healthcare and to help guide insured persons to the right healthcare.\n",
    "Treatment\n",
    "Contact, physical or online, with one or more healthcare providers, involving the provision of healthcare and/or advice. Treatment does not include courses or training.\n",
    "Treatment proposal (or prescription)\n",
    "This proposal states which healthcare (examination, treatment or therapy) you need. You are given a prescription for medicine.\n",
    "Abroad\n",
    "Any country other than the country where you live.\n",
    "CAK\n",
    "The Dutch Central Administration Office (‘Centraal Administratie Kantoor’, CAK), as defined in Article 6.1.1, first paragraph, of the Dutch Long-Term Care Act (‘Wet langdurige zorg’, Wlz).\n",
    "Consultation\n",
    "Contact with a healthcare provider. This can involve advice, a referral, a discussion of a patient’s medical history, a physical examination, diagnosis and/or additional tests where such is deemed medically necessary.\n",
    "Day treatment\n",
    "Healthcare in a department set up for day nursing in a facility for specialist medical healthcare (such as a hospital or independent treatment centre). This may also involve a medical examination or treatment in a rehabilitation facility. The healthcare is generally foreseeable and lasts for a number of hours. The patient is not admitted.\n",
    " ‘Nationale-Nederlanden Zorg Vrij’ (‘Combinatie health insurance policy) valid from 01-01-2024 to Page 175 of 205 31-12-2024 (inclusive)\n",
    "Appendix Definitions\n",
    "Reimbursements and terms and conditions for 2024\n",
    " DBC healthcare product\n",
    "A Diagnosis-Treatment Combination (‘Diagnose Behandel Combinatie’, DBC healthcare product or DBC) is a code that describes the entire process of treatment under specialist medical healthcare. A DBC includes all the costs incurred by the healthcare provider to give you the right healthcare. So it also includes costs not directly related to your treatment. The rate for a DBC is based on an average of the costs incurred for a particular course of treatment. The start date of a DBC is the date of first contact with the healthcare provider and determines the reimbursement. The bill is settled on the DBC start date. If the commencement date for a DBC is outside of the term of your insurance, none of the costs associated with that DBC are covered. In addition to a DBC, a hospital may charge for treatments categorised as other healthcare products (‘overige zorgproducten’, OZP). These are often single treatments that are not associated with a course of treatment. For example, diagnostics requested by the general practitioner, such as an ultrasound or X-ray, or diagnostics for dental surgery. Specific expensive healthcare is also claimed under other healthcare products. Examples here include intensive care, expensive medicines and blood products.\n",
    "Diagnostics\n",
    "Determination of the medical cause of the patient’s problem, illness or condition.\n",
    "EU/EEA member state\n",
    "The EU (European Union) member states are: Austria, Belgium, Bulgaria, Croatia, Cyprus (Greek part), Czech Republic, Denmark, Estonia, Finland, France (including French Guyana, Guadeloupe, Martinique, Réunion, Saint Barthélemy and Saint Martin), Germany, Greece, Hungary, Ireland, Italy, Latvia, Lithuania, Luxembourg, Malta, Netherlands, Poland, Portugal (including the Azores and Madeira), Romania, Slovakia, Slovenia, Spain (including the Canary Islands, Ceuta and Melilla) and Sweden. Under international treaties, Switzerland is considered to be on a par with the above. The following are not part of the EU (this list is not exhaustive): Andorra, the Channel Islands, the Isle of Man, Monaco, San Marino and Vatican City. The EEA (European Economic Area) states are: the aforementioned EU states, Iceland, Liechtenstein and Norway. Explanation: On 31 January 2020, the United Kingdom, including Gibraltar, left the European Union.\n",
    "Claimed rate\n",
    "The amount stated on the invoice. Reimbursement will never exceed the costs of healthcare that you have actually incurred, and that you were invoiced for.\n",
    "Medical aids on loan\n",
    "These are medical aids that you may use as long as you are insured for them with us. We or the healthcare provider will enter into a loan agreement with you for this purpose. This agreement specifies your rights and obligations in respect of the medical aid you have on loan. You must return the medical aid upon termination of your insurance policy. We pay the reimbursement directly to the healthcare provider if you receive the medical aid on loan from a contracted healthcare provider. If you purchase a medical aid from a non-contracted healthcare provider and that aid would usually be provided on loan, you will not automatically be reimbursed for the full purchase value. We will reimburse you the costs involved in using the medical aid for an entire year in the same way as we reimburse these costs with a contracted healthcare provider. You do not need to pay any costs for medical aids on loan, so you do not pay a deductible for them. The deductible does apply, however, to the costs of consumables and usage associated with the medical aid that we lend you.\n",
    "Owned medical aids\n",
    "These are medical aids that transfer to your possession under your terms and conditions of insurance. You will acquire ownership of them. The purchase costs will be set off against your deductible.\n",
    "If a medical aid transfers to your possession, it is strictly for your own use. You may not sell it to anyone.\n",
    "Year\n",
    "A calendar year. However, when referring to someone’s age, we do not mean a calendar year. We simply mean a year in the person’s life.\n",
    "‘Nationale-Nederlanden Zorg Vrij’ (‘Combinatie health insurance policy) valid from 01-01-2024 to Page 176 of 205 31-12-2024 (inclusive)\n",
    "Appendix Definitions\n",
    " \n",
    "Reimbursements and terms and conditions for 2024\n",
    " Month\n",
    "A calendar month.\n",
    "Market rate applicable in the Netherlands\n",
    "This is the rate that is reasonable and appropriate in the Dutch market for a given treatment. To determine this rate, we look at what amounts healthcare providers charge on average for that treatment. This means that we will not reimburse unreasonably high costs of treatment in full. See also Article 2.2., clause 2, paragraph b, of the Dutch Health Insurance Decree (‘Besluit zorgverzekering’).\n",
    "(Medical) adviser\n",
    "The doctor, pharmacist, dentist, physiotherapist or other expert who advises us. This includes advice on medical, pharmacotherapy-related, dental or physiotherapy-related healthcare or any other field of healthcare expertise.\n",
    "Medical indication/grounds\n",
    "The medical condition or illness that a doctor suspects or has diagnosed so that you can access certain healthcare.\n",
    "Accident\n",
    "A sudden, unexpected, involuntary and external event. This event results directly in bodily injury that can be detected objectively by a medical professional. This applies even if you did not and could not reasonably foresee the event. We consider an acute, serious illness to be equivalent to an accident when: - medical care is required immediately on medical grounds and cannot be postponed, or an illness or condition is life-threatening; and - the healthcare required is covered by the general insurance policy; and - based on objective medical standards, no recovery can be expected within the next six months.\n",
    "Example of an accident.\n",
    "- an infected wound or blood poisoning; - sprains, dislocations and tears of the muscles and ligaments; - involuntary ingestion of or poisoning with gases, vapours, liquid or solid substances or objects, unless this is through the conscious use of alcohol, medicine or drugs; - infection by exposure to pathogens or due to poisoning during an involuntary fall into water or any other substance (liquid or otherwise), or if you enter it yourself to save a person, animal or object; - drowning, suffocation, frostbite, hypothermia, sunstroke, burning (except as the result of sunbathing), lightning strike or other electrical discharge, or coming into contact with a corrosive substance; - natural violence such as an earthquake, flood, tsunami (tidal wave), hurricane, or volcanic eruption; - starvation, dehydration and exhaustion; - complications or aggravation of injuries as the result of medically required treatment after an accident; - becoming infected with HIV through a blood transfusion or injection with a contaminated needle while being treated in a hospital.\n",
    "Admission\n",
    "A period of nursing and treatment with an overnight stay in a department set up for nursing in a specialist medical care facility (such as a hospital). The admission must be a medical necessity in terms of medical healthcare. However, this does not include a stay in an outpatient clinic, nor day care or urgent medical care, nor a stay in a facility for rehabilitation. Your general insurance policy covers admissions of up to 1095 (3 x 365) consecutive days. The following rules apply here: - if your admission is interrupted for less than 31 days, the number of days of the interruption do not count, but we will continue to count after the interruption to determine the total; - if your admission is interrupted for a period of more than 30 days, we start counting again from the beginning to determine the total; - if your admission is interrupted for weekend/holiday leave, the number of days of interruption counts towards the total number of days.\n",
    "Policy (document)\n",
    "Proof of insurance.\n",
    "‘Nationale-Nederlanden Zorg Vrij’ (‘Combinatie health insurance policy) valid from 01-01-2024 to 31-12-2024 (inclusive)\n",
    "Appendix Definitions\n",
    "Page 177 of 205\n",
    " \n",
    "Reimbursements and terms and conditions for 2024\n",
    " Written\n",
    "A physical or electronic means of conveying information, whereby the information can be understood, stored and reproduced. An electronic means of conveying information includes the internet and emails. Written communication includes by letter, email and through the ‘Mijn’ environment on our website.\n",
    "Urgent medical care\n",
    "Healthcare that is a medical necessity and that cannot reasonably be postponed. The healthcare can reasonably be described as urgent in the general opinion of the group of relevant professional practitioners.\n",
    "Rate\n",
    "The amount of money for healthcare or the resources provided, which we take as the basis for reimbursement of that healthcare or those resources. We have different types of rates.\n",
    "Treaty country\n",
    "The Netherlands has a treaty for social security, including arrangements for the provision of medical healthcare, with the following states: Australia, Bosnia and Herzegovina, Cape Verde, Macedonia, Montenegro, Morocco, Serbia, Tunisia and Turkey.\n",
    "The following are also treaty countries:\n",
    "● all European Union (EU) member states other than the Netherlands;\n",
    "● all states that are party to the Agreement on the European Economic Area (EEA);\n",
    "● Switzerland;\n",
    "● the United Kingdom.\n",
    "Referral\n",
    "For certain types of healthcare, you must have a referral before a consultation or before the start of the healthcare. This referral is the advice from one healthcare provider to go to another healthcare provider for a consultation or for healthcare. In the terms and conditions, we list which healthcare provider must provide this referral under ‘referral’.\n",
    "Insured person\n",
    "The individual entitled to insured healthcare (and reimbursement thereof) in accordance with our terms and conditions of insurance. The policyholder may also be the insured person. In the terms and conditions of insurance, we refer to the insured person and the policyholder using ‘you’ and ‘your’. You can determine from the scope and content of the terms and conditions of insurance whether we mean the insured person or the policyholder. Where we refer to ‘he’, ‘him’ and ‘his’, this also means ‘she’ and ‘her’ and ‘her’ respectively.\n",
    "Insurance policy\n",
    "An insurance agreement may consist of a general insurance policy with one or more additional insurance packages.\n",
    "If the insurance consists of a combination of 2 or more insurance agreements, the combination can contain no more than one general insurance policy.\n",
    "Policyholder\n",
    "The person who takes out insurance with us, must pay the premium and costs and is the only person who can change and cancel the insurance. The policy is in the name of the policyholder. The policyholder may also be the insured person. In the terms and conditions of insurance, we refer to the insured person and the policyholder using ‘you’ and ‘your’. You can determine from the scope and content of the terms and conditions of insurance whether we mean the insured person or the policyholder. Where we refer to ‘he’, ‘him’ and ‘his’, this also means ‘she’ and ‘her’ and ‘her’ respectively.\n",
    "‘Nationale-Nederlanden Zorg Vrij’ (‘Combinatie health insurance policy) valid from 01-01-2024 to Page 178 of 205 31-12-2024 (inclusive)\n",
    "Appendix Definitions\n",
    " \n",
    "Reimbursements and terms and conditions for 2024\n",
    " Statutory personal contribution\n",
    "Healthcare that is covered under your general insurance policy and in relation to which you must pay the costs in full or in part yourself. Personal contributions are set by law. A statutory personal contribution may be a fixed amount per treatment or a set percentage of the costs. A statutory personal contribution is not the same as a deductible. Statutory personal contributions and deductibles may apply side by side for the same insured healthcare. This may mean you will be charged both a statutory personal contribution and a deductible.\n",
    "Statutory maximum rate\n",
    "The maximum rate set by the Dutch Healthcare Authority (‘Nederlandse Zorgautoriteit’, NZa) for certain types of healthcare, in accordance with the Dutch Healthcare (Market Regulation) Act (‘Wet marktordening gezondheidszorg’, Wmg). The rate used by a healthcare provider may be lower, but never higher.\n",
    "Statutory fixed rate\n",
    "The fixed rate set by the Dutch Healthcare Authority (‘Nederlandse Zorgautoriteit’, NZa) for certain types of healthcare, in accordance with the Dutch Healthcare (Market Regulation) Act (‘Wet marktordening gezondheidszorg’, Wmg). The rate used by a healthcare provider must be exactly the same as this rate. These rates are also known as set-point rates.\n",
    " ‘Nationale-Nederlanden Zorg Vrij’ (‘Combinatie health insurance policy) valid from 01-01-2024 to Page 179 of 205 31-12-2024 (inclusive)\n",
    "Appendix Definitions\n",
    "\n",
    "Reimbursements and terms and conditions for 2024\n",
    " Appendix General terms and conditions\n",
    "A.1A. Additional definitions\n",
    "General insurance policy\n",
    "Your general insurance policy is health insurance under the Dutch Health Insurance Act (‘Zorgverzekeringswet’, Zvw). The Dutch government determines the content and scope of your general insurance policy.\n",
    "Family members\n",
    "Family members living at the same address and who make up a shared household. By this we mean:\n",
    "● adults who are each other’s sole life partner;\n",
    "● children up to the age of 18 (including adopted children and foster children);\n",
    "● children aged 18 to 30 (inclusive) who are students (they do not have to be living at the same address as\n",
    "the policyholder);\n",
    "● a company or facility that has entered into a group agreement with us may also designate someone as a\n",
    "family member.\n",
    "A family member has their own policy or is co-insured on the policy of another family member.\n",
    "Health insurer\n",
    "Your health insurer is Centrale Zorgverzekeringen NZV NV, registered in the Trade Register of the Chamber of Commerce under number 27118912. This is a health insurer in accordance with the Dutch Health Insurance Act (‘Zorgverzekeringswet’, Zvw) that offers and/or administers health insurance. In these terms and conditions of insurance, ‘we’ or ‘us’ means NZV.\n",
    "\"\"\""
   ]
  },
  {
   "cell_type": "markdown",
   "metadata": {},
   "source": [
    "Define a prompt that describes the task for the LLM. "
   ]
  },
  {
   "cell_type": "code",
   "execution_count": 9,
   "metadata": {},
   "outputs": [],
   "source": [
    "system_prompt = \"You are a helpful assistant that finds definitions in a text. You will retrieve the descriptions for definitions in a piece of text. Also find the additional definitions. Based on the provided text you list the term/definition to it's complete meaning/description. The meaning must be only taken from the document and must contain the full description. Don't truncate these. The output should be nothing more than a string representation of the JSON-object. This string must be directly loaded into the python json.loads() function\""
   ]
  },
  {
   "cell_type": "code",
   "execution_count": 10,
   "metadata": {},
   "outputs": [],
   "source": [
    "message = [\n",
    "    (\"system\", system_prompt),\n",
    "    (\"human\", definition_text),\n",
    "]"
   ]
  },
  {
   "cell_type": "markdown",
   "metadata": {},
   "source": [
    "Invoke the LLM"
   ]
  },
  {
   "cell_type": "code",
   "execution_count": 11,
   "metadata": {},
   "outputs": [],
   "source": [
    "llm_answer = llm.invoke(message)"
   ]
  },
  {
   "cell_type": "code",
   "execution_count": 12,
   "metadata": {},
   "outputs": [],
   "source": [
    "json_obj = json.loads(llm_answer.content)"
   ]
  },
  {
   "cell_type": "code",
   "execution_count": 13,
   "metadata": {},
   "outputs": [
    {
     "data": {
      "text/plain": [
       "{'Additional insurance package': 'An agreement that you can take out in addition to your general insurance policy for the reimbursement of healthcare and healthcare costs. The content and scope of your additional insurance package is set by us. We have it laid down in your terms and conditions of insurance.',\n",
       " 'Agreed rate': 'The (average) rate we agree in contracts with healthcare providers for certain types of healthcare. These rates are available on our website.',\n",
       " 'AGB code': 'This code is a unique administrative code assigned to healthcare providers in the Netherlands, identifying each one individually in Vektis. Vektis is a national register containing all information necessary to submit claims for the healthcare, to purchase and contract the healthcare and to help guide insured persons to the right healthcare.',\n",
       " 'Treatment': 'Contact, physical or online, with one or more healthcare providers, involving the provision of healthcare and/or advice. Treatment does not include courses or training.',\n",
       " 'Treatment proposal (or prescription)': 'This proposal states which healthcare (examination, treatment or therapy) you need. You are given a prescription for medicine.',\n",
       " 'Abroad': 'Any country other than the country where you live.',\n",
       " 'CAK': 'The Dutch Central Administration Office (‘Centraal Administratie Kantoor’, CAK), as defined in Article 6.1.1, first paragraph, of the Dutch Long-Term Care Act (‘Wet langdurige zorg’, Wlz).',\n",
       " 'Consultation': 'Contact with a healthcare provider. This can involve advice, a referral, a discussion of a patient’s medical history, a physical examination, diagnosis and/or additional tests where such is deemed medically necessary.',\n",
       " 'Day treatment': 'Healthcare in a department set up for day nursing in a facility for specialist medical healthcare (such as a hospital or independent treatment centre). This may also involve a medical examination or treatment in a rehabilitation facility. The healthcare is generally foreseeable and lasts for a number of hours. The patient is not admitted.',\n",
       " 'DBC healthcare product': 'A Diagnosis-Treatment Combination (‘Diagnose Behandel Combinatie’, DBC healthcare product or DBC) is a code that describes the entire process of treatment under specialist medical healthcare. A DBC includes all the costs incurred by the healthcare provider to give you the right healthcare. So it also includes costs not directly related to your treatment. The rate for a DBC is based on an average of the costs incurred for a particular course of treatment. The start date of a DBC is the date of first contact with the healthcare provider and determines the reimbursement. The bill is settled on the DBC start date. If the commencement date for a DBC is outside of the term of your insurance, none of the costs associated with that DBC are covered. In addition to a DBC, a hospital may charge for treatments categorised as other healthcare products (‘overige zorgproducten’, OZP). These are often single treatments that are not associated with a course of treatment. For example, diagnostics requested by the general practitioner, such as an ultrasound or X-ray, or diagnostics for dental surgery. Specific expensive healthcare is also claimed under other healthcare products. Examples here include intensive care, expensive medicines and blood products.',\n",
       " 'Diagnostics': 'Determination of the medical cause of the patient’s problem, illness or condition.',\n",
       " 'EU/EEA member state': 'The EU (European Union) member states are: Austria, Belgium, Bulgaria, Croatia, Cyprus (Greek part), Czech Republic, Denmark, Estonia, Finland, France (including French Guyana, Guadeloupe, Martinique, Réunion, Saint Barthélemy and Saint Martin), Germany, Greece, Hungary, Ireland, Italy, Latvia, Lithuania, Luxembourg, Malta, Netherlands, Poland, Portugal (including the Azores and Madeira), Romania, Slovakia, Slovenia, Spain (including the Canary Islands, Ceuta and Melilla) and Sweden. Under international treaties, Switzerland is considered to be on a par with the above. The following are not part of the EU (this list is not exhaustive): Andorra, the Channel Islands, the Isle of Man, Monaco, San Marino and Vatican City. The EEA (European Economic Area) states are: the aforementioned EU states, Iceland, Liechtenstein and Norway. Explanation: On 31 January 2020, the United Kingdom, including Gibraltar, left the European Union.',\n",
       " 'Claimed rate': 'The amount stated on the invoice. Reimbursement will never exceed the costs of healthcare that you have actually incurred, and that you were invoiced for.',\n",
       " 'Medical aids on loan': 'These are medical aids that you may use as long as you are insured for them with us. We or the healthcare provider will enter into a loan agreement with you for this purpose. This agreement specifies your rights and obligations in respect of the medical aid you have on loan. You must return the medical aid upon termination of your insurance policy. We pay the reimbursement directly to the healthcare provider if you receive the medical aid on loan from a contracted healthcare provider. If you purchase a medical aid from a non-contracted healthcare provider and that aid would usually be provided on loan, you will not automatically be reimbursed for the full purchase value. We will reimburse you the costs involved in using the medical aid for an entire year in the same way as we reimburse these costs with a contracted healthcare provider. You do not need to pay any costs for medical aids on loan, so you do not pay a deductible for them. The deductible does apply, however, to the costs of consumables and usage associated with the medical aid that we lend you.',\n",
       " 'Owned medical aids': 'These are medical aids that transfer to your possession under your terms and conditions of insurance. You will acquire ownership of them. The purchase costs will be set off against your deductible. If a medical aid transfers to your possession, it is strictly for your own use. You may not sell it to anyone.',\n",
       " 'Year': 'A calendar year. However, when referring to someone’s age, we do not mean a calendar year. We simply mean a year in the person’s life.',\n",
       " 'Month': 'A calendar month.',\n",
       " 'Market rate applicable in the Netherlands': 'This is the rate that is reasonable and appropriate in the Dutch market for a given treatment. To determine this rate, we look at what amounts healthcare providers charge on average for that treatment. This means that we will not reimburse unreasonably high costs of treatment in full. See also Article 2.2., clause 2, paragraph b, of the Dutch Health Insurance Decree (‘Besluit zorgverzekering’).',\n",
       " '(Medical) adviser': 'The doctor, pharmacist, dentist, physiotherapist or other expert who advises us. This includes advice on medical, pharmacotherapy-related, dental or physiotherapy-related healthcare or any other field of healthcare expertise.',\n",
       " 'Medical indication/grounds': 'The medical condition or illness that a doctor suspects or has diagnosed so that you can access certain healthcare.',\n",
       " 'Accident': 'A sudden, unexpected, involuntary and external event. This event results directly in bodily injury that can be detected objectively by a medical professional. This applies even if you did not and could not reasonably foresee the event. We consider an acute, serious illness to be equivalent to an accident when: - medical care is required immediately on medical grounds and cannot be postponed, or an illness or condition is life-threatening; and - the healthcare required is covered by the general insurance policy; and - based on objective medical standards, no recovery can be expected within the next six months. Example of an accident. - an infected wound or blood poisoning; - sprains, dislocations and tears of the muscles and ligaments; - involuntary ingestion of or poisoning with gases, vapours, liquid or solid substances or objects, unless this is through the conscious use of alcohol, medicine or drugs; - infection by exposure to pathogens or due to poisoning during an involuntary fall into water or any other substance (liquid or otherwise), or if you enter it yourself to save a person, animal or object; - drowning, suffocation, frostbite, hypothermia, sunstroke, burning (except as the result of sunbathing), lightning strike or other electrical discharge, or coming into contact with a corrosive substance; - natural violence such as an earthquake, flood, tsunami (tidal wave), hurricane, or volcanic eruption; - starvation, dehydration and exhaustion; - complications or aggravation of injuries as the result of medically required treatment after an accident; - becoming infected with HIV through a blood transfusion or injection with a contaminated needle while being treated in a hospital.',\n",
       " 'Admission': 'A period of nursing and treatment with an overnight stay in a department set up for nursing in a specialist medical care facility (such as a hospital). The admission must be a medical necessity in terms of medical healthcare. However, this does not include a stay in an outpatient clinic, nor day care or urgent medical care, nor a stay in a facility for rehabilitation. Your general insurance policy covers admissions of up to 1095 (3 x 365) consecutive days. The following rules apply here: - if your admission is interrupted for less than 31 days, the number of days of the interruption do not count, but we will continue to count after the interruption to determine the total; - if your admission is interrupted for a period of more than 30 days, we start counting again from the beginning to determine the total; - if your admission is interrupted for weekend/holiday leave, the number of days of interruption counts towards the total number of days.',\n",
       " 'Policy (document)': 'Proof of insurance.',\n",
       " 'Written': 'A physical or electronic means of conveying information, whereby the information can be understood, stored and reproduced. An electronic means of conveying information includes the internet and emails. Written communication includes by letter, email and through the ‘Mijn’ environment on our website.',\n",
       " 'Urgent medical care': 'Healthcare that is a medical necessity and that cannot reasonably be postponed. The healthcare can reasonably be described as urgent in the general opinion of the group of relevant professional practitioners.',\n",
       " 'Rate': 'The amount of money for healthcare or the resources provided, which we take as the basis for reimbursement of that healthcare or those resources. We have different types of rates.',\n",
       " 'Treaty country': 'The Netherlands has a treaty for social security, including arrangements for the provision of medical healthcare, with the following states: Australia, Bosnia and Herzegovina, Cape Verde, Macedonia, Montenegro, Morocco, Serbia, Tunisia and Turkey. The following are also treaty countries: ● all European Union (EU) member states other than the Netherlands; ● all states that are party to the Agreement on the European Economic Area (EEA); ● Switzerland; ● the United Kingdom.',\n",
       " 'Referral': 'For certain types of healthcare, you must have a referral before a consultation or before the start of the healthcare. This referral is the advice from one healthcare provider to go to another healthcare provider for a consultation or for healthcare. In the terms and conditions, we list which healthcare provider must provide this referral under ‘referral’.',\n",
       " 'Insured person': 'The individual entitled to insured healthcare (and reimbursement thereof) in accordance with our terms and conditions of insurance. The policyholder may also be the insured person. In the terms and conditions of insurance, we refer to the insured person and the policyholder using ‘you’ and ‘your’. You can determine from the scope and content of the terms and conditions of insurance whether we mean the insured person or the policyholder. Where we refer to ‘he’, ‘him’ and ‘his’, this also means ‘she’ and ‘her’ and ‘her’ respectively.',\n",
       " 'Insurance policy': 'An insurance agreement may consist of a general insurance policy with one or more additional insurance packages. If the insurance consists of a combination of 2 or more insurance agreements, the combination can contain no more than one general insurance policy.',\n",
       " 'Policyholder': 'The person who takes out insurance with us, must pay the premium and costs and is the only person who can change and cancel the insurance. The policy is in the name of the policyholder. The policyholder may also be the insured person. In the terms and conditions of insurance, we refer to the insured person and the policyholder using ‘you’ and ‘your’. You can determine from the scope and content of the terms and conditions of insurance whether we mean the insured person or the policyholder. Where we refer to ‘he’, ‘him’ and ‘his’, this also means ‘she’ and ‘her’ and ‘her’ respectively.',\n",
       " 'Statutory personal contribution': 'Healthcare that is covered under your general insurance policy and in relation to which you must pay the costs in full or in part yourself. Personal contributions are set by law. A statutory personal contribution may be a fixed amount per treatment or a set percentage of the costs. A statutory personal contribution is not the same as a deductible. Statutory personal contributions and deductibles may apply side by side for the same insured healthcare. This may mean you will be charged both a statutory personal contribution and a deductible.',\n",
       " 'Statutory maximum rate': 'The maximum rate set by the Dutch Healthcare Authority (‘Nederlandse Zorgautoriteit’, NZa) for certain types of healthcare, in accordance with the Dutch Healthcare (Market Regulation) Act (‘Wet marktordening gezondheidszorg’, Wmg). The rate used by a healthcare provider may be lower, but never higher.',\n",
       " 'Statutory fixed rate': 'The fixed rate set by the Dutch Healthcare Authority (‘Nederlandse Zorgautoriteit’, NZa) for certain types of healthcare, in accordance with the Dutch Healthcare (Market Regulation) Act (‘Wet marktordening gezondheidszorg’, Wmg). The rate used by a healthcare provider must be exactly the same as this rate. These rates are also known as set-point rates.'}"
      ]
     },
     "execution_count": 13,
     "metadata": {},
     "output_type": "execute_result"
    }
   ],
   "source": [
    "json_obj"
   ]
  },
  {
   "cell_type": "markdown",
   "metadata": {},
   "source": [
    "### Load Definitions to Neo4j"
   ]
  },
  {
   "cell_type": "markdown",
   "metadata": {},
   "source": [
    "Create dataframe from the JSON"
   ]
  },
  {
   "cell_type": "code",
   "execution_count": 14,
   "metadata": {},
   "outputs": [],
   "source": [
    "definitions_df = pd.DataFrame.from_dict(json_obj, orient='index').reset_index()\n",
    "definitions_df.columns = ['definition', 'description']\n",
    "definitions_df = definitions_df.reset_index()"
   ]
  },
  {
   "cell_type": "code",
   "execution_count": 15,
   "metadata": {},
   "outputs": [
    {
     "data": {
      "text/html": [
       "<div>\n",
       "<style scoped>\n",
       "    .dataframe tbody tr th:only-of-type {\n",
       "        vertical-align: middle;\n",
       "    }\n",
       "\n",
       "    .dataframe tbody tr th {\n",
       "        vertical-align: top;\n",
       "    }\n",
       "\n",
       "    .dataframe thead th {\n",
       "        text-align: right;\n",
       "    }\n",
       "</style>\n",
       "<table border=\"1\" class=\"dataframe\">\n",
       "  <thead>\n",
       "    <tr style=\"text-align: right;\">\n",
       "      <th></th>\n",
       "      <th>index</th>\n",
       "      <th>definition</th>\n",
       "      <th>description</th>\n",
       "    </tr>\n",
       "  </thead>\n",
       "  <tbody>\n",
       "    <tr>\n",
       "      <th>0</th>\n",
       "      <td>0</td>\n",
       "      <td>Additional insurance package</td>\n",
       "      <td>An agreement that you can take out in addition...</td>\n",
       "    </tr>\n",
       "    <tr>\n",
       "      <th>1</th>\n",
       "      <td>1</td>\n",
       "      <td>Agreed rate</td>\n",
       "      <td>The (average) rate we agree in contracts with ...</td>\n",
       "    </tr>\n",
       "    <tr>\n",
       "      <th>2</th>\n",
       "      <td>2</td>\n",
       "      <td>AGB code</td>\n",
       "      <td>This code is a unique administrative code assi...</td>\n",
       "    </tr>\n",
       "    <tr>\n",
       "      <th>3</th>\n",
       "      <td>3</td>\n",
       "      <td>Treatment</td>\n",
       "      <td>Contact, physical or online, with one or more ...</td>\n",
       "    </tr>\n",
       "    <tr>\n",
       "      <th>4</th>\n",
       "      <td>4</td>\n",
       "      <td>Treatment proposal (or prescription)</td>\n",
       "      <td>This proposal states which healthcare (examina...</td>\n",
       "    </tr>\n",
       "    <tr>\n",
       "      <th>5</th>\n",
       "      <td>5</td>\n",
       "      <td>Abroad</td>\n",
       "      <td>Any country other than the country where you l...</td>\n",
       "    </tr>\n",
       "    <tr>\n",
       "      <th>6</th>\n",
       "      <td>6</td>\n",
       "      <td>CAK</td>\n",
       "      <td>The Dutch Central Administration Office (‘Cent...</td>\n",
       "    </tr>\n",
       "    <tr>\n",
       "      <th>7</th>\n",
       "      <td>7</td>\n",
       "      <td>Consultation</td>\n",
       "      <td>Contact with a healthcare provider. This can i...</td>\n",
       "    </tr>\n",
       "    <tr>\n",
       "      <th>8</th>\n",
       "      <td>8</td>\n",
       "      <td>Day treatment</td>\n",
       "      <td>Healthcare in a department set up for day nurs...</td>\n",
       "    </tr>\n",
       "    <tr>\n",
       "      <th>9</th>\n",
       "      <td>9</td>\n",
       "      <td>DBC healthcare product</td>\n",
       "      <td>A Diagnosis-Treatment Combination (‘Diagnose B...</td>\n",
       "    </tr>\n",
       "    <tr>\n",
       "      <th>10</th>\n",
       "      <td>10</td>\n",
       "      <td>Diagnostics</td>\n",
       "      <td>Determination of the medical cause of the pati...</td>\n",
       "    </tr>\n",
       "    <tr>\n",
       "      <th>11</th>\n",
       "      <td>11</td>\n",
       "      <td>EU/EEA member state</td>\n",
       "      <td>The EU (European Union) member states are: Aus...</td>\n",
       "    </tr>\n",
       "    <tr>\n",
       "      <th>12</th>\n",
       "      <td>12</td>\n",
       "      <td>Claimed rate</td>\n",
       "      <td>The amount stated on the invoice. Reimbursemen...</td>\n",
       "    </tr>\n",
       "    <tr>\n",
       "      <th>13</th>\n",
       "      <td>13</td>\n",
       "      <td>Medical aids on loan</td>\n",
       "      <td>These are medical aids that you may use as lon...</td>\n",
       "    </tr>\n",
       "    <tr>\n",
       "      <th>14</th>\n",
       "      <td>14</td>\n",
       "      <td>Owned medical aids</td>\n",
       "      <td>These are medical aids that transfer to your p...</td>\n",
       "    </tr>\n",
       "    <tr>\n",
       "      <th>15</th>\n",
       "      <td>15</td>\n",
       "      <td>Year</td>\n",
       "      <td>A calendar year. However, when referring to so...</td>\n",
       "    </tr>\n",
       "    <tr>\n",
       "      <th>16</th>\n",
       "      <td>16</td>\n",
       "      <td>Month</td>\n",
       "      <td>A calendar month.</td>\n",
       "    </tr>\n",
       "    <tr>\n",
       "      <th>17</th>\n",
       "      <td>17</td>\n",
       "      <td>Market rate applicable in the Netherlands</td>\n",
       "      <td>This is the rate that is reasonable and approp...</td>\n",
       "    </tr>\n",
       "    <tr>\n",
       "      <th>18</th>\n",
       "      <td>18</td>\n",
       "      <td>(Medical) adviser</td>\n",
       "      <td>The doctor, pharmacist, dentist, physiotherapi...</td>\n",
       "    </tr>\n",
       "    <tr>\n",
       "      <th>19</th>\n",
       "      <td>19</td>\n",
       "      <td>Medical indication/grounds</td>\n",
       "      <td>The medical condition or illness that a doctor...</td>\n",
       "    </tr>\n",
       "    <tr>\n",
       "      <th>20</th>\n",
       "      <td>20</td>\n",
       "      <td>Accident</td>\n",
       "      <td>A sudden, unexpected, involuntary and external...</td>\n",
       "    </tr>\n",
       "    <tr>\n",
       "      <th>21</th>\n",
       "      <td>21</td>\n",
       "      <td>Admission</td>\n",
       "      <td>A period of nursing and treatment with an over...</td>\n",
       "    </tr>\n",
       "    <tr>\n",
       "      <th>22</th>\n",
       "      <td>22</td>\n",
       "      <td>Policy (document)</td>\n",
       "      <td>Proof of insurance.</td>\n",
       "    </tr>\n",
       "    <tr>\n",
       "      <th>23</th>\n",
       "      <td>23</td>\n",
       "      <td>Written</td>\n",
       "      <td>A physical or electronic means of conveying in...</td>\n",
       "    </tr>\n",
       "    <tr>\n",
       "      <th>24</th>\n",
       "      <td>24</td>\n",
       "      <td>Urgent medical care</td>\n",
       "      <td>Healthcare that is a medical necessity and tha...</td>\n",
       "    </tr>\n",
       "    <tr>\n",
       "      <th>25</th>\n",
       "      <td>25</td>\n",
       "      <td>Rate</td>\n",
       "      <td>The amount of money for healthcare or the reso...</td>\n",
       "    </tr>\n",
       "    <tr>\n",
       "      <th>26</th>\n",
       "      <td>26</td>\n",
       "      <td>Treaty country</td>\n",
       "      <td>The Netherlands has a treaty for social securi...</td>\n",
       "    </tr>\n",
       "    <tr>\n",
       "      <th>27</th>\n",
       "      <td>27</td>\n",
       "      <td>Referral</td>\n",
       "      <td>For certain types of healthcare, you must have...</td>\n",
       "    </tr>\n",
       "    <tr>\n",
       "      <th>28</th>\n",
       "      <td>28</td>\n",
       "      <td>Insured person</td>\n",
       "      <td>The individual entitled to insured healthcare ...</td>\n",
       "    </tr>\n",
       "    <tr>\n",
       "      <th>29</th>\n",
       "      <td>29</td>\n",
       "      <td>Insurance policy</td>\n",
       "      <td>An insurance agreement may consist of a genera...</td>\n",
       "    </tr>\n",
       "    <tr>\n",
       "      <th>30</th>\n",
       "      <td>30</td>\n",
       "      <td>Policyholder</td>\n",
       "      <td>The person who takes out insurance with us, mu...</td>\n",
       "    </tr>\n",
       "    <tr>\n",
       "      <th>31</th>\n",
       "      <td>31</td>\n",
       "      <td>Statutory personal contribution</td>\n",
       "      <td>Healthcare that is covered under your general ...</td>\n",
       "    </tr>\n",
       "    <tr>\n",
       "      <th>32</th>\n",
       "      <td>32</td>\n",
       "      <td>Statutory maximum rate</td>\n",
       "      <td>The maximum rate set by the Dutch Healthcare A...</td>\n",
       "    </tr>\n",
       "    <tr>\n",
       "      <th>33</th>\n",
       "      <td>33</td>\n",
       "      <td>Statutory fixed rate</td>\n",
       "      <td>The fixed rate set by the Dutch Healthcare Aut...</td>\n",
       "    </tr>\n",
       "  </tbody>\n",
       "</table>\n",
       "</div>"
      ],
      "text/plain": [
       "    index                                 definition  \\\n",
       "0       0               Additional insurance package   \n",
       "1       1                                Agreed rate   \n",
       "2       2                                   AGB code   \n",
       "3       3                                  Treatment   \n",
       "4       4       Treatment proposal (or prescription)   \n",
       "5       5                                     Abroad   \n",
       "6       6                                        CAK   \n",
       "7       7                               Consultation   \n",
       "8       8                              Day treatment   \n",
       "9       9                     DBC healthcare product   \n",
       "10     10                                Diagnostics   \n",
       "11     11                        EU/EEA member state   \n",
       "12     12                               Claimed rate   \n",
       "13     13                       Medical aids on loan   \n",
       "14     14                         Owned medical aids   \n",
       "15     15                                       Year   \n",
       "16     16                                      Month   \n",
       "17     17  Market rate applicable in the Netherlands   \n",
       "18     18                          (Medical) adviser   \n",
       "19     19                 Medical indication/grounds   \n",
       "20     20                                   Accident   \n",
       "21     21                                  Admission   \n",
       "22     22                          Policy (document)   \n",
       "23     23                                    Written   \n",
       "24     24                        Urgent medical care   \n",
       "25     25                                       Rate   \n",
       "26     26                             Treaty country   \n",
       "27     27                                   Referral   \n",
       "28     28                             Insured person   \n",
       "29     29                           Insurance policy   \n",
       "30     30                               Policyholder   \n",
       "31     31            Statutory personal contribution   \n",
       "32     32                     Statutory maximum rate   \n",
       "33     33                       Statutory fixed rate   \n",
       "\n",
       "                                          description  \n",
       "0   An agreement that you can take out in addition...  \n",
       "1   The (average) rate we agree in contracts with ...  \n",
       "2   This code is a unique administrative code assi...  \n",
       "3   Contact, physical or online, with one or more ...  \n",
       "4   This proposal states which healthcare (examina...  \n",
       "5   Any country other than the country where you l...  \n",
       "6   The Dutch Central Administration Office (‘Cent...  \n",
       "7   Contact with a healthcare provider. This can i...  \n",
       "8   Healthcare in a department set up for day nurs...  \n",
       "9   A Diagnosis-Treatment Combination (‘Diagnose B...  \n",
       "10  Determination of the medical cause of the pati...  \n",
       "11  The EU (European Union) member states are: Aus...  \n",
       "12  The amount stated on the invoice. Reimbursemen...  \n",
       "13  These are medical aids that you may use as lon...  \n",
       "14  These are medical aids that transfer to your p...  \n",
       "15  A calendar year. However, when referring to so...  \n",
       "16                                  A calendar month.  \n",
       "17  This is the rate that is reasonable and approp...  \n",
       "18  The doctor, pharmacist, dentist, physiotherapi...  \n",
       "19  The medical condition or illness that a doctor...  \n",
       "20  A sudden, unexpected, involuntary and external...  \n",
       "21  A period of nursing and treatment with an over...  \n",
       "22                                Proof of insurance.  \n",
       "23  A physical or electronic means of conveying in...  \n",
       "24  Healthcare that is a medical necessity and tha...  \n",
       "25  The amount of money for healthcare or the reso...  \n",
       "26  The Netherlands has a treaty for social securi...  \n",
       "27  For certain types of healthcare, you must have...  \n",
       "28  The individual entitled to insured healthcare ...  \n",
       "29  An insurance agreement may consist of a genera...  \n",
       "30  The person who takes out insurance with us, mu...  \n",
       "31  Healthcare that is covered under your general ...  \n",
       "32  The maximum rate set by the Dutch Healthcare A...  \n",
       "33  The fixed rate set by the Dutch Healthcare Aut...  "
      ]
     },
     "execution_count": 15,
     "metadata": {},
     "output_type": "execute_result"
    }
   ],
   "source": [
    "definitions_df"
   ]
  },
  {
   "cell_type": "markdown",
   "metadata": {},
   "source": [
    "### Load Definition Nodes"
   ]
  },
  {
   "cell_type": "code",
   "execution_count": 16,
   "metadata": {},
   "outputs": [],
   "source": [
    "merge_definition_query = \"\"\"\n",
    "    MERGE(d:Definition {id: $index})\n",
    "        ON CREATE SET\n",
    "            d.definition = $definition,\n",
    "            d.description = $description\n",
    "    RETURN d\n",
    "\"\"\""
   ]
  },
  {
   "cell_type": "code",
   "execution_count": 17,
   "metadata": {},
   "outputs": [
    {
     "name": "stdout",
     "output_type": "stream",
     "text": [
      "Progress:  100.0 %\n"
     ]
    }
   ],
   "source": [
    "for index, row in definitions_df.iterrows():\n",
    "    clear_output(wait=True)\n",
    "    d = {\n",
    "        'index': row['index'],\n",
    "        'definition': row['definition'],\n",
    "        'description': row['description']\n",
    "    }\n",
    "    app.query_params(merge_definition_query, d)\n",
    "    print(\"Progress: \", np.round(((index+1)/definitions_df.shape[0])*100,2), \"%\")"
   ]
  },
  {
   "cell_type": "markdown",
   "metadata": {},
   "source": [
    "## Load CONTAINS relationship"
   ]
  },
  {
   "cell_type": "code",
   "execution_count": 18,
   "metadata": {},
   "outputs": [],
   "source": [
    "merge_contains_query = \"\"\"\n",
    "    MATCH (d:Definition{definition:$definition})\n",
    "    MATCH (c:Chunk)-[:PART_OF]->(p:Policy{file_name:$file_name})\n",
    "    WHERE toLower(c.chunk) CONTAINS toLower(d.definition)\n",
    "    MERGE (c)-[:MENTIONS]->(d)\n",
    "\"\"\""
   ]
  },
  {
   "cell_type": "code",
   "execution_count": 19,
   "metadata": {},
   "outputs": [
    {
     "name": "stdout",
     "output_type": "stream",
     "text": [
      "Progress:  100.0 %\n"
     ]
    }
   ],
   "source": [
    "file_name = 'NN_zorg_vrij_basic_2024.pdf'\n",
    "\n",
    "for index, row in definitions_df.iterrows():\n",
    "    clear_output(wait=True)\n",
    "    d = {\n",
    "        'definition': row['definition'],\n",
    "        'file_name': file_name\n",
    "    }\n",
    "    app.query_params(merge_contains_query, d)\n",
    "    print(\"Progress: \", np.round(((index+1)/definitions_df.shape[0])*100,2), \"%\")"
   ]
  }
 ],
 "metadata": {
  "createdOn": 1713166111835,
  "creator": "admin",
  "customFields": {},
  "hide_input": false,
  "kernelspec": {
   "display_name": "Python 3 (ipykernel)",
   "language": "python",
   "name": "python3"
  },
  "language_info": {
   "codemirror_mode": {
    "name": "ipython",
    "version": 3
   },
   "file_extension": ".py",
   "mimetype": "text/x-python",
   "name": "python",
   "nbconvert_exporter": "python",
   "pygments_lexer": "ipython3",
   "version": "3.9.18"
  },
  "modifiedBy": "admin",
  "tags": []
 },
 "nbformat": 4,
 "nbformat_minor": 4
}
