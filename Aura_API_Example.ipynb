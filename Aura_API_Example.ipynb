{
  "nbformat": 4,
  "nbformat_minor": 0,
  "metadata": {
    "colab": {
      "provenance": [],
      "include_colab_link": true
    },
    "kernelspec": {
      "name": "python3",
      "display_name": "Python 3"
    },
    "language_info": {
      "name": "python"
    }
  },
  "cells": [
    {
      "cell_type": "markdown",
      "metadata": {
        "id": "view-in-github",
        "colab_type": "text"
      },
      "source": [
        "<a href=\"https://colab.research.google.com/github/MarcoBessiNeo4j/Demos/blob/main/Aura_API_Example.ipynb\" target=\"_parent\"><img src=\"https://colab.research.google.com/assets/colab-badge.svg\" alt=\"Open In Colab\"/></a>"
      ]
    },
    {
      "cell_type": "markdown",
      "source": [
        "---\n",
        "\n",
        "\n",
        "# --------- Pre-requisites ---------\n",
        "\n",
        "\n",
        "---\n"
      ],
      "metadata": {
        "id": "HBa6sV4uBk8w"
      }
    },
    {
      "cell_type": "markdown",
      "source": [
        "# Set credentials & parameters"
      ],
      "metadata": {
        "id": "ikRI-pj9_QbK"
      }
    },
    {
      "cell_type": "markdown",
      "source": [
        "**Retrieve credentials from the Aura Enterprise Console**\n",
        "\n",
        "Go to Account settings / API keys / Generate API key"
      ],
      "metadata": {
        "id": "yUN_iGcZN_g4"
      }
    },
    {
      "cell_type": "code",
      "source": [
        "from google.colab import userdata"
      ],
      "metadata": {
        "id": "hVoWnZyDxeUe"
      },
      "execution_count": null,
      "outputs": []
    },
    {
      "cell_type": "code",
      "execution_count": null,
      "metadata": {
        "id": "by0RqhbcsbEJ"
      },
      "outputs": [],
      "source": [
        "# change with your client Id on the Aura Enterprise console\n",
        "clientId = userdata.get(\"CLIENT_ID\")\n",
        "\n",
        "# change with your client secret on the Aura Enterprise console\n",
        "clientSecret = userdata.get(\"CLIENT_SECRET\")\n",
        "\n",
        "# change with the name of a region your Aura account is provisioned for\n",
        "region = \"europe-west3\"  #'europe-west1'\n",
        "\n",
        "print('clientId: '+clientId);\n",
        "print('clientSecret: '+clientSecret);\n",
        "print('region: '+region)"
      ]
    },
    {
      "cell_type": "markdown",
      "source": [
        "# Get API access token"
      ],
      "metadata": {
        "id": "tM-iF4Lq9-FJ"
      }
    },
    {
      "cell_type": "code",
      "source": [
        "import requests\n",
        "\n",
        "data = {\n",
        "    'grant_type': 'client_credentials',\n",
        "}\n",
        "\n",
        "token_response = requests.post(\"https://api.neo4j.io/oauth/token\", data=data, auth=(clientId, clientSecret))\n",
        "\n",
        "print('HTTP '+str(token_response.status_code))\n",
        "print(token_response.json())"
      ],
      "metadata": {
        "id": "77TKpVqF9d1d"
      },
      "execution_count": null,
      "outputs": []
    },
    {
      "cell_type": "code",
      "source": [
        "accessToken = token_response.json()[\"access_token\"]\n",
        "headers = {\n",
        "    'Authorization': 'Bearer ' + accessToken,\n",
        "    'Content-Type': 'application/json'\n",
        "}\n",
        "\n",
        "print('accessToken: '+accessToken)\n",
        "print(headers)"
      ],
      "metadata": {
        "id": "k_QgklkUEvsH"
      },
      "execution_count": null,
      "outputs": []
    },
    {
      "cell_type": "markdown",
      "source": [
        "\n",
        "\n",
        "---\n",
        "\n",
        "\n",
        "# --------- Phase 1 ---------\n",
        "\n",
        "\n",
        "---\n",
        "\n"
      ],
      "metadata": {
        "id": "cEDKiJ-tjjkT"
      }
    },
    {
      "cell_type": "markdown",
      "source": [
        "# List instances"
      ],
      "metadata": {
        "id": "ZXtj5B7UFSAL"
      }
    },
    {
      "cell_type": "code",
      "source": [
        "response = requests.get('https://api.neo4j.io/v1beta5/instances', headers=headers)\n",
        "\n",
        "print('HTTP '+str(response.status_code))\n",
        "print(response.json())\n",
        "for instance in response.json()[\"data\"]:\n",
        "  print(instance)"
      ],
      "metadata": {
        "id": "PNsyoqSgE6Jz"
      },
      "execution_count": null,
      "outputs": []
    },
    {
      "cell_type": "markdown",
      "source": [
        "# Get tenant information"
      ],
      "metadata": {
        "id": "czBONV9Q0FaZ"
      }
    },
    {
      "cell_type": "code",
      "source": [
        "idTenant='TO_PUT_HERE_ID_TENANT'\n",
        "response = requests.get('https://api.neo4j.io/v1beta5/tenants/' + idTenant, headers=headers)\n",
        "\n",
        "print('HTTP '+str(response.status_code))\n",
        "print(response.json())"
      ],
      "metadata": {
        "id": "NfoWKxMkz5rV"
      },
      "execution_count": null,
      "outputs": []
    },
    {
      "cell_type": "code",
      "source": [
        "# prompt: prettify json result\n",
        "\n",
        "import json\n",
        "\n",
        "# Assuming the last response.json() is the one you want to prettify\n",
        "pretty_json_output = json.dumps(response.json(), indent=2)\n",
        "pretty_json_output"
      ],
      "metadata": {
        "id": "L53Y5uBi0jKj"
      },
      "execution_count": null,
      "outputs": []
    },
    {
      "cell_type": "markdown",
      "source": [
        "# Create instance"
      ],
      "metadata": {
        "id": "hBu7zD_7GJWm"
      }
    },
    {
      "cell_type": "code",
      "source": [
        "# https://neo4j.com/docs/aura/platform/api/specification/#/instances/post-instances\n",
        "json_data = {\n",
        "  \"version\": \"5\",\n",
        "  \"region\": \"europe-west1\",\n",
        "  \"memory\": \"8GB\",\n",
        "  \"storage\": \"16GB\",\n",
        "  \"name\": \"Instance02\",\n",
        "  \"type\": \"enterprise-ds\",\n",
        "  \"tenant_id\": \"YOUR_PROJECT_ID\",\n",
        "  \"cloud_provider\": \"gcp\"\n",
        "}\n",
        "\n",
        "create_response = requests.post('https://api.neo4j.io/v1beta5/instances', headers=headers, json=json_data)\n",
        "\n",
        "print('HTTP '+str(create_response.status_code))\n",
        "print(create_response.json())"
      ],
      "metadata": {
        "id": "Z9HLL1HfF7DT"
      },
      "execution_count": null,
      "outputs": []
    },
    {
      "cell_type": "markdown",
      "source": [
        "**Read useful values in response for later :**"
      ],
      "metadata": {
        "id": "3Mx2ZAZOB33e"
      }
    },
    {
      "cell_type": "code",
      "source": [
        "boltEndpoint = create_response.json()[\"data\"][\"connection_url\"]\n",
        "idAuraDb = create_response.json()[\"data\"][\"id\"]\n",
        "userName = create_response.json()[\"data\"][\"username\"]\n",
        "password = create_response.json()[\"data\"][\"password\"]\n",
        "print(\"boltEndpoint = \" + boltEndpoint)\n",
        "print(\"idAuraDb = \" + idAuraDb);\n",
        "print(\"userName = \" + userName);\n",
        "print(\"password = \" + password);"
      ],
      "metadata": {
        "id": "_q66xc83I6i4"
      },
      "execution_count": null,
      "outputs": []
    },
    {
      "cell_type": "markdown",
      "source": [
        "# Get instance details"
      ],
      "metadata": {
        "id": "aiKw3tkYG7E1"
      }
    },
    {
      "cell_type": "code",
      "source": [
        "idAuraDb='68049b7a'\n",
        "response = requests.get('https://api.neo4j.io/v1beta5/instances/' + idAuraDb, headers=headers)\n",
        "\n",
        "print('HTTP '+str(response.status_code))\n",
        "print(response.json())"
      ],
      "metadata": {
        "id": "k0Rx3IfuG-aG"
      },
      "execution_count": null,
      "outputs": []
    },
    {
      "cell_type": "markdown",
      "source": [
        "# Connect & add data"
      ],
      "metadata": {
        "id": "J_CiephzJP9m"
      }
    },
    {
      "cell_type": "markdown",
      "source": [
        "**Install a client app that can read & write to the database :**"
      ],
      "metadata": {
        "id": "fwhtLbi9COy5"
      }
    },
    {
      "cell_type": "code",
      "source": [
        "pip install neo4j"
      ],
      "metadata": {
        "id": "nai1mpNlJprQ"
      },
      "execution_count": null,
      "outputs": []
    },
    {
      "cell_type": "code",
      "source": [
        "from neo4j import GraphDatabase\n",
        "import logging\n",
        "from neo4j.exceptions import ServiceUnavailable\n",
        "\n",
        "class App:\n",
        "\n",
        "    def __init__(self, uri, user, password):\n",
        "        self.driver = GraphDatabase.driver(uri, auth=(user, password))\n",
        "\n",
        "    def close(self):\n",
        "        # Don't forget to close the driver connection when you are finished with it\n",
        "        self.driver.close()\n",
        "\n",
        "    def create_friendship(self, person1_name, person2_name):\n",
        "        with self.driver.session(database=\"neo4j\") as session:\n",
        "            # Write transactions allow the driver to handle retries and transient errors\n",
        "            result = session.execute_write(\n",
        "                self._create_and_return_friendship, person1_name, person2_name)\n",
        "            for row in result:\n",
        "                print(\"Created friendship between: {p1}, {p2}\".format(p1=row['p1'], p2=row['p2']))\n",
        "\n",
        "    @staticmethod\n",
        "    def _create_and_return_friendship(tx, person1_name, person2_name):\n",
        "        # To learn more about the Cypher syntax, see https://neo4j.com/docs/cypher-manual/current/\n",
        "        # The Reference Card is also a good resource for keywords https://neo4j.com/docs/cypher-refcard/current/\n",
        "        query = (\n",
        "            \"MERGE (p1:Person { name: $person1_name }) \"\n",
        "            \"MERGE (p2:Person { name: $person2_name }) \"\n",
        "            \"MERGE (p1)-[:KNOWS]->(p2) \"\n",
        "            \"RETURN p1, p2\"\n",
        "        )\n",
        "        result = tx.run(query, person1_name=person1_name, person2_name=person2_name)\n",
        "        try:\n",
        "            return [{\"p1\": row[\"p1\"][\"name\"], \"p2\": row[\"p2\"][\"name\"]}\n",
        "                    for row in result]\n",
        "        # Capture any errors along with the query and data for traceability\n",
        "        except ServiceUnavailable as exception:\n",
        "            logging.error(\"{query} raised an error: \\n {exception}\".format(\n",
        "                query=query, exception=exception))\n",
        "            raise\n",
        "\n",
        "    def find_person(self, person_name):\n",
        "        with self.driver.session(database=\"neo4j\") as session:\n",
        "            result = session.execute_read(self._find_and_return_person, person_name)\n",
        "            if len(result) ==0:\n",
        "                print(f\"No person found with name {person_name}\")\n",
        "            for row in result:\n",
        "                print(\"Found person: {row}\".format(row=row))\n",
        "\n",
        "    @staticmethod\n",
        "    def _find_and_return_person(tx, person_name):\n",
        "        query = (\n",
        "            \"MATCH (p:Person) \"\n",
        "            \"WHERE p.name = $person_name \"\n",
        "            \"RETURN p.name AS name\"\n",
        "        )\n",
        "        result = tx.run(query, person_name=person_name)\n",
        "        return [row[\"name\"] for row in result]"
      ],
      "metadata": {
        "id": "BQ5vSMcSJUvB"
      },
      "execution_count": null,
      "outputs": []
    },
    {
      "cell_type": "markdown",
      "source": [
        "**Run the app (write data, and read to check it worked) :**"
      ],
      "metadata": {
        "id": "twHYIczbCYrc"
      }
    },
    {
      "cell_type": "code",
      "source": [
        "    app = App(boltEndpoint, userName, password)\n",
        "    app.create_friendship(\"Alice\", \"David\")\n",
        "    app.find_person(\"Alice\")\n",
        "    app.find_person(\"David\")\n",
        "    app.close()"
      ],
      "metadata": {
        "id": "JZa3y5cI1zw9"
      },
      "execution_count": null,
      "outputs": []
    },
    {
      "cell_type": "markdown",
      "source": [
        "# Pause instance"
      ],
      "metadata": {
        "id": "Xv3rm9PQKqTs"
      }
    },
    {
      "cell_type": "code",
      "source": [
        "response = requests.post('https://api.neo4j.io/v1beta5/instances/' + idAuraDb + '/pause', headers=headers)\n",
        "\n",
        "print('HTTP '+str(response.status_code))\n",
        "print(response.json())"
      ],
      "metadata": {
        "id": "OQEOHHuhKtHz"
      },
      "execution_count": null,
      "outputs": []
    },
    {
      "cell_type": "markdown",
      "source": [
        "**Check status :**"
      ],
      "metadata": {
        "id": "RRGczHzCCsog"
      }
    },
    {
      "cell_type": "code",
      "source": [
        "response = requests.get('https://api.neo4j.io/v1beta5/instances/' + idAuraDb, headers=headers)\n",
        "\n",
        "print('HTTP '+str(response.status_code))\n",
        "print(response.json())"
      ],
      "metadata": {
        "id": "fiuorhf9Cx0h"
      },
      "execution_count": null,
      "outputs": []
    },
    {
      "cell_type": "markdown",
      "source": [
        "**Retry reading from neo4j database :**"
      ],
      "metadata": {
        "id": "E22NcHE-C5uP"
      }
    },
    {
      "cell_type": "code",
      "source": [
        "app = App(boltEndpoint, userName, password)\n",
        "app.find_person(\"Alice\")\n",
        "app.close()"
      ],
      "metadata": {
        "id": "nEHT7yztLU3I"
      },
      "execution_count": null,
      "outputs": []
    },
    {
      "cell_type": "markdown",
      "source": [
        "# Resume instance"
      ],
      "metadata": {
        "id": "Q1-mAuv8Megc"
      }
    },
    {
      "cell_type": "code",
      "source": [
        "response = requests.post('https://api.neo4j.io/v1beta5/instances/' + idAuraDb + '/resume', headers=headers)\n",
        "\n",
        "print('HTTP '+str(response.status_code))\n",
        "print(response.json())"
      ],
      "metadata": {
        "id": "9X_xBp-dMhmU"
      },
      "execution_count": null,
      "outputs": []
    },
    {
      "cell_type": "markdown",
      "source": [
        "**Check status :**"
      ],
      "metadata": {
        "id": "iEjXwbXFDZMy"
      }
    },
    {
      "cell_type": "code",
      "source": [
        "response = requests.get('https://api.neo4j.io/v1beta5/instances/' + idAuraDb, headers=headers)\n",
        "\n",
        "print('HTTP '+str(response.status_code))\n",
        "print(response.json())"
      ],
      "metadata": {
        "id": "AkMqruzUDZrR"
      },
      "execution_count": null,
      "outputs": []
    },
    {
      "cell_type": "markdown",
      "source": [
        "**Retry reading from neo4j database :**"
      ],
      "metadata": {
        "id": "-uRuykwjDjJP"
      }
    },
    {
      "cell_type": "code",
      "source": [
        "app = App(boltEndpoint, userName, password)\n",
        "app.find_person(\"Alice\")\n",
        "app.close()"
      ],
      "metadata": {
        "id": "FylDLzwvM8ao"
      },
      "execution_count": null,
      "outputs": []
    },
    {
      "cell_type": "markdown",
      "source": [
        "# Delete instance"
      ],
      "metadata": {
        "id": "COW2QtbxNhwl"
      }
    },
    {
      "cell_type": "code",
      "source": [
        "response = requests.delete('https://api.neo4j.io/v1beta5/instances/' + idAuraDb, headers=headers)\n",
        "\n",
        "print('HTTP '+str(response.status_code))\n",
        "print(response.json())"
      ],
      "metadata": {
        "id": "2A7krM9JNkFa"
      },
      "execution_count": null,
      "outputs": []
    },
    {
      "cell_type": "markdown",
      "source": [
        "**Check status :**\n"
      ],
      "metadata": {
        "id": "8-F0mUA8ED1q"
      }
    },
    {
      "cell_type": "code",
      "source": [
        "response = requests.get('https://api.neo4j.io/v1beta5/instances/' + idAuraDb, headers=headers)\n",
        "\n",
        "print('HTTP '+str(response.status_code))\n",
        "print(response.json())"
      ],
      "metadata": {
        "id": "8ZKYEdECEEUH"
      },
      "execution_count": null,
      "outputs": []
    },
    {
      "cell_type": "markdown",
      "source": [
        "\n",
        "\n",
        "---\n",
        "\n",
        "\n",
        "# --------- Phase 2 ---------\n",
        "\n",
        "\n",
        "---\n",
        "\n"
      ],
      "metadata": {
        "id": "CAw1W5OTfOBM"
      }
    },
    {
      "cell_type": "markdown",
      "source": [
        "# Take snapshot\n",
        "\n",
        "Pre-req : a running instance!\n",
        "\n",
        "If you just deleted the instance, go back to \"[Create instance](https://colab.research.google.com/drive/1ebpCW6AvS8dyhyhFSoUCucuo6fkyduCF#scrollTo=hBu7zD_7GJWm&line=1&uniqifier=1)\""
      ],
      "metadata": {
        "id": "1rq6r0lIhQc-"
      }
    },
    {
      "cell_type": "code",
      "source": [
        "idAuraDb=\"68049b7a\"\n",
        "response = requests.post(\"https://api.neo4j.io/v1beta5/instances/\"+idAuraDb+\"/snapshots\", headers=headers)\n",
        "\n",
        "print('HTTP '+str(response.status_code))\n",
        "print(response.json())"
      ],
      "metadata": {
        "id": "3Mpk7_y0hVq1"
      },
      "execution_count": null,
      "outputs": []
    },
    {
      "cell_type": "markdown",
      "source": [
        "# List snapshots\n",
        "\n",
        "\n",
        "\n",
        "\n"
      ],
      "metadata": {
        "id": "nV_l6itXfrUv"
      }
    },
    {
      "cell_type": "code",
      "source": [
        "from datetime import date\n",
        "\n",
        "date_filter=str(date.today()) # ISO8601 UTC date, ex: \"2023-01-20\"\n",
        "ss_response = requests.get(\"https://api.neo4j.io/v1beta5/instances/\"+idAuraDb+\"/snapshots?date=\"+date_filter, headers=headers)\n",
        "\n",
        "print('HTTP '+str(ss_response.status_code))\n",
        "print(ss_response.json())\n",
        "print(\"Snapshots:\")\n",
        "for snapshot in ss_response.json()[\"data\"]:\n",
        "  print(snapshot)"
      ],
      "metadata": {
        "id": "wc4MkcpXgScH",
        "collapsed": true
      },
      "execution_count": null,
      "outputs": []
    },
    {
      "cell_type": "markdown",
      "source": [
        "**Read id of last snapshot :**"
      ],
      "metadata": {
        "id": "cJxE1wiHEZ-f"
      }
    },
    {
      "cell_type": "code",
      "source": [
        "import urllib.parse\n",
        "\n",
        "snapshots_sorted = sorted(ss_response.json()[\"data\"], key=lambda s: s['timestamp'], reverse=True)\n",
        "last_snapshot_id = snapshots_sorted[0][\"snapshot_id\"]\n",
        "\n",
        "print(\"last_snapshot_id = \" + last_snapshot_id);\n",
        "\n",
        "# URL encoding should soon become unnecessary as snapshot_id format will change to uuid (ex :\"ea027a70-fc7d-4094-874d-2b094ff0521f\")\n",
        "last_snapshot_id=urllib.parse.quote(last_snapshot_id) #'2023-01-20T11%3A03%3A27Z-adhoc'\n",
        "print(\"last_snapshot_id (URL encoded) = \" + last_snapshot_id);"
      ],
      "metadata": {
        "id": "cPwoPprii9WT"
      },
      "execution_count": null,
      "outputs": []
    },
    {
      "cell_type": "markdown",
      "source": [
        "# Restore snapshot"
      ],
      "metadata": {
        "id": "L1aoRj5Dh3dk"
      }
    },
    {
      "cell_type": "markdown",
      "source": [
        "**Change data :**"
      ],
      "metadata": {
        "id": "Oy7-Zg38Euv-"
      }
    },
    {
      "cell_type": "code",
      "source": [
        "#change some data to prove backup/restore works : add \"Bob\"\n",
        "app = App(boltEndpoint, userName, password)\n",
        "app.create_friendship(\"Bob\", \"David\")\n",
        "app.find_person(\"Bob\")\n",
        "app.find_person(\"David\")\n",
        "app.close()"
      ],
      "metadata": {
        "id": "K_nEYPLribzY"
      },
      "execution_count": null,
      "outputs": []
    },
    {
      "cell_type": "markdown",
      "source": [
        "**Restore :**"
      ],
      "metadata": {
        "id": "UacnAWlCEox7"
      }
    },
    {
      "cell_type": "code",
      "source": [
        "response = requests.post(\"https://api.neo4j.io/v1beta5/instances/\"+idAuraDb+\"/snapshots/\"+last_snapshot_id+\"/restore\", headers=headers)\n",
        "\n",
        "print('HTTP '+str(response.status_code))\n",
        "print(response.json())"
      ],
      "metadata": {
        "id": "YC_9_YophmZE"
      },
      "execution_count": null,
      "outputs": []
    },
    {
      "cell_type": "markdown",
      "source": [
        "**Check status :**"
      ],
      "metadata": {
        "id": "CrdeOCASgyza"
      }
    },
    {
      "cell_type": "code",
      "source": [
        "response = requests.get('https://api.neo4j.io/v1beta5/instances/' + idAuraDb, headers=headers)\n",
        "\n",
        "print('HTTP '+str(response.status_code))\n",
        "print(response.json())"
      ],
      "metadata": {
        "id": "Mb6c-XylgzQ2"
      },
      "execution_count": null,
      "outputs": []
    },
    {
      "cell_type": "markdown",
      "source": [
        "**Check data :**"
      ],
      "metadata": {
        "id": "dziZGyIeE2xj"
      }
    },
    {
      "cell_type": "code",
      "source": [
        "#query to check that \"Bob\" is not there after restore\n",
        "app = App(boltEndpoint, userName, password)\n",
        "app.find_person(\"Alice\")\n",
        "app.find_person(\"David\")\n",
        "app.find_person(\"Bob\")\n",
        "app.close()"
      ],
      "metadata": {
        "id": "B0iDCm3pj2pD"
      },
      "execution_count": null,
      "outputs": []
    },
    {
      "cell_type": "markdown",
      "source": [
        "\n",
        "\n",
        "# Clone to new instance\n",
        "\n",
        "Same endpoint as \"create\". Extra field 'source_instance_id' in inputs."
      ],
      "metadata": {
        "id": "nB-eskDZkFQZ"
      }
    },
    {
      "cell_type": "code",
      "source": [
        "payload = {\n",
        "  \"version\": \"5\",\n",
        "  \"region\": \"europe-west1\",\n",
        "  \"memory\": \"8GB\",\n",
        "  \"storage\": \"16GB\",\n",
        "  \"name\": \"Instance02\",\n",
        "  \"type\": \"enterprise-ds\",\n",
        "  \"source_instance_id\": \"db1d1234\",\n",
        "  \"tenant_id\": \"YOUR_PROJECT_ID\",\n",
        "  \"cloud_provider\": \"gcp\"\n",
        "}\n",
        "\n",
        "clone_response = requests.post(\"https://api.neo4j.io/v1beta5/instances\", headers=headers, json=payload)\n",
        "\n",
        "print('HTTP '+str(clone_response.status_code))\n",
        "print(clone_response.json())"
      ],
      "metadata": {
        "id": "hcgTfu4KkMJp",
        "collapsed": true
      },
      "execution_count": null,
      "outputs": []
    },
    {
      "cell_type": "markdown",
      "source": [
        "**Read useful data in response for later :**"
      ],
      "metadata": {
        "id": "d8VNqxlvE9CG"
      }
    },
    {
      "cell_type": "code",
      "source": [
        "idCloneDb = clone_response.json()[\"data\"][\"id\"]\n",
        "clone_boltEndpoint = clone_response.json()[\"data\"][\"connection_url\"]\n",
        "clone_userName = clone_response.json()[\"data\"][\"username\"]\n",
        "clone_password = clone_response.json()[\"data\"][\"password\"]\n",
        "\n",
        "print(\"idCloneDb = \" + idCloneDb);\n",
        "print(\"clone_boltEndpoint = \" + clone_boltEndpoint)\n",
        "print(\"clone_userName = \" + clone_userName);\n",
        "print(\"clone_password = \" + clone_password);"
      ],
      "metadata": {
        "id": "X8SicOUOnJjS",
        "collapsed": true
      },
      "execution_count": null,
      "outputs": []
    },
    {
      "cell_type": "markdown",
      "source": [
        "**Check status :**"
      ],
      "metadata": {
        "id": "4OH0JynrBwna"
      }
    },
    {
      "cell_type": "code",
      "source": [
        "response = requests.get('https://api.neo4j.io/v1beta5/instances/' + idCloneDb, headers=headers)\n",
        "\n",
        "print('HTTP '+str(response.status_code))\n",
        "print(response.json())"
      ],
      "metadata": {
        "id": "xopZYAwqAjzs"
      },
      "execution_count": null,
      "outputs": []
    },
    {
      "cell_type": "markdown",
      "source": [
        "**Check data:**"
      ],
      "metadata": {
        "id": "E9ZY7lCIHHWn"
      }
    },
    {
      "cell_type": "code",
      "source": [
        "#query the data to verify it's present\n",
        "app = App(clone_boltEndpoint, userName, password)\n",
        "app.find_person(\"Alice\")\n",
        "app.find_person(\"David\")\n",
        "app.find_person(\"Bob\")\n",
        "app.close()"
      ],
      "metadata": {
        "id": "N7cM6NB2HI6p"
      },
      "execution_count": null,
      "outputs": []
    },
    {
      "cell_type": "markdown",
      "source": [
        "# Clone to existing instance (overwrite)"
      ],
      "metadata": {
        "id": "ufIQLg31l3Y1"
      }
    },
    {
      "cell_type": "markdown",
      "source": [
        "**Change data :**"
      ],
      "metadata": {
        "id": "yGOGboEfFSdy"
      }
    },
    {
      "cell_type": "code",
      "source": [
        "# change data on the clone, before overwriting it : add \"Bobby\"\n",
        "app = App(clone_boltEndpoint, clone_userName, clone_password)\n",
        "app.create_friendship(\"Bobby\", \"David\")\n",
        "app.find_person(\"Bobby\")\n",
        "app.close()"
      ],
      "metadata": {
        "id": "-ktPjRmTnWM7"
      },
      "execution_count": null,
      "outputs": []
    },
    {
      "cell_type": "markdown",
      "source": [
        "**Overwrite:**"
      ],
      "metadata": {
        "id": "lrTujkpWFXXm"
      }
    },
    {
      "cell_type": "code",
      "source": [
        "idSourceDb = '27dd2ab7' # idAuraDb\n",
        "idTargetDb = '13483f5a' # idCloneDb\n",
        "payload = {\n",
        "  \"source_instance_id\": idSourceDb\n",
        "}\n",
        "\n",
        "response = requests.post( \"https://api.neo4j.io/v1beta5/instances/\"+idTargetDb+\"/overwrite\", headers=headers, json=payload)\n",
        "\n",
        "print('HTTP '+str(response.status_code))\n",
        "print(response.json())"
      ],
      "metadata": {
        "id": "JFBnsJtnmDAt"
      },
      "execution_count": null,
      "outputs": []
    },
    {
      "cell_type": "markdown",
      "source": [
        "**Check status :**"
      ],
      "metadata": {
        "id": "mX9SOsA2BluS"
      }
    },
    {
      "cell_type": "code",
      "source": [
        "response = requests.get('https://api.neo4j.io/v1beta5/instances/' + idTargetDb, headers=headers)\n",
        "\n",
        "print('HTTP '+str(response.status_code))\n",
        "print(response.json())"
      ],
      "metadata": {
        "id": "QDEZjFfhArvw"
      },
      "execution_count": null,
      "outputs": []
    },
    {
      "cell_type": "code",
      "source": [
        "# check whether \"Bobby\" is still there\n",
        "app = App(clone_boltEndpoint, clone_userName, clone_password)\n",
        "app.find_person(\"Bobby\")\n",
        "app.close()"
      ],
      "metadata": {
        "id": "ezOCzdXhASIM"
      },
      "execution_count": null,
      "outputs": []
    },
    {
      "cell_type": "markdown",
      "source": [
        "# Rename & resize"
      ],
      "metadata": {
        "id": "I3REVQq6mCK9"
      }
    },
    {
      "cell_type": "code",
      "source": [
        "idModifiedDb='ec0ab5e0' #idAuraDb\n",
        "payload = {\n",
        "  \"memory\": '8GB',\n",
        "  \"name\" : 'teamaura_renamed'\n",
        "}\n",
        "\n",
        "response = requests.request(\"PATCH\", \"https://api.neo4j.io/v1beta5/instances/\"+idModifiedDb, headers=headers, json=payload)\n",
        "\n",
        "print('HTTP '+str(response.status_code))\n",
        "print(response.json())"
      ],
      "metadata": {
        "id": "cQAFP74UmHMk"
      },
      "execution_count": null,
      "outputs": []
    },
    {
      "cell_type": "markdown",
      "source": [
        "**Check status :**"
      ],
      "metadata": {
        "id": "w8IqfdHsFuB7"
      }
    },
    {
      "cell_type": "code",
      "source": [
        "response = requests.get('https://api.neo4j.io/v1beta5/instances/' + idModifiedDb, headers=headers)\n",
        "\n",
        "print('HTTP '+str(response.status_code))\n",
        "print(response.json())"
      ],
      "metadata": {
        "id": "QoDskuX_Fwtj"
      },
      "execution_count": null,
      "outputs": []
    },
    {
      "cell_type": "markdown",
      "source": [
        "# Tenants\n",
        "A user can discover which regions, instance types, cloud providers, and sizes they are allowed to create databases in\n"
      ],
      "metadata": {
        "id": "bOx6yBG9MEOT"
      }
    },
    {
      "cell_type": "markdown",
      "source": [
        "## List tenants"
      ],
      "metadata": {
        "id": "6WFuHBwLuz3k"
      }
    },
    {
      "cell_type": "code",
      "source": [
        "tenants_response = requests.get('https://api.neo4j.io/v1beta5/tenants', headers=headers)\n",
        "\n",
        "print('HTTP '+str(tenants_response.status_code))\n",
        "print(tenants_response.json())\n",
        "tenant_id = tenants_response.json()[\"data\"][0][\"id\"]\n",
        "print(tenant_id)"
      ],
      "metadata": {
        "id": "w2jlfV0KM0Le"
      },
      "execution_count": null,
      "outputs": []
    },
    {
      "cell_type": "markdown",
      "source": [
        "## Instance Catalog"
      ],
      "metadata": {
        "id": "GM7s0wIXumb5"
      }
    },
    {
      "cell_type": "code",
      "source": [
        "tenant_response = requests.get('https://api.neo4j.io/v1beta5/tenants/'+tenant_id, headers=headers)\n",
        "\n",
        "print('HTTP '+str(tenant_response.status_code))\n",
        "print(tenant_response.json())\n",
        "print(\"Instance configurations available: \")\n",
        "for config in tenant_response.json()[\"data\"][\"instance_configurations\"]:\n",
        "  print(config)"
      ],
      "metadata": {
        "id": "H6cPe8PvHUqI",
        "collapsed": true
      },
      "execution_count": null,
      "outputs": []
    },
    {
      "cell_type": "markdown",
      "source": [
        "# Cleanup"
      ],
      "metadata": {
        "id": "cOyUGhUNoc0m"
      }
    },
    {
      "cell_type": "code",
      "source": [
        "cleanup_response = requests.delete('https://api.neo4j.io/v1beta5/instances/' + idAuraDb, headers=headers)\n",
        "\n",
        "print('HTTP '+str(cleanup_response.status_code))\n",
        "print(cleanup_response.json())"
      ],
      "metadata": {
        "id": "tcAYQOfJmJcD"
      },
      "execution_count": null,
      "outputs": []
    },
    {
      "cell_type": "code",
      "source": [
        "cleanup_response = requests.delete('https://api.neo4j.io/v1beta5/instances/' + idCloneDb, headers=headers)\n",
        "\n",
        "print('HTTP '+str(cleanup_response.status_code))\n",
        "print(cleanup_response.json())"
      ],
      "metadata": {
        "id": "7HU_3ZKSojqm"
      },
      "execution_count": null,
      "outputs": []
    }
  ]
}